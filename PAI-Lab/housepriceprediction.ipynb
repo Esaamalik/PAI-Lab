{
 "cells": [
  {
   "cell_type": "code",
   "execution_count": 1,
   "id": "f835b988",
   "metadata": {
    "execution": {
     "iopub.execute_input": "2025-02-13T18:05:56.304411Z",
     "iopub.status.busy": "2025-02-13T18:05:56.304049Z",
     "iopub.status.idle": "2025-02-13T18:05:58.959647Z",
     "shell.execute_reply": "2025-02-13T18:05:58.958977Z"
    },
    "papermill": {
     "duration": 2.669295,
     "end_time": "2025-02-13T18:05:58.961208",
     "exception": false,
     "start_time": "2025-02-13T18:05:56.291913",
     "status": "completed"
    },
    "tags": []
   },
   "outputs": [],
   "source": [
    "import pandas as pd\n",
    "import seaborn as sns\n",
    "import joblib\n",
    "import matplotlib.pyplot as plt\n",
    "import xgboost as xgb\n",
    "\n",
    "from joblib import dump, load\n",
    "from sklearn.metrics import mean_squared_error, r2_score\n",
    "from sklearn.model_selection import train_test_split, cross_val_score, GridSearchCV\n",
    "from sklearn.linear_model import LinearRegression, Ridge, Lasso\n",
    "from sklearn.ensemble import RandomForestRegressor, GradientBoostingRegressor\n",
    "from sklearn.metrics import mean_squared_error\n",
    "from sklearn.preprocessing import StandardScaler\n",
    "from sklearn.decomposition import PCA\n",
    "from joblib import Parallel, delayed\n",
    "from sklearn.feature_selection import RFECV"
   ]
  },
  {
   "cell_type": "markdown",
   "id": "7c6b7925",
   "metadata": {
    "papermill": {
     "duration": 0.011629,
     "end_time": "2025-02-13T18:05:58.984681",
     "exception": false,
     "start_time": "2025-02-13T18:05:58.973052",
     "status": "completed"
    },
    "tags": []
   },
   "source": [
    "# House Price Prediction"
   ]
  },
  {
   "cell_type": "code",
   "execution_count": 2,
   "id": "a3ed773a",
   "metadata": {
    "_cell_guid": "b1076dfc-b9ad-4769-8c92-a6c4dae69d19",
    "_uuid": "8f2839f25d086af736a60e9eeb907d3b93b6e0e5",
    "execution": {
     "iopub.execute_input": "2025-02-13T18:05:59.006868Z",
     "iopub.status.busy": "2025-02-13T18:05:59.006485Z",
     "iopub.status.idle": "2025-02-13T18:05:59.012186Z",
     "shell.execute_reply": "2025-02-13T18:05:59.011476Z"
    },
    "papermill": {
     "duration": 0.018298,
     "end_time": "2025-02-13T18:05:59.013387",
     "exception": false,
     "start_time": "2025-02-13T18:05:58.995089",
     "status": "completed"
    },
    "tags": []
   },
   "outputs": [
    {
     "name": "stdout",
     "output_type": "stream",
     "text": [
      "/kaggle/input/home-data-for-ml-course/sample_submission.csv\n",
      "/kaggle/input/home-data-for-ml-course/sample_submission.csv.gz\n",
      "/kaggle/input/home-data-for-ml-course/train.csv.gz\n",
      "/kaggle/input/home-data-for-ml-course/data_description.txt\n",
      "/kaggle/input/home-data-for-ml-course/test.csv.gz\n",
      "/kaggle/input/home-data-for-ml-course/train.csv\n",
      "/kaggle/input/home-data-for-ml-course/test.csv\n"
     ]
    }
   ],
   "source": [
    "# This Python 3 environment comes with many helpful analytics libraries installed\n",
    "# It is defined by the kaggle/python Docker image: https://github.com/kaggle/docker-python\n",
    "# For example, here's several helpful packages to load\n",
    "\n",
    "import numpy as np # linear algebra\n",
    "import pandas as pd # data processing, CSV file I/O (e.g. pd.read_csv)\n",
    "\n",
    "# Input data files are available in the read-only \"../input/\" directory\n",
    "# For example, running this (by clicking run or pressing Shift+Enter) will list all files under the input directory\n",
    "\n",
    "import os\n",
    "for dirname, _, filenames in os.walk('/kaggle/input'):\n",
    "    for filename in filenames:\n",
    "        print(os.path.join(dirname, filename))\n",
    "\n",
    "# You can write up to 20GB to the current directory (/kaggle/working/) that gets preserved as output when you create a version using \"Save & Run All\" \n",
    "# You can also write temporary files to /kaggle/temp/, but they won't be saved outside of the current session"
   ]
  },
  {
   "cell_type": "code",
   "execution_count": 3,
   "id": "c964ba5c",
   "metadata": {
    "execution": {
     "iopub.execute_input": "2025-02-13T18:05:59.035240Z",
     "iopub.status.busy": "2025-02-13T18:05:59.035013Z",
     "iopub.status.idle": "2025-02-13T18:05:59.068119Z",
     "shell.execute_reply": "2025-02-13T18:05:59.067411Z"
    },
    "papermill": {
     "duration": 0.045485,
     "end_time": "2025-02-13T18:05:59.069640",
     "exception": false,
     "start_time": "2025-02-13T18:05:59.024155",
     "status": "completed"
    },
    "tags": []
   },
   "outputs": [
    {
     "name": "stdout",
     "output_type": "stream",
     "text": [
      "Success encoding: utf-8\n"
     ]
    }
   ],
   "source": [
    "def try_encodings(file_path):\n",
    "    #standard encodings we use\n",
    "    encodings = ['utf-8', 'latin1', 'iso-8859-1', 'windows-1252', 'ascii', 'utf-16', 'utf-32']\n",
    "\n",
    "    for encoding in encodings:\n",
    "        try:\n",
    "            df = pd.read_csv(file_path, encoding=encoding)\n",
    "            print(f\"Success encoding: {encoding}\")\n",
    "            return df\n",
    "        except Exception as e:\n",
    "            print(f\"Failed encoding: {encoding} - Error: {e}\")\n",
    "\n",
    "    print(\"None of the encodings worked correctly.\")\n",
    "    return None\n",
    "\n",
    "file_path = '/kaggle/input/home-data-for-ml-course/train.csv'\n",
    "\n",
    "df = try_encodings(file_path)"
   ]
  },
  {
   "cell_type": "code",
   "execution_count": 4,
   "id": "a10b4082",
   "metadata": {
    "execution": {
     "iopub.execute_input": "2025-02-13T18:05:59.092307Z",
     "iopub.status.busy": "2025-02-13T18:05:59.092107Z",
     "iopub.status.idle": "2025-02-13T18:05:59.122935Z",
     "shell.execute_reply": "2025-02-13T18:05:59.122250Z"
    },
    "papermill": {
     "duration": 0.043184,
     "end_time": "2025-02-13T18:05:59.124186",
     "exception": false,
     "start_time": "2025-02-13T18:05:59.081002",
     "status": "completed"
    },
    "tags": []
   },
   "outputs": [
    {
     "data": {
      "text/html": [
       "<div>\n",
       "<style scoped>\n",
       "    .dataframe tbody tr th:only-of-type {\n",
       "        vertical-align: middle;\n",
       "    }\n",
       "\n",
       "    .dataframe tbody tr th {\n",
       "        vertical-align: top;\n",
       "    }\n",
       "\n",
       "    .dataframe thead th {\n",
       "        text-align: right;\n",
       "    }\n",
       "</style>\n",
       "<table border=\"1\" class=\"dataframe\">\n",
       "  <thead>\n",
       "    <tr style=\"text-align: right;\">\n",
       "      <th></th>\n",
       "      <th>Id</th>\n",
       "      <th>MSSubClass</th>\n",
       "      <th>MSZoning</th>\n",
       "      <th>LotFrontage</th>\n",
       "      <th>LotArea</th>\n",
       "      <th>Street</th>\n",
       "      <th>Alley</th>\n",
       "      <th>LotShape</th>\n",
       "      <th>LandContour</th>\n",
       "      <th>Utilities</th>\n",
       "      <th>...</th>\n",
       "      <th>PoolArea</th>\n",
       "      <th>PoolQC</th>\n",
       "      <th>Fence</th>\n",
       "      <th>MiscFeature</th>\n",
       "      <th>MiscVal</th>\n",
       "      <th>MoSold</th>\n",
       "      <th>YrSold</th>\n",
       "      <th>SaleType</th>\n",
       "      <th>SaleCondition</th>\n",
       "      <th>SalePrice</th>\n",
       "    </tr>\n",
       "  </thead>\n",
       "  <tbody>\n",
       "    <tr>\n",
       "      <th>0</th>\n",
       "      <td>1</td>\n",
       "      <td>60</td>\n",
       "      <td>RL</td>\n",
       "      <td>65.0</td>\n",
       "      <td>8450</td>\n",
       "      <td>Pave</td>\n",
       "      <td>NaN</td>\n",
       "      <td>Reg</td>\n",
       "      <td>Lvl</td>\n",
       "      <td>AllPub</td>\n",
       "      <td>...</td>\n",
       "      <td>0</td>\n",
       "      <td>NaN</td>\n",
       "      <td>NaN</td>\n",
       "      <td>NaN</td>\n",
       "      <td>0</td>\n",
       "      <td>2</td>\n",
       "      <td>2008</td>\n",
       "      <td>WD</td>\n",
       "      <td>Normal</td>\n",
       "      <td>208500</td>\n",
       "    </tr>\n",
       "    <tr>\n",
       "      <th>1</th>\n",
       "      <td>2</td>\n",
       "      <td>20</td>\n",
       "      <td>RL</td>\n",
       "      <td>80.0</td>\n",
       "      <td>9600</td>\n",
       "      <td>Pave</td>\n",
       "      <td>NaN</td>\n",
       "      <td>Reg</td>\n",
       "      <td>Lvl</td>\n",
       "      <td>AllPub</td>\n",
       "      <td>...</td>\n",
       "      <td>0</td>\n",
       "      <td>NaN</td>\n",
       "      <td>NaN</td>\n",
       "      <td>NaN</td>\n",
       "      <td>0</td>\n",
       "      <td>5</td>\n",
       "      <td>2007</td>\n",
       "      <td>WD</td>\n",
       "      <td>Normal</td>\n",
       "      <td>181500</td>\n",
       "    </tr>\n",
       "    <tr>\n",
       "      <th>2</th>\n",
       "      <td>3</td>\n",
       "      <td>60</td>\n",
       "      <td>RL</td>\n",
       "      <td>68.0</td>\n",
       "      <td>11250</td>\n",
       "      <td>Pave</td>\n",
       "      <td>NaN</td>\n",
       "      <td>IR1</td>\n",
       "      <td>Lvl</td>\n",
       "      <td>AllPub</td>\n",
       "      <td>...</td>\n",
       "      <td>0</td>\n",
       "      <td>NaN</td>\n",
       "      <td>NaN</td>\n",
       "      <td>NaN</td>\n",
       "      <td>0</td>\n",
       "      <td>9</td>\n",
       "      <td>2008</td>\n",
       "      <td>WD</td>\n",
       "      <td>Normal</td>\n",
       "      <td>223500</td>\n",
       "    </tr>\n",
       "    <tr>\n",
       "      <th>3</th>\n",
       "      <td>4</td>\n",
       "      <td>70</td>\n",
       "      <td>RL</td>\n",
       "      <td>60.0</td>\n",
       "      <td>9550</td>\n",
       "      <td>Pave</td>\n",
       "      <td>NaN</td>\n",
       "      <td>IR1</td>\n",
       "      <td>Lvl</td>\n",
       "      <td>AllPub</td>\n",
       "      <td>...</td>\n",
       "      <td>0</td>\n",
       "      <td>NaN</td>\n",
       "      <td>NaN</td>\n",
       "      <td>NaN</td>\n",
       "      <td>0</td>\n",
       "      <td>2</td>\n",
       "      <td>2006</td>\n",
       "      <td>WD</td>\n",
       "      <td>Abnorml</td>\n",
       "      <td>140000</td>\n",
       "    </tr>\n",
       "    <tr>\n",
       "      <th>4</th>\n",
       "      <td>5</td>\n",
       "      <td>60</td>\n",
       "      <td>RL</td>\n",
       "      <td>84.0</td>\n",
       "      <td>14260</td>\n",
       "      <td>Pave</td>\n",
       "      <td>NaN</td>\n",
       "      <td>IR1</td>\n",
       "      <td>Lvl</td>\n",
       "      <td>AllPub</td>\n",
       "      <td>...</td>\n",
       "      <td>0</td>\n",
       "      <td>NaN</td>\n",
       "      <td>NaN</td>\n",
       "      <td>NaN</td>\n",
       "      <td>0</td>\n",
       "      <td>12</td>\n",
       "      <td>2008</td>\n",
       "      <td>WD</td>\n",
       "      <td>Normal</td>\n",
       "      <td>250000</td>\n",
       "    </tr>\n",
       "  </tbody>\n",
       "</table>\n",
       "<p>5 rows × 81 columns</p>\n",
       "</div>"
      ],
      "text/plain": [
       "   Id  MSSubClass MSZoning  LotFrontage  LotArea Street Alley LotShape  \\\n",
       "0   1          60       RL         65.0     8450   Pave   NaN      Reg   \n",
       "1   2          20       RL         80.0     9600   Pave   NaN      Reg   \n",
       "2   3          60       RL         68.0    11250   Pave   NaN      IR1   \n",
       "3   4          70       RL         60.0     9550   Pave   NaN      IR1   \n",
       "4   5          60       RL         84.0    14260   Pave   NaN      IR1   \n",
       "\n",
       "  LandContour Utilities  ... PoolArea PoolQC Fence MiscFeature MiscVal MoSold  \\\n",
       "0         Lvl    AllPub  ...        0    NaN   NaN         NaN       0      2   \n",
       "1         Lvl    AllPub  ...        0    NaN   NaN         NaN       0      5   \n",
       "2         Lvl    AllPub  ...        0    NaN   NaN         NaN       0      9   \n",
       "3         Lvl    AllPub  ...        0    NaN   NaN         NaN       0      2   \n",
       "4         Lvl    AllPub  ...        0    NaN   NaN         NaN       0     12   \n",
       "\n",
       "  YrSold  SaleType  SaleCondition  SalePrice  \n",
       "0   2008        WD         Normal     208500  \n",
       "1   2007        WD         Normal     181500  \n",
       "2   2008        WD         Normal     223500  \n",
       "3   2006        WD        Abnorml     140000  \n",
       "4   2008        WD         Normal     250000  \n",
       "\n",
       "[5 rows x 81 columns]"
      ]
     },
     "execution_count": 4,
     "metadata": {},
     "output_type": "execute_result"
    }
   ],
   "source": [
    "df.head()"
   ]
  },
  {
   "cell_type": "code",
   "execution_count": 5,
   "id": "c401ad5b",
   "metadata": {
    "execution": {
     "iopub.execute_input": "2025-02-13T18:05:59.146443Z",
     "iopub.status.busy": "2025-02-13T18:05:59.146246Z",
     "iopub.status.idle": "2025-02-13T18:05:59.151417Z",
     "shell.execute_reply": "2025-02-13T18:05:59.150809Z"
    },
    "papermill": {
     "duration": 0.017498,
     "end_time": "2025-02-13T18:05:59.152575",
     "exception": false,
     "start_time": "2025-02-13T18:05:59.135077",
     "status": "completed"
    },
    "tags": []
   },
   "outputs": [
    {
     "name": "stdout",
     "output_type": "stream",
     "text": [
      "feature : 81\n",
      "row : 1460\n"
     ]
    },
    {
     "data": {
      "text/plain": [
       "Index(['Id', 'MSSubClass', 'MSZoning', 'LotFrontage', 'LotArea', 'Street',\n",
       "       'Alley', 'LotShape', 'LandContour', 'Utilities', 'LotConfig',\n",
       "       'LandSlope', 'Neighborhood', 'Condition1', 'Condition2', 'BldgType',\n",
       "       'HouseStyle', 'OverallQual', 'OverallCond', 'YearBuilt', 'YearRemodAdd',\n",
       "       'RoofStyle', 'RoofMatl', 'Exterior1st', 'Exterior2nd', 'MasVnrType',\n",
       "       'MasVnrArea', 'ExterQual', 'ExterCond', 'Foundation', 'BsmtQual',\n",
       "       'BsmtCond', 'BsmtExposure', 'BsmtFinType1', 'BsmtFinSF1',\n",
       "       'BsmtFinType2', 'BsmtFinSF2', 'BsmtUnfSF', 'TotalBsmtSF', 'Heating',\n",
       "       'HeatingQC', 'CentralAir', 'Electrical', '1stFlrSF', '2ndFlrSF',\n",
       "       'LowQualFinSF', 'GrLivArea', 'BsmtFullBath', 'BsmtHalfBath', 'FullBath',\n",
       "       'HalfBath', 'BedroomAbvGr', 'KitchenAbvGr', 'KitchenQual',\n",
       "       'TotRmsAbvGrd', 'Functional', 'Fireplaces', 'FireplaceQu', 'GarageType',\n",
       "       'GarageYrBlt', 'GarageFinish', 'GarageCars', 'GarageArea', 'GarageQual',\n",
       "       'GarageCond', 'PavedDrive', 'WoodDeckSF', 'OpenPorchSF',\n",
       "       'EnclosedPorch', '3SsnPorch', 'ScreenPorch', 'PoolArea', 'PoolQC',\n",
       "       'Fence', 'MiscFeature', 'MiscVal', 'MoSold', 'YrSold', 'SaleType',\n",
       "       'SaleCondition', 'SalePrice'],\n",
       "      dtype='object')"
      ]
     },
     "execution_count": 5,
     "metadata": {},
     "output_type": "execute_result"
    }
   ],
   "source": [
    "print(f\"feature : {df.shape[1]}\\nrow : {df.shape[0]}\")\n",
    "df.columns"
   ]
  },
  {
   "cell_type": "code",
   "execution_count": 6,
   "id": "cb2e36ec",
   "metadata": {
    "execution": {
     "iopub.execute_input": "2025-02-13T18:05:59.174923Z",
     "iopub.status.busy": "2025-02-13T18:05:59.174712Z",
     "iopub.status.idle": "2025-02-13T18:05:59.248493Z",
     "shell.execute_reply": "2025-02-13T18:05:59.247620Z"
    },
    "papermill": {
     "duration": 0.086233,
     "end_time": "2025-02-13T18:05:59.249683",
     "exception": false,
     "start_time": "2025-02-13T18:05:59.163450",
     "status": "completed"
    },
    "tags": []
   },
   "outputs": [
    {
     "data": {
      "text/html": [
       "<div>\n",
       "<style scoped>\n",
       "    .dataframe tbody tr th:only-of-type {\n",
       "        vertical-align: middle;\n",
       "    }\n",
       "\n",
       "    .dataframe tbody tr th {\n",
       "        vertical-align: top;\n",
       "    }\n",
       "\n",
       "    .dataframe thead th {\n",
       "        text-align: right;\n",
       "    }\n",
       "</style>\n",
       "<table border=\"1\" class=\"dataframe\">\n",
       "  <thead>\n",
       "    <tr style=\"text-align: right;\">\n",
       "      <th></th>\n",
       "      <th>count</th>\n",
       "      <th>mean</th>\n",
       "      <th>std</th>\n",
       "      <th>min</th>\n",
       "      <th>25%</th>\n",
       "      <th>50%</th>\n",
       "      <th>75%</th>\n",
       "      <th>max</th>\n",
       "    </tr>\n",
       "  </thead>\n",
       "  <tbody>\n",
       "    <tr>\n",
       "      <th>Id</th>\n",
       "      <td>1460.0</td>\n",
       "      <td>730.500000</td>\n",
       "      <td>421.610009</td>\n",
       "      <td>1.0</td>\n",
       "      <td>365.75</td>\n",
       "      <td>730.5</td>\n",
       "      <td>1095.25</td>\n",
       "      <td>1460.0</td>\n",
       "    </tr>\n",
       "    <tr>\n",
       "      <th>MSSubClass</th>\n",
       "      <td>1460.0</td>\n",
       "      <td>56.897260</td>\n",
       "      <td>42.300571</td>\n",
       "      <td>20.0</td>\n",
       "      <td>20.00</td>\n",
       "      <td>50.0</td>\n",
       "      <td>70.00</td>\n",
       "      <td>190.0</td>\n",
       "    </tr>\n",
       "    <tr>\n",
       "      <th>LotFrontage</th>\n",
       "      <td>1201.0</td>\n",
       "      <td>70.049958</td>\n",
       "      <td>24.284752</td>\n",
       "      <td>21.0</td>\n",
       "      <td>59.00</td>\n",
       "      <td>69.0</td>\n",
       "      <td>80.00</td>\n",
       "      <td>313.0</td>\n",
       "    </tr>\n",
       "    <tr>\n",
       "      <th>LotArea</th>\n",
       "      <td>1460.0</td>\n",
       "      <td>10516.828082</td>\n",
       "      <td>9981.264932</td>\n",
       "      <td>1300.0</td>\n",
       "      <td>7553.50</td>\n",
       "      <td>9478.5</td>\n",
       "      <td>11601.50</td>\n",
       "      <td>215245.0</td>\n",
       "    </tr>\n",
       "    <tr>\n",
       "      <th>OverallQual</th>\n",
       "      <td>1460.0</td>\n",
       "      <td>6.099315</td>\n",
       "      <td>1.382997</td>\n",
       "      <td>1.0</td>\n",
       "      <td>5.00</td>\n",
       "      <td>6.0</td>\n",
       "      <td>7.00</td>\n",
       "      <td>10.0</td>\n",
       "    </tr>\n",
       "    <tr>\n",
       "      <th>OverallCond</th>\n",
       "      <td>1460.0</td>\n",
       "      <td>5.575342</td>\n",
       "      <td>1.112799</td>\n",
       "      <td>1.0</td>\n",
       "      <td>5.00</td>\n",
       "      <td>5.0</td>\n",
       "      <td>6.00</td>\n",
       "      <td>9.0</td>\n",
       "    </tr>\n",
       "    <tr>\n",
       "      <th>YearBuilt</th>\n",
       "      <td>1460.0</td>\n",
       "      <td>1971.267808</td>\n",
       "      <td>30.202904</td>\n",
       "      <td>1872.0</td>\n",
       "      <td>1954.00</td>\n",
       "      <td>1973.0</td>\n",
       "      <td>2000.00</td>\n",
       "      <td>2010.0</td>\n",
       "    </tr>\n",
       "    <tr>\n",
       "      <th>YearRemodAdd</th>\n",
       "      <td>1460.0</td>\n",
       "      <td>1984.865753</td>\n",
       "      <td>20.645407</td>\n",
       "      <td>1950.0</td>\n",
       "      <td>1967.00</td>\n",
       "      <td>1994.0</td>\n",
       "      <td>2004.00</td>\n",
       "      <td>2010.0</td>\n",
       "    </tr>\n",
       "    <tr>\n",
       "      <th>MasVnrArea</th>\n",
       "      <td>1452.0</td>\n",
       "      <td>103.685262</td>\n",
       "      <td>181.066207</td>\n",
       "      <td>0.0</td>\n",
       "      <td>0.00</td>\n",
       "      <td>0.0</td>\n",
       "      <td>166.00</td>\n",
       "      <td>1600.0</td>\n",
       "    </tr>\n",
       "    <tr>\n",
       "      <th>BsmtFinSF1</th>\n",
       "      <td>1460.0</td>\n",
       "      <td>443.639726</td>\n",
       "      <td>456.098091</td>\n",
       "      <td>0.0</td>\n",
       "      <td>0.00</td>\n",
       "      <td>383.5</td>\n",
       "      <td>712.25</td>\n",
       "      <td>5644.0</td>\n",
       "    </tr>\n",
       "    <tr>\n",
       "      <th>BsmtFinSF2</th>\n",
       "      <td>1460.0</td>\n",
       "      <td>46.549315</td>\n",
       "      <td>161.319273</td>\n",
       "      <td>0.0</td>\n",
       "      <td>0.00</td>\n",
       "      <td>0.0</td>\n",
       "      <td>0.00</td>\n",
       "      <td>1474.0</td>\n",
       "    </tr>\n",
       "    <tr>\n",
       "      <th>BsmtUnfSF</th>\n",
       "      <td>1460.0</td>\n",
       "      <td>567.240411</td>\n",
       "      <td>441.866955</td>\n",
       "      <td>0.0</td>\n",
       "      <td>223.00</td>\n",
       "      <td>477.5</td>\n",
       "      <td>808.00</td>\n",
       "      <td>2336.0</td>\n",
       "    </tr>\n",
       "    <tr>\n",
       "      <th>TotalBsmtSF</th>\n",
       "      <td>1460.0</td>\n",
       "      <td>1057.429452</td>\n",
       "      <td>438.705324</td>\n",
       "      <td>0.0</td>\n",
       "      <td>795.75</td>\n",
       "      <td>991.5</td>\n",
       "      <td>1298.25</td>\n",
       "      <td>6110.0</td>\n",
       "    </tr>\n",
       "    <tr>\n",
       "      <th>1stFlrSF</th>\n",
       "      <td>1460.0</td>\n",
       "      <td>1162.626712</td>\n",
       "      <td>386.587738</td>\n",
       "      <td>334.0</td>\n",
       "      <td>882.00</td>\n",
       "      <td>1087.0</td>\n",
       "      <td>1391.25</td>\n",
       "      <td>4692.0</td>\n",
       "    </tr>\n",
       "    <tr>\n",
       "      <th>2ndFlrSF</th>\n",
       "      <td>1460.0</td>\n",
       "      <td>346.992466</td>\n",
       "      <td>436.528436</td>\n",
       "      <td>0.0</td>\n",
       "      <td>0.00</td>\n",
       "      <td>0.0</td>\n",
       "      <td>728.00</td>\n",
       "      <td>2065.0</td>\n",
       "    </tr>\n",
       "    <tr>\n",
       "      <th>LowQualFinSF</th>\n",
       "      <td>1460.0</td>\n",
       "      <td>5.844521</td>\n",
       "      <td>48.623081</td>\n",
       "      <td>0.0</td>\n",
       "      <td>0.00</td>\n",
       "      <td>0.0</td>\n",
       "      <td>0.00</td>\n",
       "      <td>572.0</td>\n",
       "    </tr>\n",
       "    <tr>\n",
       "      <th>GrLivArea</th>\n",
       "      <td>1460.0</td>\n",
       "      <td>1515.463699</td>\n",
       "      <td>525.480383</td>\n",
       "      <td>334.0</td>\n",
       "      <td>1129.50</td>\n",
       "      <td>1464.0</td>\n",
       "      <td>1776.75</td>\n",
       "      <td>5642.0</td>\n",
       "    </tr>\n",
       "    <tr>\n",
       "      <th>BsmtFullBath</th>\n",
       "      <td>1460.0</td>\n",
       "      <td>0.425342</td>\n",
       "      <td>0.518911</td>\n",
       "      <td>0.0</td>\n",
       "      <td>0.00</td>\n",
       "      <td>0.0</td>\n",
       "      <td>1.00</td>\n",
       "      <td>3.0</td>\n",
       "    </tr>\n",
       "    <tr>\n",
       "      <th>BsmtHalfBath</th>\n",
       "      <td>1460.0</td>\n",
       "      <td>0.057534</td>\n",
       "      <td>0.238753</td>\n",
       "      <td>0.0</td>\n",
       "      <td>0.00</td>\n",
       "      <td>0.0</td>\n",
       "      <td>0.00</td>\n",
       "      <td>2.0</td>\n",
       "    </tr>\n",
       "    <tr>\n",
       "      <th>FullBath</th>\n",
       "      <td>1460.0</td>\n",
       "      <td>1.565068</td>\n",
       "      <td>0.550916</td>\n",
       "      <td>0.0</td>\n",
       "      <td>1.00</td>\n",
       "      <td>2.0</td>\n",
       "      <td>2.00</td>\n",
       "      <td>3.0</td>\n",
       "    </tr>\n",
       "    <tr>\n",
       "      <th>HalfBath</th>\n",
       "      <td>1460.0</td>\n",
       "      <td>0.382877</td>\n",
       "      <td>0.502885</td>\n",
       "      <td>0.0</td>\n",
       "      <td>0.00</td>\n",
       "      <td>0.0</td>\n",
       "      <td>1.00</td>\n",
       "      <td>2.0</td>\n",
       "    </tr>\n",
       "    <tr>\n",
       "      <th>BedroomAbvGr</th>\n",
       "      <td>1460.0</td>\n",
       "      <td>2.866438</td>\n",
       "      <td>0.815778</td>\n",
       "      <td>0.0</td>\n",
       "      <td>2.00</td>\n",
       "      <td>3.0</td>\n",
       "      <td>3.00</td>\n",
       "      <td>8.0</td>\n",
       "    </tr>\n",
       "    <tr>\n",
       "      <th>KitchenAbvGr</th>\n",
       "      <td>1460.0</td>\n",
       "      <td>1.046575</td>\n",
       "      <td>0.220338</td>\n",
       "      <td>0.0</td>\n",
       "      <td>1.00</td>\n",
       "      <td>1.0</td>\n",
       "      <td>1.00</td>\n",
       "      <td>3.0</td>\n",
       "    </tr>\n",
       "    <tr>\n",
       "      <th>TotRmsAbvGrd</th>\n",
       "      <td>1460.0</td>\n",
       "      <td>6.517808</td>\n",
       "      <td>1.625393</td>\n",
       "      <td>2.0</td>\n",
       "      <td>5.00</td>\n",
       "      <td>6.0</td>\n",
       "      <td>7.00</td>\n",
       "      <td>14.0</td>\n",
       "    </tr>\n",
       "    <tr>\n",
       "      <th>Fireplaces</th>\n",
       "      <td>1460.0</td>\n",
       "      <td>0.613014</td>\n",
       "      <td>0.644666</td>\n",
       "      <td>0.0</td>\n",
       "      <td>0.00</td>\n",
       "      <td>1.0</td>\n",
       "      <td>1.00</td>\n",
       "      <td>3.0</td>\n",
       "    </tr>\n",
       "    <tr>\n",
       "      <th>GarageYrBlt</th>\n",
       "      <td>1379.0</td>\n",
       "      <td>1978.506164</td>\n",
       "      <td>24.689725</td>\n",
       "      <td>1900.0</td>\n",
       "      <td>1961.00</td>\n",
       "      <td>1980.0</td>\n",
       "      <td>2002.00</td>\n",
       "      <td>2010.0</td>\n",
       "    </tr>\n",
       "    <tr>\n",
       "      <th>GarageCars</th>\n",
       "      <td>1460.0</td>\n",
       "      <td>1.767123</td>\n",
       "      <td>0.747315</td>\n",
       "      <td>0.0</td>\n",
       "      <td>1.00</td>\n",
       "      <td>2.0</td>\n",
       "      <td>2.00</td>\n",
       "      <td>4.0</td>\n",
       "    </tr>\n",
       "    <tr>\n",
       "      <th>GarageArea</th>\n",
       "      <td>1460.0</td>\n",
       "      <td>472.980137</td>\n",
       "      <td>213.804841</td>\n",
       "      <td>0.0</td>\n",
       "      <td>334.50</td>\n",
       "      <td>480.0</td>\n",
       "      <td>576.00</td>\n",
       "      <td>1418.0</td>\n",
       "    </tr>\n",
       "    <tr>\n",
       "      <th>WoodDeckSF</th>\n",
       "      <td>1460.0</td>\n",
       "      <td>94.244521</td>\n",
       "      <td>125.338794</td>\n",
       "      <td>0.0</td>\n",
       "      <td>0.00</td>\n",
       "      <td>0.0</td>\n",
       "      <td>168.00</td>\n",
       "      <td>857.0</td>\n",
       "    </tr>\n",
       "    <tr>\n",
       "      <th>OpenPorchSF</th>\n",
       "      <td>1460.0</td>\n",
       "      <td>46.660274</td>\n",
       "      <td>66.256028</td>\n",
       "      <td>0.0</td>\n",
       "      <td>0.00</td>\n",
       "      <td>25.0</td>\n",
       "      <td>68.00</td>\n",
       "      <td>547.0</td>\n",
       "    </tr>\n",
       "    <tr>\n",
       "      <th>EnclosedPorch</th>\n",
       "      <td>1460.0</td>\n",
       "      <td>21.954110</td>\n",
       "      <td>61.119149</td>\n",
       "      <td>0.0</td>\n",
       "      <td>0.00</td>\n",
       "      <td>0.0</td>\n",
       "      <td>0.00</td>\n",
       "      <td>552.0</td>\n",
       "    </tr>\n",
       "    <tr>\n",
       "      <th>3SsnPorch</th>\n",
       "      <td>1460.0</td>\n",
       "      <td>3.409589</td>\n",
       "      <td>29.317331</td>\n",
       "      <td>0.0</td>\n",
       "      <td>0.00</td>\n",
       "      <td>0.0</td>\n",
       "      <td>0.00</td>\n",
       "      <td>508.0</td>\n",
       "    </tr>\n",
       "    <tr>\n",
       "      <th>ScreenPorch</th>\n",
       "      <td>1460.0</td>\n",
       "      <td>15.060959</td>\n",
       "      <td>55.757415</td>\n",
       "      <td>0.0</td>\n",
       "      <td>0.00</td>\n",
       "      <td>0.0</td>\n",
       "      <td>0.00</td>\n",
       "      <td>480.0</td>\n",
       "    </tr>\n",
       "    <tr>\n",
       "      <th>PoolArea</th>\n",
       "      <td>1460.0</td>\n",
       "      <td>2.758904</td>\n",
       "      <td>40.177307</td>\n",
       "      <td>0.0</td>\n",
       "      <td>0.00</td>\n",
       "      <td>0.0</td>\n",
       "      <td>0.00</td>\n",
       "      <td>738.0</td>\n",
       "    </tr>\n",
       "    <tr>\n",
       "      <th>MiscVal</th>\n",
       "      <td>1460.0</td>\n",
       "      <td>43.489041</td>\n",
       "      <td>496.123024</td>\n",
       "      <td>0.0</td>\n",
       "      <td>0.00</td>\n",
       "      <td>0.0</td>\n",
       "      <td>0.00</td>\n",
       "      <td>15500.0</td>\n",
       "    </tr>\n",
       "    <tr>\n",
       "      <th>MoSold</th>\n",
       "      <td>1460.0</td>\n",
       "      <td>6.321918</td>\n",
       "      <td>2.703626</td>\n",
       "      <td>1.0</td>\n",
       "      <td>5.00</td>\n",
       "      <td>6.0</td>\n",
       "      <td>8.00</td>\n",
       "      <td>12.0</td>\n",
       "    </tr>\n",
       "    <tr>\n",
       "      <th>YrSold</th>\n",
       "      <td>1460.0</td>\n",
       "      <td>2007.815753</td>\n",
       "      <td>1.328095</td>\n",
       "      <td>2006.0</td>\n",
       "      <td>2007.00</td>\n",
       "      <td>2008.0</td>\n",
       "      <td>2009.00</td>\n",
       "      <td>2010.0</td>\n",
       "    </tr>\n",
       "    <tr>\n",
       "      <th>SalePrice</th>\n",
       "      <td>1460.0</td>\n",
       "      <td>180921.195890</td>\n",
       "      <td>79442.502883</td>\n",
       "      <td>34900.0</td>\n",
       "      <td>129975.00</td>\n",
       "      <td>163000.0</td>\n",
       "      <td>214000.00</td>\n",
       "      <td>755000.0</td>\n",
       "    </tr>\n",
       "  </tbody>\n",
       "</table>\n",
       "</div>"
      ],
      "text/plain": [
       "                count           mean           std      min        25%  \\\n",
       "Id             1460.0     730.500000    421.610009      1.0     365.75   \n",
       "MSSubClass     1460.0      56.897260     42.300571     20.0      20.00   \n",
       "LotFrontage    1201.0      70.049958     24.284752     21.0      59.00   \n",
       "LotArea        1460.0   10516.828082   9981.264932   1300.0    7553.50   \n",
       "OverallQual    1460.0       6.099315      1.382997      1.0       5.00   \n",
       "OverallCond    1460.0       5.575342      1.112799      1.0       5.00   \n",
       "YearBuilt      1460.0    1971.267808     30.202904   1872.0    1954.00   \n",
       "YearRemodAdd   1460.0    1984.865753     20.645407   1950.0    1967.00   \n",
       "MasVnrArea     1452.0     103.685262    181.066207      0.0       0.00   \n",
       "BsmtFinSF1     1460.0     443.639726    456.098091      0.0       0.00   \n",
       "BsmtFinSF2     1460.0      46.549315    161.319273      0.0       0.00   \n",
       "BsmtUnfSF      1460.0     567.240411    441.866955      0.0     223.00   \n",
       "TotalBsmtSF    1460.0    1057.429452    438.705324      0.0     795.75   \n",
       "1stFlrSF       1460.0    1162.626712    386.587738    334.0     882.00   \n",
       "2ndFlrSF       1460.0     346.992466    436.528436      0.0       0.00   \n",
       "LowQualFinSF   1460.0       5.844521     48.623081      0.0       0.00   \n",
       "GrLivArea      1460.0    1515.463699    525.480383    334.0    1129.50   \n",
       "BsmtFullBath   1460.0       0.425342      0.518911      0.0       0.00   \n",
       "BsmtHalfBath   1460.0       0.057534      0.238753      0.0       0.00   \n",
       "FullBath       1460.0       1.565068      0.550916      0.0       1.00   \n",
       "HalfBath       1460.0       0.382877      0.502885      0.0       0.00   \n",
       "BedroomAbvGr   1460.0       2.866438      0.815778      0.0       2.00   \n",
       "KitchenAbvGr   1460.0       1.046575      0.220338      0.0       1.00   \n",
       "TotRmsAbvGrd   1460.0       6.517808      1.625393      2.0       5.00   \n",
       "Fireplaces     1460.0       0.613014      0.644666      0.0       0.00   \n",
       "GarageYrBlt    1379.0    1978.506164     24.689725   1900.0    1961.00   \n",
       "GarageCars     1460.0       1.767123      0.747315      0.0       1.00   \n",
       "GarageArea     1460.0     472.980137    213.804841      0.0     334.50   \n",
       "WoodDeckSF     1460.0      94.244521    125.338794      0.0       0.00   \n",
       "OpenPorchSF    1460.0      46.660274     66.256028      0.0       0.00   \n",
       "EnclosedPorch  1460.0      21.954110     61.119149      0.0       0.00   \n",
       "3SsnPorch      1460.0       3.409589     29.317331      0.0       0.00   \n",
       "ScreenPorch    1460.0      15.060959     55.757415      0.0       0.00   \n",
       "PoolArea       1460.0       2.758904     40.177307      0.0       0.00   \n",
       "MiscVal        1460.0      43.489041    496.123024      0.0       0.00   \n",
       "MoSold         1460.0       6.321918      2.703626      1.0       5.00   \n",
       "YrSold         1460.0    2007.815753      1.328095   2006.0    2007.00   \n",
       "SalePrice      1460.0  180921.195890  79442.502883  34900.0  129975.00   \n",
       "\n",
       "                    50%        75%       max  \n",
       "Id                730.5    1095.25    1460.0  \n",
       "MSSubClass         50.0      70.00     190.0  \n",
       "LotFrontage        69.0      80.00     313.0  \n",
       "LotArea          9478.5   11601.50  215245.0  \n",
       "OverallQual         6.0       7.00      10.0  \n",
       "OverallCond         5.0       6.00       9.0  \n",
       "YearBuilt        1973.0    2000.00    2010.0  \n",
       "YearRemodAdd     1994.0    2004.00    2010.0  \n",
       "MasVnrArea          0.0     166.00    1600.0  \n",
       "BsmtFinSF1        383.5     712.25    5644.0  \n",
       "BsmtFinSF2          0.0       0.00    1474.0  \n",
       "BsmtUnfSF         477.5     808.00    2336.0  \n",
       "TotalBsmtSF       991.5    1298.25    6110.0  \n",
       "1stFlrSF         1087.0    1391.25    4692.0  \n",
       "2ndFlrSF            0.0     728.00    2065.0  \n",
       "LowQualFinSF        0.0       0.00     572.0  \n",
       "GrLivArea        1464.0    1776.75    5642.0  \n",
       "BsmtFullBath        0.0       1.00       3.0  \n",
       "BsmtHalfBath        0.0       0.00       2.0  \n",
       "FullBath            2.0       2.00       3.0  \n",
       "HalfBath            0.0       1.00       2.0  \n",
       "BedroomAbvGr        3.0       3.00       8.0  \n",
       "KitchenAbvGr        1.0       1.00       3.0  \n",
       "TotRmsAbvGrd        6.0       7.00      14.0  \n",
       "Fireplaces          1.0       1.00       3.0  \n",
       "GarageYrBlt      1980.0    2002.00    2010.0  \n",
       "GarageCars          2.0       2.00       4.0  \n",
       "GarageArea        480.0     576.00    1418.0  \n",
       "WoodDeckSF          0.0     168.00     857.0  \n",
       "OpenPorchSF        25.0      68.00     547.0  \n",
       "EnclosedPorch       0.0       0.00     552.0  \n",
       "3SsnPorch           0.0       0.00     508.0  \n",
       "ScreenPorch         0.0       0.00     480.0  \n",
       "PoolArea            0.0       0.00     738.0  \n",
       "MiscVal             0.0       0.00   15500.0  \n",
       "MoSold              6.0       8.00      12.0  \n",
       "YrSold           2008.0    2009.00    2010.0  \n",
       "SalePrice      163000.0  214000.00  755000.0  "
      ]
     },
     "execution_count": 6,
     "metadata": {},
     "output_type": "execute_result"
    }
   ],
   "source": [
    "df.describe().T"
   ]
  },
  {
   "cell_type": "code",
   "execution_count": 7,
   "id": "98921b2e",
   "metadata": {
    "execution": {
     "iopub.execute_input": "2025-02-13T18:05:59.273055Z",
     "iopub.status.busy": "2025-02-13T18:05:59.272826Z",
     "iopub.status.idle": "2025-02-13T18:05:59.294148Z",
     "shell.execute_reply": "2025-02-13T18:05:59.293045Z"
    },
    "papermill": {
     "duration": 0.034367,
     "end_time": "2025-02-13T18:05:59.295447",
     "exception": false,
     "start_time": "2025-02-13T18:05:59.261080",
     "status": "completed"
    },
    "tags": []
   },
   "outputs": [
    {
     "name": "stdout",
     "output_type": "stream",
     "text": [
      "<class 'pandas.core.frame.DataFrame'>\n",
      "RangeIndex: 1460 entries, 0 to 1459\n",
      "Data columns (total 81 columns):\n",
      " #   Column         Non-Null Count  Dtype  \n",
      "---  ------         --------------  -----  \n",
      " 0   Id             1460 non-null   int64  \n",
      " 1   MSSubClass     1460 non-null   int64  \n",
      " 2   MSZoning       1460 non-null   object \n",
      " 3   LotFrontage    1201 non-null   float64\n",
      " 4   LotArea        1460 non-null   int64  \n",
      " 5   Street         1460 non-null   object \n",
      " 6   Alley          91 non-null     object \n",
      " 7   LotShape       1460 non-null   object \n",
      " 8   LandContour    1460 non-null   object \n",
      " 9   Utilities      1460 non-null   object \n",
      " 10  LotConfig      1460 non-null   object \n",
      " 11  LandSlope      1460 non-null   object \n",
      " 12  Neighborhood   1460 non-null   object \n",
      " 13  Condition1     1460 non-null   object \n",
      " 14  Condition2     1460 non-null   object \n",
      " 15  BldgType       1460 non-null   object \n",
      " 16  HouseStyle     1460 non-null   object \n",
      " 17  OverallQual    1460 non-null   int64  \n",
      " 18  OverallCond    1460 non-null   int64  \n",
      " 19  YearBuilt      1460 non-null   int64  \n",
      " 20  YearRemodAdd   1460 non-null   int64  \n",
      " 21  RoofStyle      1460 non-null   object \n",
      " 22  RoofMatl       1460 non-null   object \n",
      " 23  Exterior1st    1460 non-null   object \n",
      " 24  Exterior2nd    1460 non-null   object \n",
      " 25  MasVnrType     588 non-null    object \n",
      " 26  MasVnrArea     1452 non-null   float64\n",
      " 27  ExterQual      1460 non-null   object \n",
      " 28  ExterCond      1460 non-null   object \n",
      " 29  Foundation     1460 non-null   object \n",
      " 30  BsmtQual       1423 non-null   object \n",
      " 31  BsmtCond       1423 non-null   object \n",
      " 32  BsmtExposure   1422 non-null   object \n",
      " 33  BsmtFinType1   1423 non-null   object \n",
      " 34  BsmtFinSF1     1460 non-null   int64  \n",
      " 35  BsmtFinType2   1422 non-null   object \n",
      " 36  BsmtFinSF2     1460 non-null   int64  \n",
      " 37  BsmtUnfSF      1460 non-null   int64  \n",
      " 38  TotalBsmtSF    1460 non-null   int64  \n",
      " 39  Heating        1460 non-null   object \n",
      " 40  HeatingQC      1460 non-null   object \n",
      " 41  CentralAir     1460 non-null   object \n",
      " 42  Electrical     1459 non-null   object \n",
      " 43  1stFlrSF       1460 non-null   int64  \n",
      " 44  2ndFlrSF       1460 non-null   int64  \n",
      " 45  LowQualFinSF   1460 non-null   int64  \n",
      " 46  GrLivArea      1460 non-null   int64  \n",
      " 47  BsmtFullBath   1460 non-null   int64  \n",
      " 48  BsmtHalfBath   1460 non-null   int64  \n",
      " 49  FullBath       1460 non-null   int64  \n",
      " 50  HalfBath       1460 non-null   int64  \n",
      " 51  BedroomAbvGr   1460 non-null   int64  \n",
      " 52  KitchenAbvGr   1460 non-null   int64  \n",
      " 53  KitchenQual    1460 non-null   object \n",
      " 54  TotRmsAbvGrd   1460 non-null   int64  \n",
      " 55  Functional     1460 non-null   object \n",
      " 56  Fireplaces     1460 non-null   int64  \n",
      " 57  FireplaceQu    770 non-null    object \n",
      " 58  GarageType     1379 non-null   object \n",
      " 59  GarageYrBlt    1379 non-null   float64\n",
      " 60  GarageFinish   1379 non-null   object \n",
      " 61  GarageCars     1460 non-null   int64  \n",
      " 62  GarageArea     1460 non-null   int64  \n",
      " 63  GarageQual     1379 non-null   object \n",
      " 64  GarageCond     1379 non-null   object \n",
      " 65  PavedDrive     1460 non-null   object \n",
      " 66  WoodDeckSF     1460 non-null   int64  \n",
      " 67  OpenPorchSF    1460 non-null   int64  \n",
      " 68  EnclosedPorch  1460 non-null   int64  \n",
      " 69  3SsnPorch      1460 non-null   int64  \n",
      " 70  ScreenPorch    1460 non-null   int64  \n",
      " 71  PoolArea       1460 non-null   int64  \n",
      " 72  PoolQC         7 non-null      object \n",
      " 73  Fence          281 non-null    object \n",
      " 74  MiscFeature    54 non-null     object \n",
      " 75  MiscVal        1460 non-null   int64  \n",
      " 76  MoSold         1460 non-null   int64  \n",
      " 77  YrSold         1460 non-null   int64  \n",
      " 78  SaleType       1460 non-null   object \n",
      " 79  SaleCondition  1460 non-null   object \n",
      " 80  SalePrice      1460 non-null   int64  \n",
      "dtypes: float64(3), int64(35), object(43)\n",
      "memory usage: 924.0+ KB\n"
     ]
    }
   ],
   "source": [
    "df.info()"
   ]
  },
  {
   "cell_type": "code",
   "execution_count": 8,
   "id": "52aa0ce4",
   "metadata": {
    "execution": {
     "iopub.execute_input": "2025-02-13T18:05:59.319586Z",
     "iopub.status.busy": "2025-02-13T18:05:59.319391Z",
     "iopub.status.idle": "2025-02-13T18:05:59.326071Z",
     "shell.execute_reply": "2025-02-13T18:05:59.325400Z"
    },
    "papermill": {
     "duration": 0.020329,
     "end_time": "2025-02-13T18:05:59.327195",
     "exception": false,
     "start_time": "2025-02-13T18:05:59.306866",
     "status": "completed"
    },
    "tags": []
   },
   "outputs": [
    {
     "name": "stdout",
     "output_type": "stream",
     "text": [
      "7829\n"
     ]
    }
   ],
   "source": [
    "print(df.isna().sum().sum())"
   ]
  },
  {
   "cell_type": "markdown",
   "id": "6436b043",
   "metadata": {
    "papermill": {
     "duration": 0.011357,
     "end_time": "2025-02-13T18:05:59.350323",
     "exception": false,
     "start_time": "2025-02-13T18:05:59.338966",
     "status": "completed"
    },
    "tags": []
   },
   "source": [
    "# Data Cleaning"
   ]
  },
  {
   "cell_type": "markdown",
   "id": "1285a07c",
   "metadata": {
    "papermill": {
     "duration": 0.011261,
     "end_time": "2025-02-13T18:05:59.373488",
     "exception": false,
     "start_time": "2025-02-13T18:05:59.362227",
     "status": "completed"
    },
    "tags": []
   },
   "source": [
    "## null values detecting"
   ]
  },
  {
   "cell_type": "code",
   "execution_count": 9,
   "id": "dbbbe8fd",
   "metadata": {
    "execution": {
     "iopub.execute_input": "2025-02-13T18:05:59.397048Z",
     "iopub.status.busy": "2025-02-13T18:05:59.396848Z",
     "iopub.status.idle": "2025-02-13T18:05:59.409053Z",
     "shell.execute_reply": "2025-02-13T18:05:59.408256Z"
    },
    "papermill": {
     "duration": 0.025311,
     "end_time": "2025-02-13T18:05:59.410251",
     "exception": false,
     "start_time": "2025-02-13T18:05:59.384940",
     "status": "completed"
    },
    "tags": []
   },
   "outputs": [
    {
     "name": "stdout",
     "output_type": "stream",
     "text": [
      "{'very low': [], 'low': [], 'normal': [], 'high': [], 'very high': [], 'too much': []}\n",
      "very low\n",
      "low\n",
      "normal\n",
      "high\n",
      "very high\n",
      "too much\n"
     ]
    }
   ],
   "source": [
    "def nullcolumns(df):\n",
    "    # Thresholds dictionary\n",
    "    thresh_hold = {\n",
    "        100: 'very low',\n",
    "        200: 'low',\n",
    "        300: 'normal',\n",
    "        500: 'high',\n",
    "        1000: 'very high',\n",
    "        1001:'too much'\n",
    "    }\n",
    "    \n",
    "    # Calculate null values\n",
    "    null_values = df.isnull().sum()\n",
    "    condition2 = null_values != 0\n",
    "    \n",
    "    # Initialize the dictionary to store the results\n",
    "    null_columns = {key: [] for key in thresh_hold.values()}\n",
    "    print(null_columns)\n",
    "    # Iterate through the thresholds\n",
    "    for key, value in thresh_hold.items():\n",
    "        print(value)\n",
    "        status = 'Below'\n",
    "        condition1 = null_values <= key\n",
    "        \n",
    "        # Check for the condition if it's \"very high\"\n",
    "        if value == \"very high\":\n",
    "            condition1 = null_values > key\n",
    "            value = \"too much\"\n",
    "            status = \"Over\"\n",
    "        \n",
    "        # Filter columns based on the conditions\n",
    "        features_with_many_nulls = null_values[(condition1) & (condition2)]\n",
    "\n",
    "        condition2 = null_values >= key\n",
    "        # Check if there are no features with the current condition\n",
    "        if features_with_many_nulls.index.empty:\n",
    "            # condition2 = null_values >= key\n",
    "            continue\n",
    "            \n",
    "        elif not(features_with_many_nulls.index.empty):\n",
    "            # Add columns to the dictionary\n",
    "            for column in features_with_many_nulls.index:\n",
    "                null_columns[value].append(column)\n",
    "            \n",
    "            \n",
    "    \n",
    "    # Display the final dictionary of null columns\n",
    "    # print(null_columns)\n",
    "    return null_columns\n",
    "null_columns=nullcolumns(df)"
   ]
  },
  {
   "cell_type": "code",
   "execution_count": 10,
   "id": "65b5c493",
   "metadata": {
    "execution": {
     "iopub.execute_input": "2025-02-13T18:05:59.434220Z",
     "iopub.status.busy": "2025-02-13T18:05:59.434015Z",
     "iopub.status.idle": "2025-02-13T18:05:59.438476Z",
     "shell.execute_reply": "2025-02-13T18:05:59.437697Z"
    },
    "papermill": {
     "duration": 0.017831,
     "end_time": "2025-02-13T18:05:59.439795",
     "exception": false,
     "start_time": "2025-02-13T18:05:59.421964",
     "status": "completed"
    },
    "tags": []
   },
   "outputs": [
    {
     "data": {
      "text/plain": [
       "{'very low': ['MasVnrArea',\n",
       "  'BsmtQual',\n",
       "  'BsmtCond',\n",
       "  'BsmtExposure',\n",
       "  'BsmtFinType1',\n",
       "  'BsmtFinType2',\n",
       "  'Electrical',\n",
       "  'GarageType',\n",
       "  'GarageYrBlt',\n",
       "  'GarageFinish',\n",
       "  'GarageQual',\n",
       "  'GarageCond'],\n",
       " 'low': [],\n",
       " 'normal': ['LotFrontage'],\n",
       " 'high': [],\n",
       " 'very high': [],\n",
       " 'too much': ['Alley', 'PoolQC', 'Fence', 'MiscFeature']}"
      ]
     },
     "execution_count": 10,
     "metadata": {},
     "output_type": "execute_result"
    }
   ],
   "source": [
    "df.shape\n",
    "null_columns"
   ]
  },
  {
   "cell_type": "code",
   "execution_count": 11,
   "id": "5c9aa541",
   "metadata": {
    "execution": {
     "iopub.execute_input": "2025-02-13T18:05:59.464252Z",
     "iopub.status.busy": "2025-02-13T18:05:59.464055Z",
     "iopub.status.idle": "2025-02-13T18:05:59.473649Z",
     "shell.execute_reply": "2025-02-13T18:05:59.472833Z"
    },
    "papermill": {
     "duration": 0.023292,
     "end_time": "2025-02-13T18:05:59.474839",
     "exception": false,
     "start_time": "2025-02-13T18:05:59.451547",
     "status": "completed"
    },
    "tags": []
   },
   "outputs": [
    {
     "name": "stdout",
     "output_type": "stream",
     "text": [
      "low is empty [] to be deleted\n",
      "high is empty [] to be deleted\n",
      "very high is to be deleted\n",
      "too much is to be deleted\n",
      "to be deleted:  ['low', 'high', 'very high', 'too much']\n"
     ]
    }
   ],
   "source": [
    "delete_keys=[]\n",
    "for key,value in null_columns.items():\n",
    "    try:\n",
    "        if ((key == 'too much') or (key== 'very high')) :\n",
    "            df.drop(columns=value, inplace=True)\n",
    "            delete_keys.append(key)\n",
    "            print(key,'is to be deleted')\n",
    "        elif(value==[]):\n",
    "            print(key,'is empty',value, 'to be deleted')\n",
    "            delete_keys.append(key)\n",
    "    except:\n",
    "        delete_keys.append(key)\n",
    "        print(error)\n",
    "print('to be deleted: ',delete_keys)\n"
   ]
  },
  {
   "cell_type": "code",
   "execution_count": 12,
   "id": "6b95c2c7",
   "metadata": {
    "execution": {
     "iopub.execute_input": "2025-02-13T18:05:59.499166Z",
     "iopub.status.busy": "2025-02-13T18:05:59.498935Z",
     "iopub.status.idle": "2025-02-13T18:05:59.502059Z",
     "shell.execute_reply": "2025-02-13T18:05:59.501275Z"
    },
    "papermill": {
     "duration": 0.016758,
     "end_time": "2025-02-13T18:05:59.503288",
     "exception": false,
     "start_time": "2025-02-13T18:05:59.486530",
     "status": "completed"
    },
    "tags": []
   },
   "outputs": [],
   "source": [
    "for column in delete_keys:\n",
    "    if column in null_columns:\n",
    "        del null_columns[column]"
   ]
  },
  {
   "cell_type": "code",
   "execution_count": 13,
   "id": "3e652344",
   "metadata": {
    "execution": {
     "iopub.execute_input": "2025-02-13T18:05:59.527766Z",
     "iopub.status.busy": "2025-02-13T18:05:59.527525Z",
     "iopub.status.idle": "2025-02-13T18:05:59.531886Z",
     "shell.execute_reply": "2025-02-13T18:05:59.531109Z"
    },
    "papermill": {
     "duration": 0.017909,
     "end_time": "2025-02-13T18:05:59.533085",
     "exception": false,
     "start_time": "2025-02-13T18:05:59.515176",
     "status": "completed"
    },
    "tags": []
   },
   "outputs": [
    {
     "data": {
      "text/plain": [
       "{'very low': ['MasVnrArea',\n",
       "  'BsmtQual',\n",
       "  'BsmtCond',\n",
       "  'BsmtExposure',\n",
       "  'BsmtFinType1',\n",
       "  'BsmtFinType2',\n",
       "  'Electrical',\n",
       "  'GarageType',\n",
       "  'GarageYrBlt',\n",
       "  'GarageFinish',\n",
       "  'GarageQual',\n",
       "  'GarageCond'],\n",
       " 'normal': ['LotFrontage']}"
      ]
     },
     "execution_count": 13,
     "metadata": {},
     "output_type": "execute_result"
    }
   ],
   "source": [
    "null_columns"
   ]
  },
  {
   "cell_type": "code",
   "execution_count": 14,
   "id": "4c2cab09",
   "metadata": {
    "execution": {
     "iopub.execute_input": "2025-02-13T18:05:59.557456Z",
     "iopub.status.busy": "2025-02-13T18:05:59.557262Z",
     "iopub.status.idle": "2025-02-13T18:05:59.565436Z",
     "shell.execute_reply": "2025-02-13T18:05:59.564792Z"
    },
    "papermill": {
     "duration": 0.021575,
     "end_time": "2025-02-13T18:05:59.566601",
     "exception": false,
     "start_time": "2025-02-13T18:05:59.545026",
     "status": "completed"
    },
    "tags": []
   },
   "outputs": [
    {
     "name": "stdout",
     "output_type": "stream",
     "text": [
      "2422\n"
     ]
    },
    {
     "data": {
      "text/plain": [
       "(1460, 77)"
      ]
     },
     "execution_count": 14,
     "metadata": {},
     "output_type": "execute_result"
    }
   ],
   "source": [
    "print(df.isna().sum().sum())\n",
    "\n",
    "df.shape"
   ]
  },
  {
   "cell_type": "code",
   "execution_count": 15,
   "id": "37de12bf",
   "metadata": {
    "execution": {
     "iopub.execute_input": "2025-02-13T18:05:59.591364Z",
     "iopub.status.busy": "2025-02-13T18:05:59.591169Z",
     "iopub.status.idle": "2025-02-13T18:05:59.598469Z",
     "shell.execute_reply": "2025-02-13T18:05:59.597693Z"
    },
    "papermill": {
     "duration": 0.020927,
     "end_time": "2025-02-13T18:05:59.599754",
     "exception": false,
     "start_time": "2025-02-13T18:05:59.578827",
     "status": "completed"
    },
    "tags": []
   },
   "outputs": [
    {
     "data": {
      "text/plain": [
       "2422"
      ]
     },
     "execution_count": 15,
     "metadata": {},
     "output_type": "execute_result"
    }
   ],
   "source": [
    "df.isnull().sum().sum()"
   ]
  },
  {
   "cell_type": "code",
   "execution_count": 16,
   "id": "ddd265f8",
   "metadata": {
    "execution": {
     "iopub.execute_input": "2025-02-13T18:05:59.624182Z",
     "iopub.status.busy": "2025-02-13T18:05:59.623986Z",
     "iopub.status.idle": "2025-02-13T18:05:59.628499Z",
     "shell.execute_reply": "2025-02-13T18:05:59.627706Z"
    },
    "papermill": {
     "duration": 0.017946,
     "end_time": "2025-02-13T18:05:59.629705",
     "exception": false,
     "start_time": "2025-02-13T18:05:59.611759",
     "status": "completed"
    },
    "tags": []
   },
   "outputs": [
    {
     "data": {
      "text/plain": [
       "[['MasVnrArea',\n",
       "  'BsmtQual',\n",
       "  'BsmtCond',\n",
       "  'BsmtExposure',\n",
       "  'BsmtFinType1',\n",
       "  'BsmtFinType2',\n",
       "  'Electrical',\n",
       "  'GarageType',\n",
       "  'GarageYrBlt',\n",
       "  'GarageFinish',\n",
       "  'GarageQual',\n",
       "  'GarageCond'],\n",
       " ['LotFrontage']]"
      ]
     },
     "execution_count": 16,
     "metadata": {},
     "output_type": "execute_result"
    }
   ],
   "source": [
    "null_col=[]\n",
    "for key,value in null_columns.items():\n",
    "    null_col.append(value)\n",
    "null_col"
   ]
  },
  {
   "cell_type": "code",
   "execution_count": 17,
   "id": "d928cdd3",
   "metadata": {
    "execution": {
     "iopub.execute_input": "2025-02-13T18:05:59.654261Z",
     "iopub.status.busy": "2025-02-13T18:05:59.654041Z",
     "iopub.status.idle": "2025-02-13T18:05:59.661831Z",
     "shell.execute_reply": "2025-02-13T18:05:59.661216Z"
    },
    "papermill": {
     "duration": 0.021407,
     "end_time": "2025-02-13T18:05:59.663021",
     "exception": false,
     "start_time": "2025-02-13T18:05:59.641614",
     "status": "completed"
    },
    "tags": []
   },
   "outputs": [
    {
     "data": {
      "text/plain": [
       "2074"
      ]
     },
     "execution_count": 17,
     "metadata": {},
     "output_type": "execute_result"
    }
   ],
   "source": [
    "sf=df.select_dtypes(include=['object'])\n",
    "sf.isnull().sum().sum()"
   ]
  },
  {
   "cell_type": "code",
   "execution_count": 18,
   "id": "e9cd4bff",
   "metadata": {
    "execution": {
     "iopub.execute_input": "2025-02-13T18:05:59.687857Z",
     "iopub.status.busy": "2025-02-13T18:05:59.687615Z",
     "iopub.status.idle": "2025-02-13T18:05:59.719505Z",
     "shell.execute_reply": "2025-02-13T18:05:59.718864Z"
    },
    "papermill": {
     "duration": 0.045535,
     "end_time": "2025-02-13T18:05:59.720697",
     "exception": false,
     "start_time": "2025-02-13T18:05:59.675162",
     "status": "completed"
    },
    "tags": []
   },
   "outputs": [
    {
     "data": {
      "text/plain": [
       "348"
      ]
     },
     "execution_count": 18,
     "metadata": {},
     "output_type": "execute_result"
    }
   ],
   "source": [
    "for column in sf.columns:\n",
    "    mode_value = df[column].mode()[0]  # Get the most frequent category\n",
    "    df[column] = df[column].fillna(mode_value)\n",
    "df.isnull().sum().sum()"
   ]
  },
  {
   "cell_type": "code",
   "execution_count": 19,
   "id": "19056f02",
   "metadata": {
    "execution": {
     "iopub.execute_input": "2025-02-13T18:05:59.745832Z",
     "iopub.status.busy": "2025-02-13T18:05:59.745588Z",
     "iopub.status.idle": "2025-02-13T18:05:59.748738Z",
     "shell.execute_reply": "2025-02-13T18:05:59.748094Z"
    },
    "papermill": {
     "duration": 0.017038,
     "end_time": "2025-02-13T18:05:59.750079",
     "exception": false,
     "start_time": "2025-02-13T18:05:59.733041",
     "status": "completed"
    },
    "tags": []
   },
   "outputs": [],
   "source": [
    "nf=df.select_dtypes(include=['number'])\n"
   ]
  },
  {
   "cell_type": "code",
   "execution_count": 20,
   "id": "7ab6100e",
   "metadata": {
    "execution": {
     "iopub.execute_input": "2025-02-13T18:05:59.775988Z",
     "iopub.status.busy": "2025-02-13T18:05:59.775789Z",
     "iopub.status.idle": "2025-02-13T18:05:59.783999Z",
     "shell.execute_reply": "2025-02-13T18:05:59.783225Z"
    },
    "papermill": {
     "duration": 0.02229,
     "end_time": "2025-02-13T18:05:59.785258",
     "exception": false,
     "start_time": "2025-02-13T18:05:59.762968",
     "status": "completed"
    },
    "tags": []
   },
   "outputs": [
    {
     "data": {
      "text/plain": [
       "348"
      ]
     },
     "execution_count": 20,
     "metadata": {},
     "output_type": "execute_result"
    }
   ],
   "source": [
    "df.isnull().sum().sum()"
   ]
  },
  {
   "cell_type": "code",
   "execution_count": 21,
   "id": "21eaed70",
   "metadata": {
    "execution": {
     "iopub.execute_input": "2025-02-13T18:05:59.810153Z",
     "iopub.status.busy": "2025-02-13T18:05:59.809957Z",
     "iopub.status.idle": "2025-02-13T18:05:59.825401Z",
     "shell.execute_reply": "2025-02-13T18:05:59.824580Z"
    },
    "papermill": {
     "duration": 0.029048,
     "end_time": "2025-02-13T18:05:59.826456",
     "exception": false,
     "start_time": "2025-02-13T18:05:59.797408",
     "status": "completed"
    },
    "tags": []
   },
   "outputs": [
    {
     "name": "stdout",
     "output_type": "stream",
     "text": [
      "Id                  730.500000\n",
      "MSSubClass           56.897260\n",
      "LotFrontage          70.049958\n",
      "LotArea           10516.828082\n",
      "OverallQual           6.099315\n",
      "OverallCond           5.575342\n",
      "YearBuilt          1971.267808\n",
      "YearRemodAdd       1984.865753\n",
      "MasVnrArea          103.685262\n",
      "BsmtFinSF1          443.639726\n",
      "BsmtFinSF2           46.549315\n",
      "BsmtUnfSF           567.240411\n",
      "TotalBsmtSF        1057.429452\n",
      "1stFlrSF           1162.626712\n",
      "2ndFlrSF            346.992466\n",
      "LowQualFinSF          5.844521\n",
      "GrLivArea          1515.463699\n",
      "BsmtFullBath          0.425342\n",
      "BsmtHalfBath          0.057534\n",
      "FullBath              1.565068\n",
      "HalfBath              0.382877\n",
      "BedroomAbvGr          2.866438\n",
      "KitchenAbvGr          1.046575\n",
      "TotRmsAbvGrd          6.517808\n",
      "Fireplaces            0.613014\n",
      "GarageYrBlt        1978.506164\n",
      "GarageCars            1.767123\n",
      "GarageArea          472.980137\n",
      "WoodDeckSF           94.244521\n",
      "OpenPorchSF          46.660274\n",
      "EnclosedPorch        21.954110\n",
      "3SsnPorch             3.409589\n",
      "ScreenPorch          15.060959\n",
      "PoolArea              2.758904\n",
      "MiscVal              43.489041\n",
      "MoSold                6.321918\n",
      "YrSold             2007.815753\n",
      "SalePrice        180921.195890\n",
      "dtype: float64\n"
     ]
    }
   ],
   "source": [
    "mean_values = nf.mean()\n",
    "print(mean_values)\n",
    "# Replace missing values with mean\n",
    "df.fillna(mean_values, inplace=True)"
   ]
  },
  {
   "cell_type": "code",
   "execution_count": 22,
   "id": "ee9a7257",
   "metadata": {
    "execution": {
     "iopub.execute_input": "2025-02-13T18:05:59.852248Z",
     "iopub.status.busy": "2025-02-13T18:05:59.852021Z",
     "iopub.status.idle": "2025-02-13T18:05:59.861003Z",
     "shell.execute_reply": "2025-02-13T18:05:59.860162Z"
    },
    "papermill": {
     "duration": 0.023364,
     "end_time": "2025-02-13T18:05:59.862214",
     "exception": false,
     "start_time": "2025-02-13T18:05:59.838850",
     "status": "completed"
    },
    "tags": []
   },
   "outputs": [
    {
     "data": {
      "text/plain": [
       "0"
      ]
     },
     "execution_count": 22,
     "metadata": {},
     "output_type": "execute_result"
    }
   ],
   "source": [
    "df.isnull().sum().sum()"
   ]
  },
  {
   "cell_type": "code",
   "execution_count": 23,
   "id": "5349ff30",
   "metadata": {
    "execution": {
     "iopub.execute_input": "2025-02-13T18:05:59.887406Z",
     "iopub.status.busy": "2025-02-13T18:05:59.887186Z",
     "iopub.status.idle": "2025-02-13T18:05:59.902266Z",
     "shell.execute_reply": "2025-02-13T18:05:59.901425Z"
    },
    "papermill": {
     "duration": 0.028948,
     "end_time": "2025-02-13T18:05:59.903448",
     "exception": false,
     "start_time": "2025-02-13T18:05:59.874500",
     "status": "completed"
    },
    "tags": []
   },
   "outputs": [
    {
     "name": "stdout",
     "output_type": "stream",
     "text": [
      "<class 'pandas.core.frame.DataFrame'>\n",
      "RangeIndex: 1460 entries, 0 to 1459\n",
      "Data columns (total 77 columns):\n",
      " #   Column         Non-Null Count  Dtype  \n",
      "---  ------         --------------  -----  \n",
      " 0   Id             1460 non-null   int64  \n",
      " 1   MSSubClass     1460 non-null   int64  \n",
      " 2   MSZoning       1460 non-null   object \n",
      " 3   LotFrontage    1460 non-null   float64\n",
      " 4   LotArea        1460 non-null   int64  \n",
      " 5   Street         1460 non-null   object \n",
      " 6   LotShape       1460 non-null   object \n",
      " 7   LandContour    1460 non-null   object \n",
      " 8   Utilities      1460 non-null   object \n",
      " 9   LotConfig      1460 non-null   object \n",
      " 10  LandSlope      1460 non-null   object \n",
      " 11  Neighborhood   1460 non-null   object \n",
      " 12  Condition1     1460 non-null   object \n",
      " 13  Condition2     1460 non-null   object \n",
      " 14  BldgType       1460 non-null   object \n",
      " 15  HouseStyle     1460 non-null   object \n",
      " 16  OverallQual    1460 non-null   int64  \n",
      " 17  OverallCond    1460 non-null   int64  \n",
      " 18  YearBuilt      1460 non-null   int64  \n",
      " 19  YearRemodAdd   1460 non-null   int64  \n",
      " 20  RoofStyle      1460 non-null   object \n",
      " 21  RoofMatl       1460 non-null   object \n",
      " 22  Exterior1st    1460 non-null   object \n",
      " 23  Exterior2nd    1460 non-null   object \n",
      " 24  MasVnrType     1460 non-null   object \n",
      " 25  MasVnrArea     1460 non-null   float64\n",
      " 26  ExterQual      1460 non-null   object \n",
      " 27  ExterCond      1460 non-null   object \n",
      " 28  Foundation     1460 non-null   object \n",
      " 29  BsmtQual       1460 non-null   object \n",
      " 30  BsmtCond       1460 non-null   object \n",
      " 31  BsmtExposure   1460 non-null   object \n",
      " 32  BsmtFinType1   1460 non-null   object \n",
      " 33  BsmtFinSF1     1460 non-null   int64  \n",
      " 34  BsmtFinType2   1460 non-null   object \n",
      " 35  BsmtFinSF2     1460 non-null   int64  \n",
      " 36  BsmtUnfSF      1460 non-null   int64  \n",
      " 37  TotalBsmtSF    1460 non-null   int64  \n",
      " 38  Heating        1460 non-null   object \n",
      " 39  HeatingQC      1460 non-null   object \n",
      " 40  CentralAir     1460 non-null   object \n",
      " 41  Electrical     1460 non-null   object \n",
      " 42  1stFlrSF       1460 non-null   int64  \n",
      " 43  2ndFlrSF       1460 non-null   int64  \n",
      " 44  LowQualFinSF   1460 non-null   int64  \n",
      " 45  GrLivArea      1460 non-null   int64  \n",
      " 46  BsmtFullBath   1460 non-null   int64  \n",
      " 47  BsmtHalfBath   1460 non-null   int64  \n",
      " 48  FullBath       1460 non-null   int64  \n",
      " 49  HalfBath       1460 non-null   int64  \n",
      " 50  BedroomAbvGr   1460 non-null   int64  \n",
      " 51  KitchenAbvGr   1460 non-null   int64  \n",
      " 52  KitchenQual    1460 non-null   object \n",
      " 53  TotRmsAbvGrd   1460 non-null   int64  \n",
      " 54  Functional     1460 non-null   object \n",
      " 55  Fireplaces     1460 non-null   int64  \n",
      " 56  FireplaceQu    1460 non-null   object \n",
      " 57  GarageType     1460 non-null   object \n",
      " 58  GarageYrBlt    1460 non-null   float64\n",
      " 59  GarageFinish   1460 non-null   object \n",
      " 60  GarageCars     1460 non-null   int64  \n",
      " 61  GarageArea     1460 non-null   int64  \n",
      " 62  GarageQual     1460 non-null   object \n",
      " 63  GarageCond     1460 non-null   object \n",
      " 64  PavedDrive     1460 non-null   object \n",
      " 65  WoodDeckSF     1460 non-null   int64  \n",
      " 66  OpenPorchSF    1460 non-null   int64  \n",
      " 67  EnclosedPorch  1460 non-null   int64  \n",
      " 68  3SsnPorch      1460 non-null   int64  \n",
      " 69  ScreenPorch    1460 non-null   int64  \n",
      " 70  PoolArea       1460 non-null   int64  \n",
      " 71  MiscVal        1460 non-null   int64  \n",
      " 72  MoSold         1460 non-null   int64  \n",
      " 73  YrSold         1460 non-null   int64  \n",
      " 74  SaleType       1460 non-null   object \n",
      " 75  SaleCondition  1460 non-null   object \n",
      " 76  SalePrice      1460 non-null   int64  \n",
      "dtypes: float64(3), int64(35), object(39)\n",
      "memory usage: 878.4+ KB\n"
     ]
    }
   ],
   "source": [
    "df.info()"
   ]
  },
  {
   "cell_type": "code",
   "execution_count": 24,
   "id": "2ca690d2",
   "metadata": {
    "execution": {
     "iopub.execute_input": "2025-02-13T18:05:59.929025Z",
     "iopub.status.busy": "2025-02-13T18:05:59.928832Z",
     "iopub.status.idle": "2025-02-13T18:05:59.937101Z",
     "shell.execute_reply": "2025-02-13T18:05:59.936505Z"
    },
    "papermill": {
     "duration": 0.022369,
     "end_time": "2025-02-13T18:05:59.938327",
     "exception": false,
     "start_time": "2025-02-13T18:05:59.915958",
     "status": "completed"
    },
    "tags": []
   },
   "outputs": [],
   "source": [
    "skewness=nf.skew()"
   ]
  },
  {
   "cell_type": "code",
   "execution_count": 25,
   "id": "62c9c550",
   "metadata": {
    "execution": {
     "iopub.execute_input": "2025-02-13T18:05:59.972016Z",
     "iopub.status.busy": "2025-02-13T18:05:59.971702Z",
     "iopub.status.idle": "2025-02-13T18:05:59.976406Z",
     "shell.execute_reply": "2025-02-13T18:05:59.975188Z"
    },
    "papermill": {
     "duration": 0.023903,
     "end_time": "2025-02-13T18:05:59.977610",
     "exception": false,
     "start_time": "2025-02-13T18:05:59.953707",
     "status": "completed"
    },
    "tags": []
   },
   "outputs": [],
   "source": [
    "threshold = 1\n",
    "high_skew_columns = skewness[abs(skewness) > threshold].index"
   ]
  },
  {
   "cell_type": "code",
   "execution_count": 26,
   "id": "d97e262b",
   "metadata": {
    "execution": {
     "iopub.execute_input": "2025-02-13T18:06:00.006810Z",
     "iopub.status.busy": "2025-02-13T18:06:00.006593Z",
     "iopub.status.idle": "2025-02-13T18:06:00.011254Z",
     "shell.execute_reply": "2025-02-13T18:06:00.010604Z"
    },
    "papermill": {
     "duration": 0.020323,
     "end_time": "2025-02-13T18:06:00.012335",
     "exception": false,
     "start_time": "2025-02-13T18:05:59.992012",
     "status": "completed"
    },
    "tags": []
   },
   "outputs": [
    {
     "name": "stdout",
     "output_type": "stream",
     "text": [
      "\n",
      "DataFrame with High-Skewed Columns:\n",
      " Index(['MSSubClass', 'LotFrontage', 'LotArea', 'MasVnrArea', 'BsmtFinSF1',\n",
      "       'BsmtFinSF2', 'TotalBsmtSF', '1stFlrSF', 'LowQualFinSF', 'GrLivArea',\n",
      "       'BsmtHalfBath', 'KitchenAbvGr', 'WoodDeckSF', 'OpenPorchSF',\n",
      "       'EnclosedPorch', '3SsnPorch', 'ScreenPorch', 'PoolArea', 'MiscVal',\n",
      "       'SalePrice'],\n",
      "      dtype='object')\n"
     ]
    }
   ],
   "source": [
    "#taking the high skewed data\n",
    "hsd= df[high_skew_columns]\n",
    "print(\"\\nDataFrame with High-Skewed Columns:\\n\", hsd.columns)"
   ]
  },
  {
   "cell_type": "code",
   "execution_count": 27,
   "id": "c27d38f0",
   "metadata": {
    "execution": {
     "iopub.execute_input": "2025-02-13T18:06:00.038473Z",
     "iopub.status.busy": "2025-02-13T18:06:00.038277Z",
     "iopub.status.idle": "2025-02-13T18:06:00.044515Z",
     "shell.execute_reply": "2025-02-13T18:06:00.043701Z"
    },
    "papermill": {
     "duration": 0.020608,
     "end_time": "2025-02-13T18:06:00.045730",
     "exception": false,
     "start_time": "2025-02-13T18:06:00.025122",
     "status": "completed"
    },
    "tags": []
   },
   "outputs": [
    {
     "data": {
      "text/plain": [
       "MSSubClass        1.407657\n",
       "LotFrontage       2.384950\n",
       "LotArea          12.207688\n",
       "MasVnrArea        2.676412\n",
       "BsmtFinSF1        1.685503\n",
       "BsmtFinSF2        4.255261\n",
       "TotalBsmtSF       1.524255\n",
       "1stFlrSF          1.376757\n",
       "LowQualFinSF      9.011341\n",
       "GrLivArea         1.366560\n",
       "BsmtHalfBath      4.103403\n",
       "KitchenAbvGr      4.488397\n",
       "WoodDeckSF        1.541376\n",
       "OpenPorchSF       2.364342\n",
       "EnclosedPorch     3.089872\n",
       "3SsnPorch        10.304342\n",
       "ScreenPorch       4.122214\n",
       "PoolArea         14.828374\n",
       "MiscVal          24.476794\n",
       "SalePrice         1.882876\n",
       "dtype: float64"
      ]
     },
     "execution_count": 27,
     "metadata": {},
     "output_type": "execute_result"
    }
   ],
   "source": [
    "hsd.skew()"
   ]
  },
  {
   "cell_type": "code",
   "execution_count": 28,
   "id": "fe569a2c",
   "metadata": {
    "execution": {
     "iopub.execute_input": "2025-02-13T18:06:00.072754Z",
     "iopub.status.busy": "2025-02-13T18:06:00.072447Z",
     "iopub.status.idle": "2025-02-13T18:06:00.076993Z",
     "shell.execute_reply": "2025-02-13T18:06:00.075935Z"
    },
    "papermill": {
     "duration": 0.020216,
     "end_time": "2025-02-13T18:06:00.078750",
     "exception": false,
     "start_time": "2025-02-13T18:06:00.058534",
     "status": "completed"
    },
    "tags": []
   },
   "outputs": [
    {
     "name": "stdout",
     "output_type": "stream",
     "text": [
      "Index(['MSSubClass', 'LotFrontage', 'LotArea', 'MasVnrArea', 'BsmtFinSF1',\n",
      "       'BsmtFinSF2', 'TotalBsmtSF', '1stFlrSF', 'LowQualFinSF', 'GrLivArea',\n",
      "       'BsmtHalfBath', 'KitchenAbvGr', 'WoodDeckSF', 'OpenPorchSF',\n",
      "       'EnclosedPorch', '3SsnPorch', 'ScreenPorch', 'PoolArea', 'MiscVal',\n",
      "       'SalePrice'],\n",
      "      dtype='object')\n"
     ]
    }
   ],
   "source": [
    "print(hsd.select_dtypes(include='number').columns)"
   ]
  },
  {
   "cell_type": "code",
   "execution_count": 29,
   "id": "0b6e51bf",
   "metadata": {
    "execution": {
     "iopub.execute_input": "2025-02-13T18:06:00.170017Z",
     "iopub.status.busy": "2025-02-13T18:06:00.169654Z",
     "iopub.status.idle": "2025-02-13T18:06:00.180494Z",
     "shell.execute_reply": "2025-02-13T18:06:00.179742Z"
    },
    "papermill": {
     "duration": 0.035828,
     "end_time": "2025-02-13T18:06:00.181927",
     "exception": false,
     "start_time": "2025-02-13T18:06:00.146099",
     "status": "completed"
    },
    "tags": []
   },
   "outputs": [
    {
     "data": {
      "text/plain": [
       "Id                0.000000\n",
       "MSSubClass        1.407657\n",
       "LotFrontage       2.384950\n",
       "LotArea          12.207688\n",
       "OverallQual       0.216944\n",
       "OverallCond       0.693067\n",
       "YearBuilt        -0.613461\n",
       "YearRemodAdd     -0.503562\n",
       "MasVnrArea        2.676412\n",
       "BsmtFinSF1        1.685503\n",
       "BsmtFinSF2        4.255261\n",
       "BsmtUnfSF         0.920268\n",
       "TotalBsmtSF       1.524255\n",
       "1stFlrSF          1.376757\n",
       "2ndFlrSF          0.813030\n",
       "LowQualFinSF      9.011341\n",
       "GrLivArea         1.366560\n",
       "BsmtFullBath      0.596067\n",
       "BsmtHalfBath      4.103403\n",
       "FullBath          0.036562\n",
       "HalfBath          0.675897\n",
       "BedroomAbvGr      0.211790\n",
       "KitchenAbvGr      4.488397\n",
       "TotRmsAbvGrd      0.676341\n",
       "Fireplaces        0.649565\n",
       "GarageYrBlt      -0.668175\n",
       "GarageCars       -0.342549\n",
       "GarageArea        0.179981\n",
       "WoodDeckSF        1.541376\n",
       "OpenPorchSF       2.364342\n",
       "EnclosedPorch     3.089872\n",
       "3SsnPorch        10.304342\n",
       "ScreenPorch       4.122214\n",
       "PoolArea         14.828374\n",
       "MiscVal          24.476794\n",
       "MoSold            0.212053\n",
       "YrSold            0.096269\n",
       "SalePrice         1.882876\n",
       "dtype: float64"
      ]
     },
     "execution_count": 29,
     "metadata": {},
     "output_type": "execute_result"
    }
   ],
   "source": [
    "df.select_dtypes(include='number').skew()"
   ]
  },
  {
   "cell_type": "markdown",
   "id": "de78641e",
   "metadata": {
    "papermill": {
     "duration": 0.01271,
     "end_time": "2025-02-13T18:06:00.208019",
     "exception": false,
     "start_time": "2025-02-13T18:06:00.195309",
     "status": "completed"
    },
    "tags": []
   },
   "source": [
    "## transform using log(x)"
   ]
  },
  {
   "cell_type": "code",
   "execution_count": 30,
   "id": "3b496f6a",
   "metadata": {
    "execution": {
     "iopub.execute_input": "2025-02-13T18:06:00.234171Z",
     "iopub.status.busy": "2025-02-13T18:06:00.233961Z",
     "iopub.status.idle": "2025-02-13T18:06:00.249186Z",
     "shell.execute_reply": "2025-02-13T18:06:00.248229Z"
    },
    "papermill": {
     "duration": 0.030133,
     "end_time": "2025-02-13T18:06:00.250852",
     "exception": false,
     "start_time": "2025-02-13T18:06:00.220719",
     "status": "completed"
    },
    "tags": []
   },
   "outputs": [],
   "source": [
    "ldf=df.copy()\n",
    "# Apply log transformation\n",
    "for column in high_skew_columns:\n",
    "    ldf[column] = np.log1p(df[column])"
   ]
  },
  {
   "cell_type": "markdown",
   "id": "d9df288a",
   "metadata": {
    "papermill": {
     "duration": 0.01546,
     "end_time": "2025-02-13T18:06:00.282041",
     "exception": false,
     "start_time": "2025-02-13T18:06:00.266581",
     "status": "completed"
    },
    "tags": []
   },
   "source": [
    "## transformation using square root"
   ]
  },
  {
   "cell_type": "code",
   "execution_count": 31,
   "id": "a9b50823",
   "metadata": {
    "execution": {
     "iopub.execute_input": "2025-02-13T18:06:00.309110Z",
     "iopub.status.busy": "2025-02-13T18:06:00.308905Z",
     "iopub.status.idle": "2025-02-13T18:06:00.318103Z",
     "shell.execute_reply": "2025-02-13T18:06:00.317520Z"
    },
    "papermill": {
     "duration": 0.024098,
     "end_time": "2025-02-13T18:06:00.319371",
     "exception": false,
     "start_time": "2025-02-13T18:06:00.295273",
     "status": "completed"
    },
    "tags": []
   },
   "outputs": [],
   "source": [
    "sdf=df.copy()\n",
    "for column in high_skew_columns:\n",
    "    sdf[column] = np.sqrt(df[column])\n"
   ]
  },
  {
   "cell_type": "markdown",
   "id": "66f9feff",
   "metadata": {
    "papermill": {
     "duration": 0.012569,
     "end_time": "2025-02-13T18:06:00.345170",
     "exception": false,
     "start_time": "2025-02-13T18:06:00.332601",
     "status": "completed"
    },
    "tags": []
   },
   "source": [
    "## transformation using box cox"
   ]
  },
  {
   "cell_type": "code",
   "execution_count": 32,
   "id": "b42da17a",
   "metadata": {
    "execution": {
     "iopub.execute_input": "2025-02-13T18:06:00.379897Z",
     "iopub.status.busy": "2025-02-13T18:06:00.379676Z",
     "iopub.status.idle": "2025-02-13T18:06:00.581089Z",
     "shell.execute_reply": "2025-02-13T18:06:00.580495Z"
    },
    "papermill": {
     "duration": 0.224287,
     "end_time": "2025-02-13T18:06:00.582256",
     "exception": false,
     "start_time": "2025-02-13T18:06:00.357969",
     "status": "completed"
    },
    "tags": []
   },
   "outputs": [],
   "source": [
    "from scipy import stats\n",
    "bdf=df.copy()\n",
    "for column in high_skew_columns:\n",
    "    bdf[column], _ = stats.boxcox(df[column] + 1)  # Adding 1 to avoid issues with zero values"
   ]
  },
  {
   "cell_type": "markdown",
   "id": "d2d5c265",
   "metadata": {
    "papermill": {
     "duration": 0.012548,
     "end_time": "2025-02-13T18:06:00.607581",
     "exception": false,
     "start_time": "2025-02-13T18:06:00.595033",
     "status": "completed"
    },
    "tags": []
   },
   "source": [
    "## chosing the best one"
   ]
  },
  {
   "cell_type": "code",
   "execution_count": 33,
   "id": "ff28944e",
   "metadata": {
    "execution": {
     "iopub.execute_input": "2025-02-13T18:06:00.633781Z",
     "iopub.status.busy": "2025-02-13T18:06:00.633540Z",
     "iopub.status.idle": "2025-02-13T18:06:00.645473Z",
     "shell.execute_reply": "2025-02-13T18:06:00.644931Z"
    },
    "papermill": {
     "duration": 0.026256,
     "end_time": "2025-02-13T18:06:00.646550",
     "exception": false,
     "start_time": "2025-02-13T18:06:00.620294",
     "status": "completed"
    },
    "tags": []
   },
   "outputs": [],
   "source": [
    "# Calculate skewness for numerical columns in each DataFrame\n",
    "sdfr_skew = df[hsd.columns].select_dtypes(include='number').skew()\n",
    "sdf_skew = sdf[hsd.columns].select_dtypes(include='number').skew()\n",
    "ldf_skew = ldf[hsd.columns].select_dtypes(include='number').skew()\n",
    "bdf_skew = bdf[hsd.columns].select_dtypes(include='number').skew()\n",
    "\n",
    "# Combine skewness results into a new DataFrame\n",
    "skewness_df = pd.DataFrame({\n",
    "    'real df': sdf_skew,\n",
    "    'square root': sdf_skew,\n",
    "    'log(10)': ldf_skew,\n",
    "    'box cox': bdf_skew\n",
    "})"
   ]
  },
  {
   "cell_type": "code",
   "execution_count": 34,
   "id": "a8ad9e04",
   "metadata": {
    "execution": {
     "iopub.execute_input": "2025-02-13T18:06:00.672643Z",
     "iopub.status.busy": "2025-02-13T18:06:00.672403Z",
     "iopub.status.idle": "2025-02-13T18:06:00.681235Z",
     "shell.execute_reply": "2025-02-13T18:06:00.680557Z"
    },
    "papermill": {
     "duration": 0.023154,
     "end_time": "2025-02-13T18:06:00.682393",
     "exception": false,
     "start_time": "2025-02-13T18:06:00.659239",
     "status": "completed"
    },
    "tags": []
   },
   "outputs": [
    {
     "data": {
      "text/html": [
       "<div>\n",
       "<style scoped>\n",
       "    .dataframe tbody tr th:only-of-type {\n",
       "        vertical-align: middle;\n",
       "    }\n",
       "\n",
       "    .dataframe tbody tr th {\n",
       "        vertical-align: top;\n",
       "    }\n",
       "\n",
       "    .dataframe thead th {\n",
       "        text-align: right;\n",
       "    }\n",
       "</style>\n",
       "<table border=\"1\" class=\"dataframe\">\n",
       "  <thead>\n",
       "    <tr style=\"text-align: right;\">\n",
       "      <th></th>\n",
       "      <th>real df</th>\n",
       "      <th>square root</th>\n",
       "      <th>log(10)</th>\n",
       "      <th>box cox</th>\n",
       "    </tr>\n",
       "  </thead>\n",
       "  <tbody>\n",
       "    <tr>\n",
       "      <th>MSSubClass</th>\n",
       "      <td>0.762448</td>\n",
       "      <td>0.762448</td>\n",
       "      <td>0.248997</td>\n",
       "      <td>0.069019</td>\n",
       "    </tr>\n",
       "    <tr>\n",
       "      <th>LotFrontage</th>\n",
       "      <td>0.368212</td>\n",
       "      <td>0.368212</td>\n",
       "      <td>-0.891977</td>\n",
       "      <td>0.173047</td>\n",
       "    </tr>\n",
       "    <tr>\n",
       "      <th>LotArea</th>\n",
       "      <td>4.139714</td>\n",
       "      <td>4.139714</td>\n",
       "      <td>-0.137404</td>\n",
       "      <td>0.026569</td>\n",
       "    </tr>\n",
       "    <tr>\n",
       "      <th>MasVnrArea</th>\n",
       "      <td>1.033300</td>\n",
       "      <td>1.033300</td>\n",
       "      <td>0.481120</td>\n",
       "      <td>0.405245</td>\n",
       "    </tr>\n",
       "    <tr>\n",
       "      <th>BsmtFinSF1</th>\n",
       "      <td>-0.029946</td>\n",
       "      <td>-0.029946</td>\n",
       "      <td>-0.618410</td>\n",
       "      <td>-0.411401</td>\n",
       "    </tr>\n",
       "    <tr>\n",
       "      <th>BsmtFinSF2</th>\n",
       "      <td>3.036810</td>\n",
       "      <td>3.036810</td>\n",
       "      <td>2.523694</td>\n",
       "      <td>2.425650</td>\n",
       "    </tr>\n",
       "    <tr>\n",
       "      <th>TotalBsmtSF</th>\n",
       "      <td>-1.274537</td>\n",
       "      <td>-1.274537</td>\n",
       "      <td>-5.154670</td>\n",
       "      <td>0.232534</td>\n",
       "    </tr>\n",
       "    <tr>\n",
       "      <th>1stFlrSF</th>\n",
       "      <td>0.624263</td>\n",
       "      <td>0.624263</td>\n",
       "      <td>0.080114</td>\n",
       "      <td>-0.001106</td>\n",
       "    </tr>\n",
       "    <tr>\n",
       "      <th>LowQualFinSF</th>\n",
       "      <td>8.065393</td>\n",
       "      <td>8.065393</td>\n",
       "      <td>7.460317</td>\n",
       "      <td>7.299413</td>\n",
       "    </tr>\n",
       "    <tr>\n",
       "      <th>GrLivArea</th>\n",
       "      <td>0.594255</td>\n",
       "      <td>0.594255</td>\n",
       "      <td>-0.006140</td>\n",
       "      <td>0.000171</td>\n",
       "    </tr>\n",
       "    <tr>\n",
       "      <th>BsmtHalfBath</th>\n",
       "      <td>3.893994</td>\n",
       "      <td>3.893994</td>\n",
       "      <td>3.933064</td>\n",
       "      <td>3.859402</td>\n",
       "    </tr>\n",
       "    <tr>\n",
       "      <th>KitchenAbvGr</th>\n",
       "      <td>3.105498</td>\n",
       "      <td>3.105498</td>\n",
       "      <td>3.869414</td>\n",
       "      <td>-2.800950</td>\n",
       "    </tr>\n",
       "    <tr>\n",
       "      <th>WoodDeckSF</th>\n",
       "      <td>0.486574</td>\n",
       "      <td>0.486574</td>\n",
       "      <td>0.153537</td>\n",
       "      <td>0.132275</td>\n",
       "    </tr>\n",
       "    <tr>\n",
       "      <th>OpenPorchSF</th>\n",
       "      <td>0.600884</td>\n",
       "      <td>0.600884</td>\n",
       "      <td>-0.023397</td>\n",
       "      <td>-0.014772</td>\n",
       "    </tr>\n",
       "    <tr>\n",
       "      <th>EnclosedPorch</th>\n",
       "      <td>2.347775</td>\n",
       "      <td>2.347775</td>\n",
       "      <td>2.112275</td>\n",
       "      <td>2.047941</td>\n",
       "    </tr>\n",
       "    <tr>\n",
       "      <th>3SsnPorch</th>\n",
       "      <td>8.277078</td>\n",
       "      <td>8.277078</td>\n",
       "      <td>7.734975</td>\n",
       "      <td>7.613746</td>\n",
       "    </tr>\n",
       "    <tr>\n",
       "      <th>ScreenPorch</th>\n",
       "      <td>3.354780</td>\n",
       "      <td>3.354780</td>\n",
       "      <td>3.150409</td>\n",
       "      <td>3.113266</td>\n",
       "    </tr>\n",
       "    <tr>\n",
       "      <th>PoolArea</th>\n",
       "      <td>14.464808</td>\n",
       "      <td>14.464808</td>\n",
       "      <td>14.363102</td>\n",
       "      <td>14.352680</td>\n",
       "    </tr>\n",
       "    <tr>\n",
       "      <th>MiscVal</th>\n",
       "      <td>9.559130</td>\n",
       "      <td>9.559130</td>\n",
       "      <td>5.170704</td>\n",
       "      <td>5.016528</td>\n",
       "    </tr>\n",
       "    <tr>\n",
       "      <th>SalePrice</th>\n",
       "      <td>0.943153</td>\n",
       "      <td>0.943153</td>\n",
       "      <td>0.121347</td>\n",
       "      <td>-0.008654</td>\n",
       "    </tr>\n",
       "  </tbody>\n",
       "</table>\n",
       "</div>"
      ],
      "text/plain": [
       "                 real df  square root    log(10)    box cox\n",
       "MSSubClass      0.762448     0.762448   0.248997   0.069019\n",
       "LotFrontage     0.368212     0.368212  -0.891977   0.173047\n",
       "LotArea         4.139714     4.139714  -0.137404   0.026569\n",
       "MasVnrArea      1.033300     1.033300   0.481120   0.405245\n",
       "BsmtFinSF1     -0.029946    -0.029946  -0.618410  -0.411401\n",
       "BsmtFinSF2      3.036810     3.036810   2.523694   2.425650\n",
       "TotalBsmtSF    -1.274537    -1.274537  -5.154670   0.232534\n",
       "1stFlrSF        0.624263     0.624263   0.080114  -0.001106\n",
       "LowQualFinSF    8.065393     8.065393   7.460317   7.299413\n",
       "GrLivArea       0.594255     0.594255  -0.006140   0.000171\n",
       "BsmtHalfBath    3.893994     3.893994   3.933064   3.859402\n",
       "KitchenAbvGr    3.105498     3.105498   3.869414  -2.800950\n",
       "WoodDeckSF      0.486574     0.486574   0.153537   0.132275\n",
       "OpenPorchSF     0.600884     0.600884  -0.023397  -0.014772\n",
       "EnclosedPorch   2.347775     2.347775   2.112275   2.047941\n",
       "3SsnPorch       8.277078     8.277078   7.734975   7.613746\n",
       "ScreenPorch     3.354780     3.354780   3.150409   3.113266\n",
       "PoolArea       14.464808    14.464808  14.363102  14.352680\n",
       "MiscVal         9.559130     9.559130   5.170704   5.016528\n",
       "SalePrice       0.943153     0.943153   0.121347  -0.008654"
      ]
     },
     "execution_count": 34,
     "metadata": {},
     "output_type": "execute_result"
    }
   ],
   "source": [
    "skewness_df"
   ]
  },
  {
   "cell_type": "markdown",
   "id": "1e5acc0d",
   "metadata": {
    "papermill": {
     "duration": 0.012715,
     "end_time": "2025-02-13T18:06:00.708031",
     "exception": false,
     "start_time": "2025-02-13T18:06:00.695316",
     "status": "completed"
    },
    "tags": []
   },
   "source": [
    "i'll use box cox as it is the nearest to zero."
   ]
  },
  {
   "cell_type": "code",
   "execution_count": 35,
   "id": "7588cef9",
   "metadata": {
    "execution": {
     "iopub.execute_input": "2025-02-13T18:06:00.734499Z",
     "iopub.status.busy": "2025-02-13T18:06:00.734301Z",
     "iopub.status.idle": "2025-02-13T18:06:00.740299Z",
     "shell.execute_reply": "2025-02-13T18:06:00.739694Z"
    },
    "papermill": {
     "duration": 0.02054,
     "end_time": "2025-02-13T18:06:00.741454",
     "exception": false,
     "start_time": "2025-02-13T18:06:00.720914",
     "status": "completed"
    },
    "tags": []
   },
   "outputs": [],
   "source": [
    "for column in high_skew_columns:\n",
    "    df[column] =bdf[column]"
   ]
  },
  {
   "cell_type": "code",
   "execution_count": 36,
   "id": "824e0603",
   "metadata": {
    "execution": {
     "iopub.execute_input": "2025-02-13T18:06:00.768123Z",
     "iopub.status.busy": "2025-02-13T18:06:00.767906Z",
     "iopub.status.idle": "2025-02-13T18:06:00.774814Z",
     "shell.execute_reply": "2025-02-13T18:06:00.774153Z"
    },
    "papermill": {
     "duration": 0.021632,
     "end_time": "2025-02-13T18:06:00.776087",
     "exception": false,
     "start_time": "2025-02-13T18:06:00.754455",
     "status": "completed"
    },
    "tags": []
   },
   "outputs": [
    {
     "data": {
      "text/plain": [
       "Id                0.000000\n",
       "MSSubClass        1.407657\n",
       "LotFrontage       2.163569\n",
       "LotArea          12.207688\n",
       "OverallQual       0.216944\n",
       "OverallCond       0.693067\n",
       "YearBuilt        -0.613461\n",
       "YearRemodAdd     -0.503562\n",
       "MasVnrArea        2.669084\n",
       "BsmtFinSF1        1.685503\n",
       "BsmtFinSF2        4.255261\n",
       "BsmtUnfSF         0.920268\n",
       "TotalBsmtSF       1.524255\n",
       "1stFlrSF          1.376757\n",
       "2ndFlrSF          0.813030\n",
       "LowQualFinSF      9.011341\n",
       "GrLivArea         1.366560\n",
       "BsmtFullBath      0.596067\n",
       "BsmtHalfBath      4.103403\n",
       "FullBath          0.036562\n",
       "HalfBath          0.675897\n",
       "BedroomAbvGr      0.211790\n",
       "KitchenAbvGr      4.488397\n",
       "TotRmsAbvGrd      0.676341\n",
       "Fireplaces        0.649565\n",
       "GarageYrBlt      -0.649415\n",
       "GarageCars       -0.342549\n",
       "GarageArea        0.179981\n",
       "WoodDeckSF        1.541376\n",
       "OpenPorchSF       2.364342\n",
       "EnclosedPorch     3.089872\n",
       "3SsnPorch        10.304342\n",
       "ScreenPorch       4.122214\n",
       "PoolArea         14.828374\n",
       "MiscVal          24.476794\n",
       "MoSold            0.212053\n",
       "YrSold            0.096269\n",
       "SalePrice         1.882876\n",
       "dtype: float64"
      ]
     },
     "execution_count": 36,
     "metadata": {},
     "output_type": "execute_result"
    }
   ],
   "source": [
    "def nfvalue(df):\n",
    "    nf= df.select_dtypes(include=('number'))\n",
    "    return nf\n",
    "nf.skew()"
   ]
  },
  {
   "cell_type": "markdown",
   "id": "b21ecbd4",
   "metadata": {
    "papermill": {
     "duration": 0.012866,
     "end_time": "2025-02-13T18:06:00.802130",
     "exception": false,
     "start_time": "2025-02-13T18:06:00.789264",
     "status": "completed"
    },
    "tags": []
   },
   "source": [
    "## deleting useless features"
   ]
  },
  {
   "cell_type": "code",
   "execution_count": 37,
   "id": "f1d3e7b0",
   "metadata": {
    "execution": {
     "iopub.execute_input": "2025-02-13T18:06:00.828852Z",
     "iopub.status.busy": "2025-02-13T18:06:00.828607Z",
     "iopub.status.idle": "2025-02-13T18:06:00.833062Z",
     "shell.execute_reply": "2025-02-13T18:06:00.832302Z"
    },
    "papermill": {
     "duration": 0.019143,
     "end_time": "2025-02-13T18:06:00.834227",
     "exception": false,
     "start_time": "2025-02-13T18:06:00.815084",
     "status": "completed"
    },
    "tags": []
   },
   "outputs": [
    {
     "data": {
      "text/plain": [
       "Index(['Id', 'MSSubClass', 'MSZoning', 'LotFrontage', 'LotArea', 'Street',\n",
       "       'LotShape', 'LandContour', 'Utilities', 'LotConfig', 'LandSlope',\n",
       "       'Neighborhood', 'Condition1', 'Condition2', 'BldgType', 'HouseStyle',\n",
       "       'OverallQual', 'OverallCond', 'YearBuilt', 'YearRemodAdd', 'RoofStyle',\n",
       "       'RoofMatl', 'Exterior1st', 'Exterior2nd', 'MasVnrType', 'MasVnrArea',\n",
       "       'ExterQual', 'ExterCond', 'Foundation', 'BsmtQual', 'BsmtCond',\n",
       "       'BsmtExposure', 'BsmtFinType1', 'BsmtFinSF1', 'BsmtFinType2',\n",
       "       'BsmtFinSF2', 'BsmtUnfSF', 'TotalBsmtSF', 'Heating', 'HeatingQC',\n",
       "       'CentralAir', 'Electrical', '1stFlrSF', '2ndFlrSF', 'LowQualFinSF',\n",
       "       'GrLivArea', 'BsmtFullBath', 'BsmtHalfBath', 'FullBath', 'HalfBath',\n",
       "       'BedroomAbvGr', 'KitchenAbvGr', 'KitchenQual', 'TotRmsAbvGrd',\n",
       "       'Functional', 'Fireplaces', 'FireplaceQu', 'GarageType', 'GarageYrBlt',\n",
       "       'GarageFinish', 'GarageCars', 'GarageArea', 'GarageQual', 'GarageCond',\n",
       "       'PavedDrive', 'WoodDeckSF', 'OpenPorchSF', 'EnclosedPorch', '3SsnPorch',\n",
       "       'ScreenPorch', 'PoolArea', 'MiscVal', 'MoSold', 'YrSold', 'SaleType',\n",
       "       'SaleCondition', 'SalePrice'],\n",
       "      dtype='object')"
      ]
     },
     "execution_count": 37,
     "metadata": {},
     "output_type": "execute_result"
    }
   ],
   "source": [
    "df.columns"
   ]
  },
  {
   "cell_type": "code",
   "execution_count": 38,
   "id": "a42092ee",
   "metadata": {
    "execution": {
     "iopub.execute_input": "2025-02-13T18:06:00.861005Z",
     "iopub.status.busy": "2025-02-13T18:06:00.860799Z",
     "iopub.status.idle": "2025-02-13T18:06:00.929915Z",
     "shell.execute_reply": "2025-02-13T18:06:00.929256Z"
    },
    "papermill": {
     "duration": 0.083921,
     "end_time": "2025-02-13T18:06:00.931296",
     "exception": false,
     "start_time": "2025-02-13T18:06:00.847375",
     "status": "completed"
    },
    "tags": []
   },
   "outputs": [],
   "source": [
    "features_to_delete = ['Id', 'Street', 'Utilities','MSSubClass', \n",
    "                      'Condition1','Condition2','RoofStyle','RoofMatl',\n",
    "                     'LandContour','LandSlope','LowQualFinSF','MiscVal','MoSold']\n",
    "\n",
    "# Drop the features from the DataFrame\n",
    "df = df.drop(columns=features_to_delete)"
   ]
  },
  {
   "cell_type": "code",
   "execution_count": 39,
   "id": "c74a8c07",
   "metadata": {
    "execution": {
     "iopub.execute_input": "2025-02-13T18:06:00.959295Z",
     "iopub.status.busy": "2025-02-13T18:06:00.959073Z",
     "iopub.status.idle": "2025-02-13T18:06:00.963158Z",
     "shell.execute_reply": "2025-02-13T18:06:00.962537Z"
    },
    "papermill": {
     "duration": 0.019574,
     "end_time": "2025-02-13T18:06:00.964450",
     "exception": false,
     "start_time": "2025-02-13T18:06:00.944876",
     "status": "completed"
    },
    "tags": []
   },
   "outputs": [],
   "source": [
    "# Define the mapping for GarageQual\n",
    "quality_mapping = {'Ex': 5, 'Gd': 4, 'TA': 3, 'Fa': 2, 'Po': 1, 'NA': 0}\n",
    "\n",
    "# Apply the mapping to convert GarageQual to numerical values\n",
    "df['GarageQual'] = df['GarageQual'].map(quality_mapping)"
   ]
  },
  {
   "cell_type": "code",
   "execution_count": 40,
   "id": "38c56940",
   "metadata": {
    "execution": {
     "iopub.execute_input": "2025-02-13T18:06:00.993725Z",
     "iopub.status.busy": "2025-02-13T18:06:00.993482Z",
     "iopub.status.idle": "2025-02-13T18:06:01.023004Z",
     "shell.execute_reply": "2025-02-13T18:06:01.022361Z"
    },
    "papermill": {
     "duration": 0.045297,
     "end_time": "2025-02-13T18:06:01.024359",
     "exception": false,
     "start_time": "2025-02-13T18:06:00.979062",
     "status": "completed"
    },
    "tags": []
   },
   "outputs": [
    {
     "name": "stdout",
     "output_type": "stream",
     "text": [
      "Feature engineering and dropping redundant features completed. Here are the first few rows of the new DataFrame:\n"
     ]
    },
    {
     "data": {
      "text/html": [
       "<div>\n",
       "<style scoped>\n",
       "    .dataframe tbody tr th:only-of-type {\n",
       "        vertical-align: middle;\n",
       "    }\n",
       "\n",
       "    .dataframe tbody tr th {\n",
       "        vertical-align: top;\n",
       "    }\n",
       "\n",
       "    .dataframe thead th {\n",
       "        text-align: right;\n",
       "    }\n",
       "</style>\n",
       "<table border=\"1\" class=\"dataframe\">\n",
       "  <thead>\n",
       "    <tr style=\"text-align: right;\">\n",
       "      <th></th>\n",
       "      <th>MSZoning</th>\n",
       "      <th>LotShape</th>\n",
       "      <th>LotConfig</th>\n",
       "      <th>Neighborhood</th>\n",
       "      <th>BldgType</th>\n",
       "      <th>HouseStyle</th>\n",
       "      <th>Exterior1st</th>\n",
       "      <th>Exterior2nd</th>\n",
       "      <th>MasVnrType</th>\n",
       "      <th>MasVnrArea</th>\n",
       "      <th>...</th>\n",
       "      <th>SaleCondition</th>\n",
       "      <th>SalePrice</th>\n",
       "      <th>AgeOfHouse</th>\n",
       "      <th>RemodelAge</th>\n",
       "      <th>TotalBath</th>\n",
       "      <th>TotalPorchSF</th>\n",
       "      <th>TotalBsmtFinSF</th>\n",
       "      <th>HouseQuality</th>\n",
       "      <th>LotRatio</th>\n",
       "      <th>GarageScore</th>\n",
       "    </tr>\n",
       "  </thead>\n",
       "  <tbody>\n",
       "    <tr>\n",
       "      <th>0</th>\n",
       "      <td>RL</td>\n",
       "      <td>Reg</td>\n",
       "      <td>Inside</td>\n",
       "      <td>CollgCr</td>\n",
       "      <td>1Fam</td>\n",
       "      <td>2Story</td>\n",
       "      <td>VinylSd</td>\n",
       "      <td>VinylSd</td>\n",
       "      <td>BrkFace</td>\n",
       "      <td>3.039762</td>\n",
       "      <td>...</td>\n",
       "      <td>Normal</td>\n",
       "      <td>7.932276</td>\n",
       "      <td>5</td>\n",
       "      <td>5</td>\n",
       "      <td>3.500000</td>\n",
       "      <td>4.227899</td>\n",
       "      <td>15.235367</td>\n",
       "      <td>35</td>\n",
       "      <td>1.118691</td>\n",
       "      <td>3288</td>\n",
       "    </tr>\n",
       "    <tr>\n",
       "      <th>1</th>\n",
       "      <td>RL</td>\n",
       "      <td>Reg</td>\n",
       "      <td>FR2</td>\n",
       "      <td>Veenker</td>\n",
       "      <td>1Fam</td>\n",
       "      <td>1Story</td>\n",
       "      <td>MetalSd</td>\n",
       "      <td>MetalSd</td>\n",
       "      <td>BrkFace</td>\n",
       "      <td>0.000000</td>\n",
       "      <td>...</td>\n",
       "      <td>Normal</td>\n",
       "      <td>7.877934</td>\n",
       "      <td>31</td>\n",
       "      <td>31</td>\n",
       "      <td>2.019743</td>\n",
       "      <td>0.000000</td>\n",
       "      <td>16.750862</td>\n",
       "      <td>48</td>\n",
       "      <td>1.221613</td>\n",
       "      <td>2760</td>\n",
       "    </tr>\n",
       "    <tr>\n",
       "      <th>2</th>\n",
       "      <td>RL</td>\n",
       "      <td>IR1</td>\n",
       "      <td>Inside</td>\n",
       "      <td>CollgCr</td>\n",
       "      <td>1Fam</td>\n",
       "      <td>2Story</td>\n",
       "      <td>VinylSd</td>\n",
       "      <td>VinylSd</td>\n",
       "      <td>BrkFace</td>\n",
       "      <td>2.983148</td>\n",
       "      <td>...</td>\n",
       "      <td>Normal</td>\n",
       "      <td>7.959280</td>\n",
       "      <td>7</td>\n",
       "      <td>6</td>\n",
       "      <td>3.500000</td>\n",
       "      <td>3.844769</td>\n",
       "      <td>13.632899</td>\n",
       "      <td>35</td>\n",
       "      <td>1.104203</td>\n",
       "      <td>3648</td>\n",
       "    </tr>\n",
       "    <tr>\n",
       "      <th>3</th>\n",
       "      <td>RL</td>\n",
       "      <td>IR1</td>\n",
       "      <td>Corner</td>\n",
       "      <td>Crawfor</td>\n",
       "      <td>1Fam</td>\n",
       "      <td>2Story</td>\n",
       "      <td>Wd Sdng</td>\n",
       "      <td>Wd Shng</td>\n",
       "      <td>BrkFace</td>\n",
       "      <td>0.000000</td>\n",
       "      <td>...</td>\n",
       "      <td>Abnorml</td>\n",
       "      <td>7.774636</td>\n",
       "      <td>91</td>\n",
       "      <td>36</td>\n",
       "      <td>2.000000</td>\n",
       "      <td>4.363332</td>\n",
       "      <td>10.593523</td>\n",
       "      <td>35</td>\n",
       "      <td>1.057837</td>\n",
       "      <td>5778</td>\n",
       "    </tr>\n",
       "    <tr>\n",
       "      <th>4</th>\n",
       "      <td>RL</td>\n",
       "      <td>IR1</td>\n",
       "      <td>FR2</td>\n",
       "      <td>NoRidge</td>\n",
       "      <td>1Fam</td>\n",
       "      <td>2Story</td>\n",
       "      <td>VinylSd</td>\n",
       "      <td>VinylSd</td>\n",
       "      <td>BrkFace</td>\n",
       "      <td>3.197720</td>\n",
       "      <td>...</td>\n",
       "      <td>Normal</td>\n",
       "      <td>8.002532</td>\n",
       "      <td>8</td>\n",
       "      <td>8</td>\n",
       "      <td>3.500000</td>\n",
       "      <td>4.559556</td>\n",
       "      <td>14.902455</td>\n",
       "      <td>40</td>\n",
       "      <td>1.192189</td>\n",
       "      <td>7524</td>\n",
       "    </tr>\n",
       "  </tbody>\n",
       "</table>\n",
       "<p>5 rows × 58 columns</p>\n",
       "</div>"
      ],
      "text/plain": [
       "  MSZoning LotShape LotConfig Neighborhood BldgType HouseStyle Exterior1st  \\\n",
       "0       RL      Reg    Inside      CollgCr     1Fam     2Story     VinylSd   \n",
       "1       RL      Reg       FR2      Veenker     1Fam     1Story     MetalSd   \n",
       "2       RL      IR1    Inside      CollgCr     1Fam     2Story     VinylSd   \n",
       "3       RL      IR1    Corner      Crawfor     1Fam     2Story     Wd Sdng   \n",
       "4       RL      IR1       FR2      NoRidge     1Fam     2Story     VinylSd   \n",
       "\n",
       "  Exterior2nd MasVnrType  MasVnrArea  ... SaleCondition SalePrice AgeOfHouse  \\\n",
       "0     VinylSd    BrkFace    3.039762  ...        Normal  7.932276          5   \n",
       "1     MetalSd    BrkFace    0.000000  ...        Normal  7.877934         31   \n",
       "2     VinylSd    BrkFace    2.983148  ...        Normal  7.959280          7   \n",
       "3     Wd Shng    BrkFace    0.000000  ...       Abnorml  7.774636         91   \n",
       "4     VinylSd    BrkFace    3.197720  ...        Normal  8.002532          8   \n",
       "\n",
       "  RemodelAge TotalBath TotalPorchSF TotalBsmtFinSF HouseQuality  LotRatio  \\\n",
       "0          5  3.500000     4.227899      15.235367           35  1.118691   \n",
       "1         31  2.019743     0.000000      16.750862           48  1.221613   \n",
       "2          6  3.500000     3.844769      13.632899           35  1.104203   \n",
       "3         36  2.000000     4.363332      10.593523           35  1.057837   \n",
       "4          8  3.500000     4.559556      14.902455           40  1.192189   \n",
       "\n",
       "   GarageScore  \n",
       "0         3288  \n",
       "1         2760  \n",
       "2         3648  \n",
       "3         5778  \n",
       "4         7524  \n",
       "\n",
       "[5 rows x 58 columns]"
      ]
     },
     "execution_count": 40,
     "metadata": {},
     "output_type": "execute_result"
    }
   ],
   "source": [
    "# Calculate new features\n",
    "df['AgeOfHouse'] = df['YrSold'] - df['YearBuilt']\n",
    "df['RemodelAge'] = df['YrSold'] - df['YearRemodAdd']\n",
    "df['TotalBath'] = df['FullBath'] + 0.5 * df['HalfBath'] + df['BsmtFullBath'] + 0.5 * df['BsmtHalfBath']\n",
    "df['TotalPorchSF'] = df['OpenPorchSF'] + df['EnclosedPorch'] + df['3SsnPorch'] + df['ScreenPorch']\n",
    "df['TotalBsmtFinSF'] = df['BsmtFinSF1'] + df['BsmtFinSF2']\n",
    "df['HouseQuality'] = df['OverallQual'] * df['OverallCond']\n",
    "df['LotRatio'] = df['LotFrontage'] / df['LotArea']\n",
    "df['GarageScore'] = df['GarageCars'] * df['GarageArea'] * df['GarageQual']\n",
    "\n",
    "# Drop original features if they are now redundant\n",
    "features_to_drop = ['YrSold', 'YearBuilt', 'YearRemodAdd', 'OpenPorchSF', 'GarageQual', 'EnclosedPorch', '3SsnPorch', 'ScreenPorch', 'BsmtFinSF1', 'BsmtFinSF2', 'OverallQual', 'OverallCond', 'LotFrontage', 'LotArea']\n",
    "df.drop(columns=features_to_drop, inplace=True)\n",
    "\n",
    "print(\"Feature engineering and dropping redundant features completed. Here are the first few rows of the new DataFrame:\")\n",
    "df.head()"
   ]
  },
  {
   "cell_type": "code",
   "execution_count": 41,
   "id": "8a0095a4",
   "metadata": {
    "execution": {
     "iopub.execute_input": "2025-02-13T18:06:01.053337Z",
     "iopub.status.busy": "2025-02-13T18:06:01.053119Z",
     "iopub.status.idle": "2025-02-13T18:06:01.057389Z",
     "shell.execute_reply": "2025-02-13T18:06:01.056585Z"
    },
    "papermill": {
     "duration": 0.01944,
     "end_time": "2025-02-13T18:06:01.058507",
     "exception": false,
     "start_time": "2025-02-13T18:06:01.039067",
     "status": "completed"
    },
    "tags": []
   },
   "outputs": [
    {
     "data": {
      "text/plain": [
       "(1460, 58)"
      ]
     },
     "execution_count": 41,
     "metadata": {},
     "output_type": "execute_result"
    }
   ],
   "source": [
    "df.shape"
   ]
  },
  {
   "cell_type": "markdown",
   "id": "324c8e83",
   "metadata": {
    "papermill": {
     "duration": 0.013672,
     "end_time": "2025-02-13T18:06:01.086255",
     "exception": false,
     "start_time": "2025-02-13T18:06:01.072583",
     "status": "completed"
    },
    "tags": []
   },
   "source": [
    "# test.csv cleaning"
   ]
  },
  {
   "cell_type": "code",
   "execution_count": 42,
   "id": "82c2bcd1",
   "metadata": {
    "execution": {
     "iopub.execute_input": "2025-02-13T18:06:01.114219Z",
     "iopub.status.busy": "2025-02-13T18:06:01.113987Z",
     "iopub.status.idle": "2025-02-13T18:06:01.156557Z",
     "shell.execute_reply": "2025-02-13T18:06:01.155895Z"
    },
    "papermill": {
     "duration": 0.057772,
     "end_time": "2025-02-13T18:06:01.157805",
     "exception": false,
     "start_time": "2025-02-13T18:06:01.100033",
     "status": "completed"
    },
    "tags": []
   },
   "outputs": [
    {
     "data": {
      "text/html": [
       "<div>\n",
       "<style scoped>\n",
       "    .dataframe tbody tr th:only-of-type {\n",
       "        vertical-align: middle;\n",
       "    }\n",
       "\n",
       "    .dataframe tbody tr th {\n",
       "        vertical-align: top;\n",
       "    }\n",
       "\n",
       "    .dataframe thead th {\n",
       "        text-align: right;\n",
       "    }\n",
       "</style>\n",
       "<table border=\"1\" class=\"dataframe\">\n",
       "  <thead>\n",
       "    <tr style=\"text-align: right;\">\n",
       "      <th></th>\n",
       "      <th>Id</th>\n",
       "      <th>MSSubClass</th>\n",
       "      <th>MSZoning</th>\n",
       "      <th>LotFrontage</th>\n",
       "      <th>LotArea</th>\n",
       "      <th>Street</th>\n",
       "      <th>Alley</th>\n",
       "      <th>LotShape</th>\n",
       "      <th>LandContour</th>\n",
       "      <th>Utilities</th>\n",
       "      <th>...</th>\n",
       "      <th>ScreenPorch</th>\n",
       "      <th>PoolArea</th>\n",
       "      <th>PoolQC</th>\n",
       "      <th>Fence</th>\n",
       "      <th>MiscFeature</th>\n",
       "      <th>MiscVal</th>\n",
       "      <th>MoSold</th>\n",
       "      <th>YrSold</th>\n",
       "      <th>SaleType</th>\n",
       "      <th>SaleCondition</th>\n",
       "    </tr>\n",
       "  </thead>\n",
       "  <tbody>\n",
       "    <tr>\n",
       "      <th>0</th>\n",
       "      <td>1461</td>\n",
       "      <td>20</td>\n",
       "      <td>RH</td>\n",
       "      <td>80.0</td>\n",
       "      <td>11622</td>\n",
       "      <td>Pave</td>\n",
       "      <td>NaN</td>\n",
       "      <td>Reg</td>\n",
       "      <td>Lvl</td>\n",
       "      <td>AllPub</td>\n",
       "      <td>...</td>\n",
       "      <td>120</td>\n",
       "      <td>0</td>\n",
       "      <td>NaN</td>\n",
       "      <td>MnPrv</td>\n",
       "      <td>NaN</td>\n",
       "      <td>0</td>\n",
       "      <td>6</td>\n",
       "      <td>2010</td>\n",
       "      <td>WD</td>\n",
       "      <td>Normal</td>\n",
       "    </tr>\n",
       "    <tr>\n",
       "      <th>1</th>\n",
       "      <td>1462</td>\n",
       "      <td>20</td>\n",
       "      <td>RL</td>\n",
       "      <td>81.0</td>\n",
       "      <td>14267</td>\n",
       "      <td>Pave</td>\n",
       "      <td>NaN</td>\n",
       "      <td>IR1</td>\n",
       "      <td>Lvl</td>\n",
       "      <td>AllPub</td>\n",
       "      <td>...</td>\n",
       "      <td>0</td>\n",
       "      <td>0</td>\n",
       "      <td>NaN</td>\n",
       "      <td>NaN</td>\n",
       "      <td>Gar2</td>\n",
       "      <td>12500</td>\n",
       "      <td>6</td>\n",
       "      <td>2010</td>\n",
       "      <td>WD</td>\n",
       "      <td>Normal</td>\n",
       "    </tr>\n",
       "    <tr>\n",
       "      <th>2</th>\n",
       "      <td>1463</td>\n",
       "      <td>60</td>\n",
       "      <td>RL</td>\n",
       "      <td>74.0</td>\n",
       "      <td>13830</td>\n",
       "      <td>Pave</td>\n",
       "      <td>NaN</td>\n",
       "      <td>IR1</td>\n",
       "      <td>Lvl</td>\n",
       "      <td>AllPub</td>\n",
       "      <td>...</td>\n",
       "      <td>0</td>\n",
       "      <td>0</td>\n",
       "      <td>NaN</td>\n",
       "      <td>MnPrv</td>\n",
       "      <td>NaN</td>\n",
       "      <td>0</td>\n",
       "      <td>3</td>\n",
       "      <td>2010</td>\n",
       "      <td>WD</td>\n",
       "      <td>Normal</td>\n",
       "    </tr>\n",
       "    <tr>\n",
       "      <th>3</th>\n",
       "      <td>1464</td>\n",
       "      <td>60</td>\n",
       "      <td>RL</td>\n",
       "      <td>78.0</td>\n",
       "      <td>9978</td>\n",
       "      <td>Pave</td>\n",
       "      <td>NaN</td>\n",
       "      <td>IR1</td>\n",
       "      <td>Lvl</td>\n",
       "      <td>AllPub</td>\n",
       "      <td>...</td>\n",
       "      <td>0</td>\n",
       "      <td>0</td>\n",
       "      <td>NaN</td>\n",
       "      <td>NaN</td>\n",
       "      <td>NaN</td>\n",
       "      <td>0</td>\n",
       "      <td>6</td>\n",
       "      <td>2010</td>\n",
       "      <td>WD</td>\n",
       "      <td>Normal</td>\n",
       "    </tr>\n",
       "    <tr>\n",
       "      <th>4</th>\n",
       "      <td>1465</td>\n",
       "      <td>120</td>\n",
       "      <td>RL</td>\n",
       "      <td>43.0</td>\n",
       "      <td>5005</td>\n",
       "      <td>Pave</td>\n",
       "      <td>NaN</td>\n",
       "      <td>IR1</td>\n",
       "      <td>HLS</td>\n",
       "      <td>AllPub</td>\n",
       "      <td>...</td>\n",
       "      <td>144</td>\n",
       "      <td>0</td>\n",
       "      <td>NaN</td>\n",
       "      <td>NaN</td>\n",
       "      <td>NaN</td>\n",
       "      <td>0</td>\n",
       "      <td>1</td>\n",
       "      <td>2010</td>\n",
       "      <td>WD</td>\n",
       "      <td>Normal</td>\n",
       "    </tr>\n",
       "    <tr>\n",
       "      <th>...</th>\n",
       "      <td>...</td>\n",
       "      <td>...</td>\n",
       "      <td>...</td>\n",
       "      <td>...</td>\n",
       "      <td>...</td>\n",
       "      <td>...</td>\n",
       "      <td>...</td>\n",
       "      <td>...</td>\n",
       "      <td>...</td>\n",
       "      <td>...</td>\n",
       "      <td>...</td>\n",
       "      <td>...</td>\n",
       "      <td>...</td>\n",
       "      <td>...</td>\n",
       "      <td>...</td>\n",
       "      <td>...</td>\n",
       "      <td>...</td>\n",
       "      <td>...</td>\n",
       "      <td>...</td>\n",
       "      <td>...</td>\n",
       "      <td>...</td>\n",
       "    </tr>\n",
       "    <tr>\n",
       "      <th>1454</th>\n",
       "      <td>2915</td>\n",
       "      <td>160</td>\n",
       "      <td>RM</td>\n",
       "      <td>21.0</td>\n",
       "      <td>1936</td>\n",
       "      <td>Pave</td>\n",
       "      <td>NaN</td>\n",
       "      <td>Reg</td>\n",
       "      <td>Lvl</td>\n",
       "      <td>AllPub</td>\n",
       "      <td>...</td>\n",
       "      <td>0</td>\n",
       "      <td>0</td>\n",
       "      <td>NaN</td>\n",
       "      <td>NaN</td>\n",
       "      <td>NaN</td>\n",
       "      <td>0</td>\n",
       "      <td>6</td>\n",
       "      <td>2006</td>\n",
       "      <td>WD</td>\n",
       "      <td>Normal</td>\n",
       "    </tr>\n",
       "    <tr>\n",
       "      <th>1455</th>\n",
       "      <td>2916</td>\n",
       "      <td>160</td>\n",
       "      <td>RM</td>\n",
       "      <td>21.0</td>\n",
       "      <td>1894</td>\n",
       "      <td>Pave</td>\n",
       "      <td>NaN</td>\n",
       "      <td>Reg</td>\n",
       "      <td>Lvl</td>\n",
       "      <td>AllPub</td>\n",
       "      <td>...</td>\n",
       "      <td>0</td>\n",
       "      <td>0</td>\n",
       "      <td>NaN</td>\n",
       "      <td>NaN</td>\n",
       "      <td>NaN</td>\n",
       "      <td>0</td>\n",
       "      <td>4</td>\n",
       "      <td>2006</td>\n",
       "      <td>WD</td>\n",
       "      <td>Abnorml</td>\n",
       "    </tr>\n",
       "    <tr>\n",
       "      <th>1456</th>\n",
       "      <td>2917</td>\n",
       "      <td>20</td>\n",
       "      <td>RL</td>\n",
       "      <td>160.0</td>\n",
       "      <td>20000</td>\n",
       "      <td>Pave</td>\n",
       "      <td>NaN</td>\n",
       "      <td>Reg</td>\n",
       "      <td>Lvl</td>\n",
       "      <td>AllPub</td>\n",
       "      <td>...</td>\n",
       "      <td>0</td>\n",
       "      <td>0</td>\n",
       "      <td>NaN</td>\n",
       "      <td>NaN</td>\n",
       "      <td>NaN</td>\n",
       "      <td>0</td>\n",
       "      <td>9</td>\n",
       "      <td>2006</td>\n",
       "      <td>WD</td>\n",
       "      <td>Abnorml</td>\n",
       "    </tr>\n",
       "    <tr>\n",
       "      <th>1457</th>\n",
       "      <td>2918</td>\n",
       "      <td>85</td>\n",
       "      <td>RL</td>\n",
       "      <td>62.0</td>\n",
       "      <td>10441</td>\n",
       "      <td>Pave</td>\n",
       "      <td>NaN</td>\n",
       "      <td>Reg</td>\n",
       "      <td>Lvl</td>\n",
       "      <td>AllPub</td>\n",
       "      <td>...</td>\n",
       "      <td>0</td>\n",
       "      <td>0</td>\n",
       "      <td>NaN</td>\n",
       "      <td>MnPrv</td>\n",
       "      <td>Shed</td>\n",
       "      <td>700</td>\n",
       "      <td>7</td>\n",
       "      <td>2006</td>\n",
       "      <td>WD</td>\n",
       "      <td>Normal</td>\n",
       "    </tr>\n",
       "    <tr>\n",
       "      <th>1458</th>\n",
       "      <td>2919</td>\n",
       "      <td>60</td>\n",
       "      <td>RL</td>\n",
       "      <td>74.0</td>\n",
       "      <td>9627</td>\n",
       "      <td>Pave</td>\n",
       "      <td>NaN</td>\n",
       "      <td>Reg</td>\n",
       "      <td>Lvl</td>\n",
       "      <td>AllPub</td>\n",
       "      <td>...</td>\n",
       "      <td>0</td>\n",
       "      <td>0</td>\n",
       "      <td>NaN</td>\n",
       "      <td>NaN</td>\n",
       "      <td>NaN</td>\n",
       "      <td>0</td>\n",
       "      <td>11</td>\n",
       "      <td>2006</td>\n",
       "      <td>WD</td>\n",
       "      <td>Normal</td>\n",
       "    </tr>\n",
       "  </tbody>\n",
       "</table>\n",
       "<p>1459 rows × 80 columns</p>\n",
       "</div>"
      ],
      "text/plain": [
       "        Id  MSSubClass MSZoning  LotFrontage  LotArea Street Alley LotShape  \\\n",
       "0     1461          20       RH         80.0    11622   Pave   NaN      Reg   \n",
       "1     1462          20       RL         81.0    14267   Pave   NaN      IR1   \n",
       "2     1463          60       RL         74.0    13830   Pave   NaN      IR1   \n",
       "3     1464          60       RL         78.0     9978   Pave   NaN      IR1   \n",
       "4     1465         120       RL         43.0     5005   Pave   NaN      IR1   \n",
       "...    ...         ...      ...          ...      ...    ...   ...      ...   \n",
       "1454  2915         160       RM         21.0     1936   Pave   NaN      Reg   \n",
       "1455  2916         160       RM         21.0     1894   Pave   NaN      Reg   \n",
       "1456  2917          20       RL        160.0    20000   Pave   NaN      Reg   \n",
       "1457  2918          85       RL         62.0    10441   Pave   NaN      Reg   \n",
       "1458  2919          60       RL         74.0     9627   Pave   NaN      Reg   \n",
       "\n",
       "     LandContour Utilities  ... ScreenPorch PoolArea PoolQC  Fence  \\\n",
       "0            Lvl    AllPub  ...         120        0    NaN  MnPrv   \n",
       "1            Lvl    AllPub  ...           0        0    NaN    NaN   \n",
       "2            Lvl    AllPub  ...           0        0    NaN  MnPrv   \n",
       "3            Lvl    AllPub  ...           0        0    NaN    NaN   \n",
       "4            HLS    AllPub  ...         144        0    NaN    NaN   \n",
       "...          ...       ...  ...         ...      ...    ...    ...   \n",
       "1454         Lvl    AllPub  ...           0        0    NaN    NaN   \n",
       "1455         Lvl    AllPub  ...           0        0    NaN    NaN   \n",
       "1456         Lvl    AllPub  ...           0        0    NaN    NaN   \n",
       "1457         Lvl    AllPub  ...           0        0    NaN  MnPrv   \n",
       "1458         Lvl    AllPub  ...           0        0    NaN    NaN   \n",
       "\n",
       "     MiscFeature MiscVal MoSold  YrSold  SaleType  SaleCondition  \n",
       "0            NaN       0      6    2010        WD         Normal  \n",
       "1           Gar2   12500      6    2010        WD         Normal  \n",
       "2            NaN       0      3    2010        WD         Normal  \n",
       "3            NaN       0      6    2010        WD         Normal  \n",
       "4            NaN       0      1    2010        WD         Normal  \n",
       "...          ...     ...    ...     ...       ...            ...  \n",
       "1454         NaN       0      6    2006        WD         Normal  \n",
       "1455         NaN       0      4    2006        WD        Abnorml  \n",
       "1456         NaN       0      9    2006        WD        Abnorml  \n",
       "1457        Shed     700      7    2006        WD         Normal  \n",
       "1458         NaN       0     11    2006        WD         Normal  \n",
       "\n",
       "[1459 rows x 80 columns]"
      ]
     },
     "execution_count": 42,
     "metadata": {},
     "output_type": "execute_result"
    }
   ],
   "source": [
    "df_test= pd.read_csv('/kaggle/input/home-data-for-ml-course/test.csv')\n",
    "df_test"
   ]
  },
  {
   "cell_type": "code",
   "execution_count": 43,
   "id": "18d522ac",
   "metadata": {
    "execution": {
     "iopub.execute_input": "2025-02-13T18:06:01.186703Z",
     "iopub.status.busy": "2025-02-13T18:06:01.186467Z",
     "iopub.status.idle": "2025-02-13T18:06:01.199617Z",
     "shell.execute_reply": "2025-02-13T18:06:01.198548Z"
    },
    "papermill": {
     "duration": 0.028676,
     "end_time": "2025-02-13T18:06:01.200848",
     "exception": false,
     "start_time": "2025-02-13T18:06:01.172172",
     "status": "completed"
    },
    "tags": []
   },
   "outputs": [
    {
     "name": "stdout",
     "output_type": "stream",
     "text": [
      "<class 'pandas.core.frame.DataFrame'>\n",
      "RangeIndex: 1459 entries, 0 to 1458\n",
      "Data columns (total 80 columns):\n",
      " #   Column         Non-Null Count  Dtype  \n",
      "---  ------         --------------  -----  \n",
      " 0   Id             1459 non-null   int64  \n",
      " 1   MSSubClass     1459 non-null   int64  \n",
      " 2   MSZoning       1455 non-null   object \n",
      " 3   LotFrontage    1232 non-null   float64\n",
      " 4   LotArea        1459 non-null   int64  \n",
      " 5   Street         1459 non-null   object \n",
      " 6   Alley          107 non-null    object \n",
      " 7   LotShape       1459 non-null   object \n",
      " 8   LandContour    1459 non-null   object \n",
      " 9   Utilities      1457 non-null   object \n",
      " 10  LotConfig      1459 non-null   object \n",
      " 11  LandSlope      1459 non-null   object \n",
      " 12  Neighborhood   1459 non-null   object \n",
      " 13  Condition1     1459 non-null   object \n",
      " 14  Condition2     1459 non-null   object \n",
      " 15  BldgType       1459 non-null   object \n",
      " 16  HouseStyle     1459 non-null   object \n",
      " 17  OverallQual    1459 non-null   int64  \n",
      " 18  OverallCond    1459 non-null   int64  \n",
      " 19  YearBuilt      1459 non-null   int64  \n",
      " 20  YearRemodAdd   1459 non-null   int64  \n",
      " 21  RoofStyle      1459 non-null   object \n",
      " 22  RoofMatl       1459 non-null   object \n",
      " 23  Exterior1st    1458 non-null   object \n",
      " 24  Exterior2nd    1458 non-null   object \n",
      " 25  MasVnrType     565 non-null    object \n",
      " 26  MasVnrArea     1444 non-null   float64\n",
      " 27  ExterQual      1459 non-null   object \n",
      " 28  ExterCond      1459 non-null   object \n",
      " 29  Foundation     1459 non-null   object \n",
      " 30  BsmtQual       1415 non-null   object \n",
      " 31  BsmtCond       1414 non-null   object \n",
      " 32  BsmtExposure   1415 non-null   object \n",
      " 33  BsmtFinType1   1417 non-null   object \n",
      " 34  BsmtFinSF1     1458 non-null   float64\n",
      " 35  BsmtFinType2   1417 non-null   object \n",
      " 36  BsmtFinSF2     1458 non-null   float64\n",
      " 37  BsmtUnfSF      1458 non-null   float64\n",
      " 38  TotalBsmtSF    1458 non-null   float64\n",
      " 39  Heating        1459 non-null   object \n",
      " 40  HeatingQC      1459 non-null   object \n",
      " 41  CentralAir     1459 non-null   object \n",
      " 42  Electrical     1459 non-null   object \n",
      " 43  1stFlrSF       1459 non-null   int64  \n",
      " 44  2ndFlrSF       1459 non-null   int64  \n",
      " 45  LowQualFinSF   1459 non-null   int64  \n",
      " 46  GrLivArea      1459 non-null   int64  \n",
      " 47  BsmtFullBath   1457 non-null   float64\n",
      " 48  BsmtHalfBath   1457 non-null   float64\n",
      " 49  FullBath       1459 non-null   int64  \n",
      " 50  HalfBath       1459 non-null   int64  \n",
      " 51  BedroomAbvGr   1459 non-null   int64  \n",
      " 52  KitchenAbvGr   1459 non-null   int64  \n",
      " 53  KitchenQual    1458 non-null   object \n",
      " 54  TotRmsAbvGrd   1459 non-null   int64  \n",
      " 55  Functional     1457 non-null   object \n",
      " 56  Fireplaces     1459 non-null   int64  \n",
      " 57  FireplaceQu    729 non-null    object \n",
      " 58  GarageType     1383 non-null   object \n",
      " 59  GarageYrBlt    1381 non-null   float64\n",
      " 60  GarageFinish   1381 non-null   object \n",
      " 61  GarageCars     1458 non-null   float64\n",
      " 62  GarageArea     1458 non-null   float64\n",
      " 63  GarageQual     1381 non-null   object \n",
      " 64  GarageCond     1381 non-null   object \n",
      " 65  PavedDrive     1459 non-null   object \n",
      " 66  WoodDeckSF     1459 non-null   int64  \n",
      " 67  OpenPorchSF    1459 non-null   int64  \n",
      " 68  EnclosedPorch  1459 non-null   int64  \n",
      " 69  3SsnPorch      1459 non-null   int64  \n",
      " 70  ScreenPorch    1459 non-null   int64  \n",
      " 71  PoolArea       1459 non-null   int64  \n",
      " 72  PoolQC         3 non-null      object \n",
      " 73  Fence          290 non-null    object \n",
      " 74  MiscFeature    51 non-null     object \n",
      " 75  MiscVal        1459 non-null   int64  \n",
      " 76  MoSold         1459 non-null   int64  \n",
      " 77  YrSold         1459 non-null   int64  \n",
      " 78  SaleType       1458 non-null   object \n",
      " 79  SaleCondition  1459 non-null   object \n",
      "dtypes: float64(11), int64(26), object(43)\n",
      "memory usage: 912.0+ KB\n"
     ]
    }
   ],
   "source": [
    "df_test.info()"
   ]
  },
  {
   "cell_type": "code",
   "execution_count": 44,
   "id": "7bc82c89",
   "metadata": {
    "execution": {
     "iopub.execute_input": "2025-02-13T18:06:01.229407Z",
     "iopub.status.busy": "2025-02-13T18:06:01.229186Z",
     "iopub.status.idle": "2025-02-13T18:06:01.233382Z",
     "shell.execute_reply": "2025-02-13T18:06:01.232576Z"
    },
    "papermill": {
     "duration": 0.019761,
     "end_time": "2025-02-13T18:06:01.234592",
     "exception": false,
     "start_time": "2025-02-13T18:06:01.214831",
     "status": "completed"
    },
    "tags": []
   },
   "outputs": [
    {
     "data": {
      "text/plain": [
       "(1459, 80)"
      ]
     },
     "execution_count": 44,
     "metadata": {},
     "output_type": "execute_result"
    }
   ],
   "source": [
    "df_test.shape"
   ]
  },
  {
   "cell_type": "code",
   "execution_count": 45,
   "id": "c2eaa23f",
   "metadata": {
    "execution": {
     "iopub.execute_input": "2025-02-13T18:06:01.262926Z",
     "iopub.status.busy": "2025-02-13T18:06:01.262723Z",
     "iopub.status.idle": "2025-02-13T18:06:01.270513Z",
     "shell.execute_reply": "2025-02-13T18:06:01.269900Z"
    },
    "papermill": {
     "duration": 0.023112,
     "end_time": "2025-02-13T18:06:01.271563",
     "exception": false,
     "start_time": "2025-02-13T18:06:01.248451",
     "status": "completed"
    },
    "tags": []
   },
   "outputs": [
    {
     "data": {
      "text/plain": [
       "Id                 0\n",
       "MSSubClass         0\n",
       "MSZoning           4\n",
       "LotFrontage      227\n",
       "LotArea            0\n",
       "                ... \n",
       "MiscVal            0\n",
       "MoSold             0\n",
       "YrSold             0\n",
       "SaleType           1\n",
       "SaleCondition      0\n",
       "Length: 80, dtype: int64"
      ]
     },
     "execution_count": 45,
     "metadata": {},
     "output_type": "execute_result"
    }
   ],
   "source": [
    "df_test.isnull().sum()"
   ]
  },
  {
   "cell_type": "code",
   "execution_count": 46,
   "id": "6e86865d",
   "metadata": {
    "execution": {
     "iopub.execute_input": "2025-02-13T18:06:01.300533Z",
     "iopub.status.busy": "2025-02-13T18:06:01.300338Z",
     "iopub.status.idle": "2025-02-13T18:06:01.303852Z",
     "shell.execute_reply": "2025-02-13T18:06:01.303202Z"
    },
    "papermill": {
     "duration": 0.019137,
     "end_time": "2025-02-13T18:06:01.305036",
     "exception": false,
     "start_time": "2025-02-13T18:06:01.285899",
     "status": "completed"
    },
    "tags": []
   },
   "outputs": [],
   "source": [
    "Id=pd.DataFrame()\n",
    "Id=df_test['Id']"
   ]
  },
  {
   "cell_type": "code",
   "execution_count": 47,
   "id": "6ec21a8c",
   "metadata": {
    "execution": {
     "iopub.execute_input": "2025-02-13T18:06:01.333775Z",
     "iopub.status.busy": "2025-02-13T18:06:01.333543Z",
     "iopub.status.idle": "2025-02-13T18:06:01.350852Z",
     "shell.execute_reply": "2025-02-13T18:06:01.350114Z"
    },
    "papermill": {
     "duration": 0.032921,
     "end_time": "2025-02-13T18:06:01.351952",
     "exception": false,
     "start_time": "2025-02-13T18:06:01.319031",
     "status": "completed"
    },
    "tags": []
   },
   "outputs": [
    {
     "data": {
      "text/html": [
       "<div>\n",
       "<style scoped>\n",
       "    .dataframe tbody tr th:only-of-type {\n",
       "        vertical-align: middle;\n",
       "    }\n",
       "\n",
       "    .dataframe tbody tr th {\n",
       "        vertical-align: top;\n",
       "    }\n",
       "\n",
       "    .dataframe thead th {\n",
       "        text-align: right;\n",
       "    }\n",
       "</style>\n",
       "<table border=\"1\" class=\"dataframe\">\n",
       "  <thead>\n",
       "    <tr style=\"text-align: right;\">\n",
       "      <th></th>\n",
       "      <th>MSZoning</th>\n",
       "      <th>LotFrontage</th>\n",
       "      <th>LotArea</th>\n",
       "      <th>Alley</th>\n",
       "      <th>LotShape</th>\n",
       "      <th>LotConfig</th>\n",
       "      <th>Neighborhood</th>\n",
       "      <th>BldgType</th>\n",
       "      <th>HouseStyle</th>\n",
       "      <th>OverallQual</th>\n",
       "      <th>...</th>\n",
       "      <th>EnclosedPorch</th>\n",
       "      <th>3SsnPorch</th>\n",
       "      <th>ScreenPorch</th>\n",
       "      <th>PoolArea</th>\n",
       "      <th>PoolQC</th>\n",
       "      <th>Fence</th>\n",
       "      <th>MiscFeature</th>\n",
       "      <th>YrSold</th>\n",
       "      <th>SaleType</th>\n",
       "      <th>SaleCondition</th>\n",
       "    </tr>\n",
       "  </thead>\n",
       "  <tbody>\n",
       "    <tr>\n",
       "      <th>0</th>\n",
       "      <td>RH</td>\n",
       "      <td>80.0</td>\n",
       "      <td>11622</td>\n",
       "      <td>NaN</td>\n",
       "      <td>Reg</td>\n",
       "      <td>Inside</td>\n",
       "      <td>NAmes</td>\n",
       "      <td>1Fam</td>\n",
       "      <td>1Story</td>\n",
       "      <td>5</td>\n",
       "      <td>...</td>\n",
       "      <td>0</td>\n",
       "      <td>0</td>\n",
       "      <td>120</td>\n",
       "      <td>0</td>\n",
       "      <td>NaN</td>\n",
       "      <td>MnPrv</td>\n",
       "      <td>NaN</td>\n",
       "      <td>2010</td>\n",
       "      <td>WD</td>\n",
       "      <td>Normal</td>\n",
       "    </tr>\n",
       "    <tr>\n",
       "      <th>1</th>\n",
       "      <td>RL</td>\n",
       "      <td>81.0</td>\n",
       "      <td>14267</td>\n",
       "      <td>NaN</td>\n",
       "      <td>IR1</td>\n",
       "      <td>Corner</td>\n",
       "      <td>NAmes</td>\n",
       "      <td>1Fam</td>\n",
       "      <td>1Story</td>\n",
       "      <td>6</td>\n",
       "      <td>...</td>\n",
       "      <td>0</td>\n",
       "      <td>0</td>\n",
       "      <td>0</td>\n",
       "      <td>0</td>\n",
       "      <td>NaN</td>\n",
       "      <td>NaN</td>\n",
       "      <td>Gar2</td>\n",
       "      <td>2010</td>\n",
       "      <td>WD</td>\n",
       "      <td>Normal</td>\n",
       "    </tr>\n",
       "    <tr>\n",
       "      <th>2</th>\n",
       "      <td>RL</td>\n",
       "      <td>74.0</td>\n",
       "      <td>13830</td>\n",
       "      <td>NaN</td>\n",
       "      <td>IR1</td>\n",
       "      <td>Inside</td>\n",
       "      <td>Gilbert</td>\n",
       "      <td>1Fam</td>\n",
       "      <td>2Story</td>\n",
       "      <td>5</td>\n",
       "      <td>...</td>\n",
       "      <td>0</td>\n",
       "      <td>0</td>\n",
       "      <td>0</td>\n",
       "      <td>0</td>\n",
       "      <td>NaN</td>\n",
       "      <td>MnPrv</td>\n",
       "      <td>NaN</td>\n",
       "      <td>2010</td>\n",
       "      <td>WD</td>\n",
       "      <td>Normal</td>\n",
       "    </tr>\n",
       "    <tr>\n",
       "      <th>3</th>\n",
       "      <td>RL</td>\n",
       "      <td>78.0</td>\n",
       "      <td>9978</td>\n",
       "      <td>NaN</td>\n",
       "      <td>IR1</td>\n",
       "      <td>Inside</td>\n",
       "      <td>Gilbert</td>\n",
       "      <td>1Fam</td>\n",
       "      <td>2Story</td>\n",
       "      <td>6</td>\n",
       "      <td>...</td>\n",
       "      <td>0</td>\n",
       "      <td>0</td>\n",
       "      <td>0</td>\n",
       "      <td>0</td>\n",
       "      <td>NaN</td>\n",
       "      <td>NaN</td>\n",
       "      <td>NaN</td>\n",
       "      <td>2010</td>\n",
       "      <td>WD</td>\n",
       "      <td>Normal</td>\n",
       "    </tr>\n",
       "    <tr>\n",
       "      <th>4</th>\n",
       "      <td>RL</td>\n",
       "      <td>43.0</td>\n",
       "      <td>5005</td>\n",
       "      <td>NaN</td>\n",
       "      <td>IR1</td>\n",
       "      <td>Inside</td>\n",
       "      <td>StoneBr</td>\n",
       "      <td>TwnhsE</td>\n",
       "      <td>1Story</td>\n",
       "      <td>8</td>\n",
       "      <td>...</td>\n",
       "      <td>0</td>\n",
       "      <td>0</td>\n",
       "      <td>144</td>\n",
       "      <td>0</td>\n",
       "      <td>NaN</td>\n",
       "      <td>NaN</td>\n",
       "      <td>NaN</td>\n",
       "      <td>2010</td>\n",
       "      <td>WD</td>\n",
       "      <td>Normal</td>\n",
       "    </tr>\n",
       "    <tr>\n",
       "      <th>...</th>\n",
       "      <td>...</td>\n",
       "      <td>...</td>\n",
       "      <td>...</td>\n",
       "      <td>...</td>\n",
       "      <td>...</td>\n",
       "      <td>...</td>\n",
       "      <td>...</td>\n",
       "      <td>...</td>\n",
       "      <td>...</td>\n",
       "      <td>...</td>\n",
       "      <td>...</td>\n",
       "      <td>...</td>\n",
       "      <td>...</td>\n",
       "      <td>...</td>\n",
       "      <td>...</td>\n",
       "      <td>...</td>\n",
       "      <td>...</td>\n",
       "      <td>...</td>\n",
       "      <td>...</td>\n",
       "      <td>...</td>\n",
       "      <td>...</td>\n",
       "    </tr>\n",
       "    <tr>\n",
       "      <th>1454</th>\n",
       "      <td>RM</td>\n",
       "      <td>21.0</td>\n",
       "      <td>1936</td>\n",
       "      <td>NaN</td>\n",
       "      <td>Reg</td>\n",
       "      <td>Inside</td>\n",
       "      <td>MeadowV</td>\n",
       "      <td>Twnhs</td>\n",
       "      <td>2Story</td>\n",
       "      <td>4</td>\n",
       "      <td>...</td>\n",
       "      <td>0</td>\n",
       "      <td>0</td>\n",
       "      <td>0</td>\n",
       "      <td>0</td>\n",
       "      <td>NaN</td>\n",
       "      <td>NaN</td>\n",
       "      <td>NaN</td>\n",
       "      <td>2006</td>\n",
       "      <td>WD</td>\n",
       "      <td>Normal</td>\n",
       "    </tr>\n",
       "    <tr>\n",
       "      <th>1455</th>\n",
       "      <td>RM</td>\n",
       "      <td>21.0</td>\n",
       "      <td>1894</td>\n",
       "      <td>NaN</td>\n",
       "      <td>Reg</td>\n",
       "      <td>Inside</td>\n",
       "      <td>MeadowV</td>\n",
       "      <td>TwnhsE</td>\n",
       "      <td>2Story</td>\n",
       "      <td>4</td>\n",
       "      <td>...</td>\n",
       "      <td>0</td>\n",
       "      <td>0</td>\n",
       "      <td>0</td>\n",
       "      <td>0</td>\n",
       "      <td>NaN</td>\n",
       "      <td>NaN</td>\n",
       "      <td>NaN</td>\n",
       "      <td>2006</td>\n",
       "      <td>WD</td>\n",
       "      <td>Abnorml</td>\n",
       "    </tr>\n",
       "    <tr>\n",
       "      <th>1456</th>\n",
       "      <td>RL</td>\n",
       "      <td>160.0</td>\n",
       "      <td>20000</td>\n",
       "      <td>NaN</td>\n",
       "      <td>Reg</td>\n",
       "      <td>Inside</td>\n",
       "      <td>Mitchel</td>\n",
       "      <td>1Fam</td>\n",
       "      <td>1Story</td>\n",
       "      <td>5</td>\n",
       "      <td>...</td>\n",
       "      <td>0</td>\n",
       "      <td>0</td>\n",
       "      <td>0</td>\n",
       "      <td>0</td>\n",
       "      <td>NaN</td>\n",
       "      <td>NaN</td>\n",
       "      <td>NaN</td>\n",
       "      <td>2006</td>\n",
       "      <td>WD</td>\n",
       "      <td>Abnorml</td>\n",
       "    </tr>\n",
       "    <tr>\n",
       "      <th>1457</th>\n",
       "      <td>RL</td>\n",
       "      <td>62.0</td>\n",
       "      <td>10441</td>\n",
       "      <td>NaN</td>\n",
       "      <td>Reg</td>\n",
       "      <td>Inside</td>\n",
       "      <td>Mitchel</td>\n",
       "      <td>1Fam</td>\n",
       "      <td>SFoyer</td>\n",
       "      <td>5</td>\n",
       "      <td>...</td>\n",
       "      <td>0</td>\n",
       "      <td>0</td>\n",
       "      <td>0</td>\n",
       "      <td>0</td>\n",
       "      <td>NaN</td>\n",
       "      <td>MnPrv</td>\n",
       "      <td>Shed</td>\n",
       "      <td>2006</td>\n",
       "      <td>WD</td>\n",
       "      <td>Normal</td>\n",
       "    </tr>\n",
       "    <tr>\n",
       "      <th>1458</th>\n",
       "      <td>RL</td>\n",
       "      <td>74.0</td>\n",
       "      <td>9627</td>\n",
       "      <td>NaN</td>\n",
       "      <td>Reg</td>\n",
       "      <td>Inside</td>\n",
       "      <td>Mitchel</td>\n",
       "      <td>1Fam</td>\n",
       "      <td>2Story</td>\n",
       "      <td>7</td>\n",
       "      <td>...</td>\n",
       "      <td>0</td>\n",
       "      <td>0</td>\n",
       "      <td>0</td>\n",
       "      <td>0</td>\n",
       "      <td>NaN</td>\n",
       "      <td>NaN</td>\n",
       "      <td>NaN</td>\n",
       "      <td>2006</td>\n",
       "      <td>WD</td>\n",
       "      <td>Normal</td>\n",
       "    </tr>\n",
       "  </tbody>\n",
       "</table>\n",
       "<p>1459 rows × 67 columns</p>\n",
       "</div>"
      ],
      "text/plain": [
       "     MSZoning  LotFrontage  LotArea Alley LotShape LotConfig Neighborhood  \\\n",
       "0          RH         80.0    11622   NaN      Reg    Inside        NAmes   \n",
       "1          RL         81.0    14267   NaN      IR1    Corner        NAmes   \n",
       "2          RL         74.0    13830   NaN      IR1    Inside      Gilbert   \n",
       "3          RL         78.0     9978   NaN      IR1    Inside      Gilbert   \n",
       "4          RL         43.0     5005   NaN      IR1    Inside      StoneBr   \n",
       "...       ...          ...      ...   ...      ...       ...          ...   \n",
       "1454       RM         21.0     1936   NaN      Reg    Inside      MeadowV   \n",
       "1455       RM         21.0     1894   NaN      Reg    Inside      MeadowV   \n",
       "1456       RL        160.0    20000   NaN      Reg    Inside      Mitchel   \n",
       "1457       RL         62.0    10441   NaN      Reg    Inside      Mitchel   \n",
       "1458       RL         74.0     9627   NaN      Reg    Inside      Mitchel   \n",
       "\n",
       "     BldgType HouseStyle  OverallQual  ...  EnclosedPorch  3SsnPorch  \\\n",
       "0        1Fam     1Story            5  ...              0          0   \n",
       "1        1Fam     1Story            6  ...              0          0   \n",
       "2        1Fam     2Story            5  ...              0          0   \n",
       "3        1Fam     2Story            6  ...              0          0   \n",
       "4      TwnhsE     1Story            8  ...              0          0   \n",
       "...       ...        ...          ...  ...            ...        ...   \n",
       "1454    Twnhs     2Story            4  ...              0          0   \n",
       "1455   TwnhsE     2Story            4  ...              0          0   \n",
       "1456     1Fam     1Story            5  ...              0          0   \n",
       "1457     1Fam     SFoyer            5  ...              0          0   \n",
       "1458     1Fam     2Story            7  ...              0          0   \n",
       "\n",
       "      ScreenPorch PoolArea PoolQC  Fence  MiscFeature YrSold SaleType  \\\n",
       "0             120        0    NaN  MnPrv          NaN   2010       WD   \n",
       "1               0        0    NaN    NaN         Gar2   2010       WD   \n",
       "2               0        0    NaN  MnPrv          NaN   2010       WD   \n",
       "3               0        0    NaN    NaN          NaN   2010       WD   \n",
       "4             144        0    NaN    NaN          NaN   2010       WD   \n",
       "...           ...      ...    ...    ...          ...    ...      ...   \n",
       "1454            0        0    NaN    NaN          NaN   2006       WD   \n",
       "1455            0        0    NaN    NaN          NaN   2006       WD   \n",
       "1456            0        0    NaN    NaN          NaN   2006       WD   \n",
       "1457            0        0    NaN  MnPrv         Shed   2006       WD   \n",
       "1458            0        0    NaN    NaN          NaN   2006       WD   \n",
       "\n",
       "     SaleCondition  \n",
       "0           Normal  \n",
       "1           Normal  \n",
       "2           Normal  \n",
       "3           Normal  \n",
       "4           Normal  \n",
       "...            ...  \n",
       "1454        Normal  \n",
       "1455       Abnorml  \n",
       "1456       Abnorml  \n",
       "1457        Normal  \n",
       "1458        Normal  \n",
       "\n",
       "[1459 rows x 67 columns]"
      ]
     },
     "execution_count": 47,
     "metadata": {},
     "output_type": "execute_result"
    }
   ],
   "source": [
    "df_test = df_test.drop(columns=features_to_delete)\n",
    "df_test"
   ]
  },
  {
   "cell_type": "code",
   "execution_count": 48,
   "id": "7e0c61b0",
   "metadata": {
    "execution": {
     "iopub.execute_input": "2025-02-13T18:06:01.381688Z",
     "iopub.status.busy": "2025-02-13T18:06:01.381458Z",
     "iopub.status.idle": "2025-02-13T18:06:01.385441Z",
     "shell.execute_reply": "2025-02-13T18:06:01.384829Z"
    },
    "papermill": {
     "duration": 0.020005,
     "end_time": "2025-02-13T18:06:01.386538",
     "exception": false,
     "start_time": "2025-02-13T18:06:01.366533",
     "status": "completed"
    },
    "tags": []
   },
   "outputs": [
    {
     "data": {
      "text/plain": [
       "67"
      ]
     },
     "execution_count": 48,
     "metadata": {},
     "output_type": "execute_result"
    }
   ],
   "source": [
    "len(df_test.columns)"
   ]
  },
  {
   "cell_type": "code",
   "execution_count": 49,
   "id": "86bed99c",
   "metadata": {
    "execution": {
     "iopub.execute_input": "2025-02-13T18:06:01.416450Z",
     "iopub.status.busy": "2025-02-13T18:06:01.416256Z",
     "iopub.status.idle": "2025-02-13T18:06:01.423889Z",
     "shell.execute_reply": "2025-02-13T18:06:01.423116Z"
    },
    "papermill": {
     "duration": 0.023944,
     "end_time": "2025-02-13T18:06:01.425134",
     "exception": false,
     "start_time": "2025-02-13T18:06:01.401190",
     "status": "completed"
    },
    "tags": []
   },
   "outputs": [
    {
     "data": {
      "text/plain": [
       "MSZoning            4\n",
       "LotFrontage       227\n",
       "LotArea             0\n",
       "Alley            1352\n",
       "LotShape            0\n",
       "                 ... \n",
       "Fence            1169\n",
       "MiscFeature      1408\n",
       "YrSold              0\n",
       "SaleType            1\n",
       "SaleCondition       0\n",
       "Length: 67, dtype: int64"
      ]
     },
     "execution_count": 49,
     "metadata": {},
     "output_type": "execute_result"
    }
   ],
   "source": [
    "df_test.isnull().sum()"
   ]
  },
  {
   "cell_type": "code",
   "execution_count": 50,
   "id": "e0657bc6",
   "metadata": {
    "execution": {
     "iopub.execute_input": "2025-02-13T18:06:01.455392Z",
     "iopub.status.busy": "2025-02-13T18:06:01.455192Z",
     "iopub.status.idle": "2025-02-13T18:06:01.458797Z",
     "shell.execute_reply": "2025-02-13T18:06:01.458193Z"
    },
    "papermill": {
     "duration": 0.020158,
     "end_time": "2025-02-13T18:06:01.460020",
     "exception": false,
     "start_time": "2025-02-13T18:06:01.439862",
     "status": "completed"
    },
    "tags": []
   },
   "outputs": [],
   "source": [
    "# Apply the mapping to convert GarageQual to numerical values\n",
    "df_test['GarageQual'] = df_test['GarageQual'].map(quality_mapping)"
   ]
  },
  {
   "cell_type": "code",
   "execution_count": 51,
   "id": "bba59b69",
   "metadata": {
    "execution": {
     "iopub.execute_input": "2025-02-13T18:06:01.490288Z",
     "iopub.status.busy": "2025-02-13T18:06:01.490079Z",
     "iopub.status.idle": "2025-02-13T18:06:01.515639Z",
     "shell.execute_reply": "2025-02-13T18:06:01.514860Z"
    },
    "papermill": {
     "duration": 0.041944,
     "end_time": "2025-02-13T18:06:01.516846",
     "exception": false,
     "start_time": "2025-02-13T18:06:01.474902",
     "status": "completed"
    },
    "tags": []
   },
   "outputs": [
    {
     "name": "stdout",
     "output_type": "stream",
     "text": [
      "Feature engineering and dropping redundant features completed. Here are the first few rows of the new DataFrame:\n"
     ]
    },
    {
     "data": {
      "text/html": [
       "<div>\n",
       "<style scoped>\n",
       "    .dataframe tbody tr th:only-of-type {\n",
       "        vertical-align: middle;\n",
       "    }\n",
       "\n",
       "    .dataframe tbody tr th {\n",
       "        vertical-align: top;\n",
       "    }\n",
       "\n",
       "    .dataframe thead th {\n",
       "        text-align: right;\n",
       "    }\n",
       "</style>\n",
       "<table border=\"1\" class=\"dataframe\">\n",
       "  <thead>\n",
       "    <tr style=\"text-align: right;\">\n",
       "      <th></th>\n",
       "      <th>MSZoning</th>\n",
       "      <th>Alley</th>\n",
       "      <th>LotShape</th>\n",
       "      <th>LotConfig</th>\n",
       "      <th>Neighborhood</th>\n",
       "      <th>BldgType</th>\n",
       "      <th>HouseStyle</th>\n",
       "      <th>Exterior1st</th>\n",
       "      <th>Exterior2nd</th>\n",
       "      <th>MasVnrType</th>\n",
       "      <th>...</th>\n",
       "      <th>SaleType</th>\n",
       "      <th>SaleCondition</th>\n",
       "      <th>AgeOfHouse</th>\n",
       "      <th>RemodelAge</th>\n",
       "      <th>TotalBath</th>\n",
       "      <th>TotalPorchSF</th>\n",
       "      <th>TotalBsmtFinSF</th>\n",
       "      <th>HouseQuality</th>\n",
       "      <th>LotRatio</th>\n",
       "      <th>GarageScore</th>\n",
       "    </tr>\n",
       "  </thead>\n",
       "  <tbody>\n",
       "    <tr>\n",
       "      <th>0</th>\n",
       "      <td>RH</td>\n",
       "      <td>NaN</td>\n",
       "      <td>Reg</td>\n",
       "      <td>Inside</td>\n",
       "      <td>NAmes</td>\n",
       "      <td>1Fam</td>\n",
       "      <td>1Story</td>\n",
       "      <td>VinylSd</td>\n",
       "      <td>VinylSd</td>\n",
       "      <td>NaN</td>\n",
       "      <td>...</td>\n",
       "      <td>WD</td>\n",
       "      <td>Normal</td>\n",
       "      <td>49</td>\n",
       "      <td>49</td>\n",
       "      <td>1.0</td>\n",
       "      <td>120</td>\n",
       "      <td>612.0</td>\n",
       "      <td>30</td>\n",
       "      <td>0.006883</td>\n",
       "      <td>2190.0</td>\n",
       "    </tr>\n",
       "    <tr>\n",
       "      <th>1</th>\n",
       "      <td>RL</td>\n",
       "      <td>NaN</td>\n",
       "      <td>IR1</td>\n",
       "      <td>Corner</td>\n",
       "      <td>NAmes</td>\n",
       "      <td>1Fam</td>\n",
       "      <td>1Story</td>\n",
       "      <td>Wd Sdng</td>\n",
       "      <td>Wd Sdng</td>\n",
       "      <td>BrkFace</td>\n",
       "      <td>...</td>\n",
       "      <td>WD</td>\n",
       "      <td>Normal</td>\n",
       "      <td>52</td>\n",
       "      <td>52</td>\n",
       "      <td>1.5</td>\n",
       "      <td>36</td>\n",
       "      <td>923.0</td>\n",
       "      <td>36</td>\n",
       "      <td>0.005677</td>\n",
       "      <td>936.0</td>\n",
       "    </tr>\n",
       "    <tr>\n",
       "      <th>2</th>\n",
       "      <td>RL</td>\n",
       "      <td>NaN</td>\n",
       "      <td>IR1</td>\n",
       "      <td>Inside</td>\n",
       "      <td>Gilbert</td>\n",
       "      <td>1Fam</td>\n",
       "      <td>2Story</td>\n",
       "      <td>VinylSd</td>\n",
       "      <td>VinylSd</td>\n",
       "      <td>NaN</td>\n",
       "      <td>...</td>\n",
       "      <td>WD</td>\n",
       "      <td>Normal</td>\n",
       "      <td>13</td>\n",
       "      <td>12</td>\n",
       "      <td>2.5</td>\n",
       "      <td>34</td>\n",
       "      <td>791.0</td>\n",
       "      <td>25</td>\n",
       "      <td>0.005351</td>\n",
       "      <td>2892.0</td>\n",
       "    </tr>\n",
       "    <tr>\n",
       "      <th>3</th>\n",
       "      <td>RL</td>\n",
       "      <td>NaN</td>\n",
       "      <td>IR1</td>\n",
       "      <td>Inside</td>\n",
       "      <td>Gilbert</td>\n",
       "      <td>1Fam</td>\n",
       "      <td>2Story</td>\n",
       "      <td>VinylSd</td>\n",
       "      <td>VinylSd</td>\n",
       "      <td>BrkFace</td>\n",
       "      <td>...</td>\n",
       "      <td>WD</td>\n",
       "      <td>Normal</td>\n",
       "      <td>12</td>\n",
       "      <td>12</td>\n",
       "      <td>2.5</td>\n",
       "      <td>36</td>\n",
       "      <td>602.0</td>\n",
       "      <td>36</td>\n",
       "      <td>0.007817</td>\n",
       "      <td>2820.0</td>\n",
       "    </tr>\n",
       "    <tr>\n",
       "      <th>4</th>\n",
       "      <td>RL</td>\n",
       "      <td>NaN</td>\n",
       "      <td>IR1</td>\n",
       "      <td>Inside</td>\n",
       "      <td>StoneBr</td>\n",
       "      <td>TwnhsE</td>\n",
       "      <td>1Story</td>\n",
       "      <td>HdBoard</td>\n",
       "      <td>HdBoard</td>\n",
       "      <td>NaN</td>\n",
       "      <td>...</td>\n",
       "      <td>WD</td>\n",
       "      <td>Normal</td>\n",
       "      <td>18</td>\n",
       "      <td>18</td>\n",
       "      <td>2.0</td>\n",
       "      <td>226</td>\n",
       "      <td>263.0</td>\n",
       "      <td>40</td>\n",
       "      <td>0.008591</td>\n",
       "      <td>3036.0</td>\n",
       "    </tr>\n",
       "  </tbody>\n",
       "</table>\n",
       "<p>5 rows × 62 columns</p>\n",
       "</div>"
      ],
      "text/plain": [
       "  MSZoning Alley LotShape LotConfig Neighborhood BldgType HouseStyle  \\\n",
       "0       RH   NaN      Reg    Inside        NAmes     1Fam     1Story   \n",
       "1       RL   NaN      IR1    Corner        NAmes     1Fam     1Story   \n",
       "2       RL   NaN      IR1    Inside      Gilbert     1Fam     2Story   \n",
       "3       RL   NaN      IR1    Inside      Gilbert     1Fam     2Story   \n",
       "4       RL   NaN      IR1    Inside      StoneBr   TwnhsE     1Story   \n",
       "\n",
       "  Exterior1st Exterior2nd MasVnrType  ...  SaleType SaleCondition AgeOfHouse  \\\n",
       "0     VinylSd     VinylSd        NaN  ...        WD        Normal         49   \n",
       "1     Wd Sdng     Wd Sdng    BrkFace  ...        WD        Normal         52   \n",
       "2     VinylSd     VinylSd        NaN  ...        WD        Normal         13   \n",
       "3     VinylSd     VinylSd    BrkFace  ...        WD        Normal         12   \n",
       "4     HdBoard     HdBoard        NaN  ...        WD        Normal         18   \n",
       "\n",
       "  RemodelAge TotalBath TotalPorchSF TotalBsmtFinSF HouseQuality  LotRatio  \\\n",
       "0         49       1.0          120          612.0           30  0.006883   \n",
       "1         52       1.5           36          923.0           36  0.005677   \n",
       "2         12       2.5           34          791.0           25  0.005351   \n",
       "3         12       2.5           36          602.0           36  0.007817   \n",
       "4         18       2.0          226          263.0           40  0.008591   \n",
       "\n",
       "   GarageScore  \n",
       "0       2190.0  \n",
       "1        936.0  \n",
       "2       2892.0  \n",
       "3       2820.0  \n",
       "4       3036.0  \n",
       "\n",
       "[5 rows x 62 columns]"
      ]
     },
     "execution_count": 51,
     "metadata": {},
     "output_type": "execute_result"
    }
   ],
   "source": [
    "# Calculate new features\n",
    "df_test['AgeOfHouse'] = df_test['YrSold'] - df_test['YearBuilt']\n",
    "df_test['RemodelAge'] = df_test['YrSold'] - df_test['YearRemodAdd']\n",
    "df_test['TotalBath'] = df_test['FullBath'] + 0.5 * df_test['HalfBath'] + df_test['BsmtFullBath'] + 0.5 * df_test['BsmtHalfBath']\n",
    "df_test['TotalPorchSF'] = df_test['OpenPorchSF'] + df_test['EnclosedPorch'] + df_test['3SsnPorch'] + df_test['ScreenPorch']\n",
    "df_test['TotalBsmtFinSF'] = df_test['BsmtFinSF1'] + df_test['BsmtFinSF2']\n",
    "df_test['HouseQuality'] = df_test['OverallQual'] * df_test['OverallCond']\n",
    "df_test['LotRatio'] = df_test['LotFrontage'] / df_test['LotArea']\n",
    "df_test['GarageScore'] = df_test['GarageCars'] * df_test['GarageArea'] * df_test['GarageQual']\n",
    "\n",
    "# Drop original features if they are now redundant\n",
    "features_to_drop = ['YrSold', 'YearBuilt', 'YearRemodAdd', 'OpenPorchSF', 'EnclosedPorch', '3SsnPorch', 'ScreenPorch', 'BsmtFinSF1', 'BsmtFinSF2', 'OverallQual', 'OverallCond', 'LotFrontage', 'LotArea']\n",
    "df_test.drop(columns=features_to_drop, inplace=True)\n",
    "\n",
    "print(\"Feature engineering and dropping redundant features completed. Here are the first few rows of the new DataFrame:\")\n",
    "df_test.head()"
   ]
  },
  {
   "cell_type": "markdown",
   "id": "6ab1ae35",
   "metadata": {
    "papermill": {
     "duration": 0.014948,
     "end_time": "2025-02-13T18:06:01.546716",
     "exception": false,
     "start_time": "2025-02-13T18:06:01.531768",
     "status": "completed"
    },
    "tags": []
   },
   "source": [
    "# model building"
   ]
  },
  {
   "cell_type": "code",
   "execution_count": 52,
   "id": "2261d8c7",
   "metadata": {
    "execution": {
     "iopub.execute_input": "2025-02-13T18:06:01.577104Z",
     "iopub.status.busy": "2025-02-13T18:06:01.576906Z",
     "iopub.status.idle": "2025-02-13T18:06:03.711086Z",
     "shell.execute_reply": "2025-02-13T18:06:03.710251Z"
    },
    "papermill": {
     "duration": 2.158801,
     "end_time": "2025-02-13T18:06:03.720328",
     "exception": false,
     "start_time": "2025-02-13T18:06:01.561527",
     "status": "completed"
    },
    "tags": []
   },
   "outputs": [
    {
     "data": {
      "text/plain": [
       "Text(0.5, 1.0, 'Correlation Matrix Heatmap')"
      ]
     },
     "execution_count": 52,
     "metadata": {},
     "output_type": "execute_result"
    },
    {
     "data": {
      "image/png": "[encoded data removed]",
      "text/plain": [
       "<Figure size 1400x1000 with 2 Axes>"
      ]
     },
     "metadata": {},
     "output_type": "display_data"
    }
   ],
   "source": [
    "nf=nfvalue(df)\n",
    "\n",
    "# Calculate the correlation matrix\n",
    "correlation_matrix = nf.corr()\n",
    "\n",
    "# Visualize the correlation matrix using a heatmap\n",
    "plt.figure(figsize=(14, 10))\n",
    "sns.heatmap(correlation_matrix, annot=True, cmap='coolwarm', fmt='.2f')\n",
    "plt.title('Correlation Matrix Heatmap')"
   ]
  },
  {
   "cell_type": "code",
   "execution_count": 53,
   "id": "2c48cdd7",
   "metadata": {
    "execution": {
     "iopub.execute_input": "2025-02-13T18:06:03.771040Z",
     "iopub.status.busy": "2025-02-13T18:06:03.770799Z",
     "iopub.status.idle": "2025-02-13T18:06:03.776669Z",
     "shell.execute_reply": "2025-02-13T18:06:03.775873Z"
    },
    "papermill": {
     "duration": 0.032514,
     "end_time": "2025-02-13T18:06:03.778017",
     "exception": false,
     "start_time": "2025-02-13T18:06:03.745503",
     "status": "completed"
    },
    "tags": []
   },
   "outputs": [
    {
     "name": "stdout",
     "output_type": "stream",
     "text": [
      "Features with correlation above 0.10 with SalePrice:\n",
      "['GrLivArea', 'GarageCars', 'GarageScore', 'TotalBath', 'GarageArea', 'TotalBsmtSF', 'HouseQuality', '1stFlrSF', 'FullBath', 'TotRmsAbvGrd', 'GarageYrBlt', 'Fireplaces', 'TotalPorchSF', 'MasVnrArea', 'WoodDeckSF', '2ndFlrSF', 'HalfBath', 'TotalBsmtFinSF', 'LotRatio', 'BsmtFullBath', 'BsmtUnfSF', 'BedroomAbvGr'] 22\n"
     ]
    }
   ],
   "source": [
    "# Display correlation with SalePrice\n",
    "saleprice_correlation = correlation_matrix['SalePrice'].sort_values(ascending=False)\n",
    "\n",
    "# Select features with correlation above 0.40\n",
    "selected_features = saleprice_correlation[saleprice_correlation > 0.10].index\n",
    "\n",
    "# Remove 'SalePrice' from the list using list comprehension\n",
    "selected_features = [feature for feature in selected_features if feature != 'SalePrice']\n",
    "                     \n",
    "print(\"Features with correlation above 0.10 with SalePrice:\")\n",
    "print(selected_features,len(selected_features))"
   ]
  },
  {
   "cell_type": "code",
   "execution_count": 54,
   "id": "1c041499",
   "metadata": {
    "execution": {
     "iopub.execute_input": "2025-02-13T18:06:03.827983Z",
     "iopub.status.busy": "2025-02-13T18:06:03.827766Z",
     "iopub.status.idle": "2025-02-13T18:07:02.617019Z",
     "shell.execute_reply": "2025-02-13T18:07:02.616141Z"
    },
    "papermill": {
     "duration": 58.840212,
     "end_time": "2025-02-13T18:07:02.642940",
     "exception": false,
     "start_time": "2025-02-13T18:06:03.802728",
     "status": "completed"
    },
    "tags": []
   },
   "outputs": [
    {
     "name": "stdout",
     "output_type": "stream",
     "text": [
      "Optimal number of features: 20\n",
      "Selected features: Index(['GrLivArea', 'GarageCars', 'GarageScore', 'TotalBath', 'GarageArea',\n",
      "       'TotalBsmtSF', 'HouseQuality', '1stFlrSF', 'FullBath', 'TotRmsAbvGrd',\n",
      "       'GarageYrBlt', 'Fireplaces', 'TotalPorchSF', 'MasVnrArea', 'WoodDeckSF',\n",
      "       '2ndFlrSF', 'TotalBsmtFinSF', 'LotRatio', 'BsmtUnfSF', 'BedroomAbvGr'],\n",
      "      dtype='object')\n"
     ]
    }
   ],
   "source": [
    "\n",
    "# Prepare data for modeling\n",
    "# X = df[['GrLivArea', 'GarageCars', 'GarageScore', 'TotalBath', 'GarageArea', 'TotalBsmtSF', 'HouseQuality', '1stFlrSF', 'FullBath', 'TotRmsAbvGrd', 'GarageYrBlt', 'Fireplaces', 'TotalPorchSF', 'MasVnrArea']]\n",
    "X = df[selected_features] \n",
    "y = df['SalePrice']\n",
    "\n",
    "# Split data into training and testing sets\n",
    "X_train, X_test, y_train, y_test = train_test_split(X, y, test_size=0.2, random_state=42)\n",
    "\n",
    "# Initialize the model\n",
    "model = RandomForestRegressor(n_estimators=100, random_state=42)\n",
    "\n",
    "# Recursive Feature Elimination with Cross-Validation\n",
    "rfecv = RFECV(estimator=model, step=1, cv=5, scoring='neg_mean_squared_error')\n",
    "rfecv.fit(X_train, y_train)\n",
    "\n",
    "# Optimal number of features\n",
    "optimal_features = X.columns[rfecv.support_]\n",
    "print(\"Optimal number of features:\", len(optimal_features))\n",
    "print(\"Selected features:\", optimal_features)"
   ]
  },
  {
   "cell_type": "code",
   "execution_count": 55,
   "id": "31f7d712",
   "metadata": {
    "execution": {
     "iopub.execute_input": "2025-02-13T18:07:02.693131Z",
     "iopub.status.busy": "2025-02-13T18:07:02.692885Z",
     "iopub.status.idle": "2025-02-13T18:07:02.699679Z",
     "shell.execute_reply": "2025-02-13T18:07:02.698676Z"
    },
    "papermill": {
     "duration": 0.033394,
     "end_time": "2025-02-13T18:07:02.700867",
     "exception": false,
     "start_time": "2025-02-13T18:07:02.667473",
     "status": "completed"
    },
    "tags": []
   },
   "outputs": [
    {
     "name": "stdout",
     "output_type": "stream",
     "text": [
      "true\n"
     ]
    }
   ],
   "source": [
    "#test data optimal feature\n",
    "df_test=df_test[optimal_features]\n",
    "if len(df_test.columns)== len(df[optimal_features].columns):\n",
    "    print('true')"
   ]
  },
  {
   "cell_type": "code",
   "execution_count": 56,
   "id": "55e83bf9",
   "metadata": {
    "execution": {
     "iopub.execute_input": "2025-02-13T18:07:02.751114Z",
     "iopub.status.busy": "2025-02-13T18:07:02.750911Z",
     "iopub.status.idle": "2025-02-13T18:07:02.756585Z",
     "shell.execute_reply": "2025-02-13T18:07:02.755954Z"
    },
    "papermill": {
     "duration": 0.032145,
     "end_time": "2025-02-13T18:07:02.757804",
     "exception": false,
     "start_time": "2025-02-13T18:07:02.725659",
     "status": "completed"
    },
    "tags": []
   },
   "outputs": [
    {
     "data": {
      "text/plain": [
       "GrLivArea           0\n",
       "GarageCars          1\n",
       "GarageScore        78\n",
       "TotalBath           2\n",
       "GarageArea          1\n",
       "TotalBsmtSF         1\n",
       "HouseQuality        0\n",
       "1stFlrSF            0\n",
       "FullBath            0\n",
       "TotRmsAbvGrd        0\n",
       "GarageYrBlt        78\n",
       "Fireplaces          0\n",
       "TotalPorchSF        0\n",
       "MasVnrArea         15\n",
       "WoodDeckSF          0\n",
       "2ndFlrSF            0\n",
       "TotalBsmtFinSF      1\n",
       "LotRatio          227\n",
       "BsmtUnfSF           1\n",
       "BedroomAbvGr        0\n",
       "dtype: int64"
      ]
     },
     "execution_count": 56,
     "metadata": {},
     "output_type": "execute_result"
    }
   ],
   "source": [
    "df_test.isnull().sum()"
   ]
  },
  {
   "cell_type": "code",
   "execution_count": 57,
   "id": "6e811823",
   "metadata": {
    "execution": {
     "iopub.execute_input": "2025-02-13T18:07:02.808677Z",
     "iopub.status.busy": "2025-02-13T18:07:02.808417Z",
     "iopub.status.idle": "2025-02-13T18:07:02.823780Z",
     "shell.execute_reply": "2025-02-13T18:07:02.823187Z"
    },
    "papermill": {
     "duration": 0.041777,
     "end_time": "2025-02-13T18:07:02.824932",
     "exception": false,
     "start_time": "2025-02-13T18:07:02.783155",
     "status": "completed"
    },
    "tags": []
   },
   "outputs": [
    {
     "name": "stdout",
     "output_type": "stream",
     "text": [
      "GrLivArea         1486.045922\n",
      "GarageCars           1.766118\n",
      "GarageScore       3100.100652\n",
      "TotalBath            2.226150\n",
      "GarageArea         472.768861\n",
      "TotalBsmtSF       1046.117970\n",
      "HouseQuality        33.607265\n",
      "1stFlrSF          1156.534613\n",
      "FullBath             1.570939\n",
      "TotRmsAbvGrd         6.385195\n",
      "GarageYrBlt       1977.721217\n",
      "Fireplaces           0.581220\n",
      "TotalPorchSF        91.416038\n",
      "MasVnrArea         100.709141\n",
      "WoodDeckSF          93.174777\n",
      "2ndFlrSF           325.967786\n",
      "TotalBsmtFinSF     491.823045\n",
      "LotRatio             0.007933\n",
      "BsmtUnfSF          554.294925\n",
      "BedroomAbvGr         2.854010\n",
      "dtype: float64\n"
     ]
    }
   ],
   "source": [
    "tnf=nfvalue(df_test)\n",
    "mean_values = tnf.mean()\n",
    "print(mean_values)\n",
    "# Replace missing values with mean\n",
    "df_test.loc[:, :] = df_test.fillna(mean_values)\n"
   ]
  },
  {
   "cell_type": "code",
   "execution_count": 58,
   "id": "819cce5e",
   "metadata": {
    "execution": {
     "iopub.execute_input": "2025-02-13T18:07:02.875577Z",
     "iopub.status.busy": "2025-02-13T18:07:02.875377Z",
     "iopub.status.idle": "2025-02-13T18:07:02.881031Z",
     "shell.execute_reply": "2025-02-13T18:07:02.880228Z"
    },
    "papermill": {
     "duration": 0.032353,
     "end_time": "2025-02-13T18:07:02.882299",
     "exception": false,
     "start_time": "2025-02-13T18:07:02.849946",
     "status": "completed"
    },
    "tags": []
   },
   "outputs": [
    {
     "data": {
      "text/plain": [
       "GrLivArea         0\n",
       "GarageCars        0\n",
       "GarageScore       0\n",
       "TotalBath         0\n",
       "GarageArea        0\n",
       "TotalBsmtSF       0\n",
       "HouseQuality      0\n",
       "1stFlrSF          0\n",
       "FullBath          0\n",
       "TotRmsAbvGrd      0\n",
       "GarageYrBlt       0\n",
       "Fireplaces        0\n",
       "TotalPorchSF      0\n",
       "MasVnrArea        0\n",
       "WoodDeckSF        0\n",
       "2ndFlrSF          0\n",
       "TotalBsmtFinSF    0\n",
       "LotRatio          0\n",
       "BsmtUnfSF         0\n",
       "BedroomAbvGr      0\n",
       "dtype: int64"
      ]
     },
     "execution_count": 58,
     "metadata": {},
     "output_type": "execute_result"
    }
   ],
   "source": [
    "df_test.isnull().sum()"
   ]
  },
  {
   "cell_type": "code",
   "execution_count": 59,
   "id": "f735627f",
   "metadata": {
    "execution": {
     "iopub.execute_input": "2025-02-13T18:07:02.934280Z",
     "iopub.status.busy": "2025-02-13T18:07:02.934072Z",
     "iopub.status.idle": "2025-02-13T18:07:20.253709Z",
     "shell.execute_reply": "2025-02-13T18:07:20.252650Z"
    },
    "papermill": {
     "duration": 17.347895,
     "end_time": "2025-02-13T18:07:20.255267",
     "exception": false,
     "start_time": "2025-02-13T18:07:02.907372",
     "status": "completed"
    },
    "tags": []
   },
   "outputs": [
    {
     "name": "stdout",
     "output_type": "stream",
     "text": [
      "Linear Regression: RMSE with PCA = 0.06\n",
      "Ridge Regression: RMSE with PCA = 0.06\n",
      "Lasso Regression: RMSE with PCA = 0.17\n",
      "Random Forest: RMSE with PCA = 0.07\n",
      "Gradient Boosting: RMSE with PCA = 0.06\n",
      "Final Random Forest Model with PCA: RMSE = 0.07\n"
     ]
    }
   ],
   "source": [
    "# Define the target variable and features\n",
    "y = df['SalePrice']\n",
    "X = df[optimal_features]\n",
    "\n",
    "# Split data into training and testing sets\n",
    "X_train, X_test, y_train, y_test = train_test_split(X, y, test_size=0.2, random_state=42)\n",
    "\n",
    "# Feature scaling\n",
    "scaler = StandardScaler()\n",
    "X_train_scaled = scaler.fit_transform(X_train)\n",
    "X_test_scaled = scaler.transform(X_test)\n",
    "\n",
    "# Apply PCA\n",
    "pca = PCA(n_components=0.95)  # Retain 95% of variance\n",
    "X_train_pca = pca.fit_transform(X_train_scaled)\n",
    "X_test_pca = pca.transform(X_test_scaled)\n",
    "\n",
    "# Initialize models\n",
    "models = {\n",
    "    'Linear Regression': LinearRegression(),\n",
    "    'Ridge Regression': Ridge(),\n",
    "    'Lasso Regression': Lasso(),\n",
    "    'Random Forest': RandomForestRegressor(),\n",
    "    'Gradient Boosting': GradientBoostingRegressor()\n",
    "}\n",
    "\n",
    "# Function to train and evaluate a single model\n",
    "def train_evaluate_model(name, model, X_train, y_train, X_test, y_test):\n",
    "    model.fit(X_train, y_train)\n",
    "    predictions = model.predict(X_test)\n",
    "    mse = mean_squared_error(y_test, predictions)\n",
    "    rmse = mse ** 0.5\n",
    "    return name, rmse\n",
    "\n",
    "# Parallel processing for model evaluation\n",
    "results = Parallel(n_jobs=-1)(delayed(train_evaluate_model)(name, model, X_train_pca, y_train, X_test_pca, y_test) for name, model in models.items())\n",
    "\n",
    "# Print results\n",
    "for name, rmse in results:\n",
    "    print(f'{name}: RMSE with PCA = {rmse:.2f}')\n",
    "\n",
    "# Hyperparameter tuning (example with Random Forest)\n",
    "param_grid = {\n",
    "    'n_estimators': [100, 200],\n",
    "    'max_depth': [None, 10, 20]\n",
    "}\n",
    "grid_search = GridSearchCV(RandomForestRegressor(), param_grid, cv=5, scoring='neg_mean_squared_error', n_jobs=-1)\n",
    "grid_search.fit(X_train_pca, y_train)\n",
    "best_rf = grid_search.best_estimator_\n",
    "\n",
    "# Save the final model\n",
    "joblib.dump(best_rf, 'best_random_forest_model_pca.pkl')\n",
    "\n",
    "# Load the model (for deployment)\n",
    "loaded_model = joblib.load('best_random_forest_model_pca.pkl')\n",
    "\n",
    "# Make predictions with the loaded model\n",
    "final_predictions = loaded_model.predict(X_test_pca)\n",
    "final_mse = mean_squared_error(y_test, final_predictions)\n",
    "final_rmse = final_mse ** 0.5\n",
    "print(f'Final Random Forest Model with PCA: RMSE = {final_rmse:.2f}')\n",
    "\n",
    "\n",
    "# Evaluate the model\n",
    "r2rf = r2_score(y_test, final_predictions)\n"
   ]
  },
  {
   "cell_type": "code",
   "execution_count": 60,
   "id": "b42b1d0c",
   "metadata": {
    "execution": {
     "iopub.execute_input": "2025-02-13T18:07:20.307847Z",
     "iopub.status.busy": "2025-02-13T18:07:20.307469Z",
     "iopub.status.idle": "2025-02-13T18:07:20.312490Z",
     "shell.execute_reply": "2025-02-13T18:07:20.311690Z"
    },
    "papermill": {
     "duration": 0.032143,
     "end_time": "2025-02-13T18:07:20.313761",
     "exception": false,
     "start_time": "2025-02-13T18:07:20.281618",
     "status": "completed"
    },
    "tags": []
   },
   "outputs": [
    {
     "data": {
      "text/plain": [
       "0.8478429194409792"
      ]
     },
     "execution_count": 60,
     "metadata": {},
     "output_type": "execute_result"
    }
   ],
   "source": [
    "r2rf"
   ]
  },
  {
   "cell_type": "code",
   "execution_count": 61,
   "id": "2ca1c1fe",
   "metadata": {
    "execution": {
     "iopub.execute_input": "2025-02-13T18:07:20.364834Z",
     "iopub.status.busy": "2025-02-13T18:07:20.364574Z",
     "iopub.status.idle": "2025-02-13T18:07:20.377746Z",
     "shell.execute_reply": "2025-02-13T18:07:20.376919Z"
    },
    "papermill": {
     "duration": 0.040284,
     "end_time": "2025-02-13T18:07:20.379063",
     "exception": false,
     "start_time": "2025-02-13T18:07:20.338779",
     "status": "completed"
    },
    "tags": []
   },
   "outputs": [
    {
     "name": "stdout",
     "output_type": "stream",
     "text": [
      "Predictions for df_test: [8.0629194  8.0629194  8.06078927 ... 8.06406684 8.06137867 8.06078927]\n"
     ]
    }
   ],
   "source": [
    "# Assuming df_test is your new DataFrame\n",
    "# Scale the new data\n",
    "df_test_scaled = scaler.transform(df_test)\n",
    "\n",
    "# Apply PCA to the scaled data\n",
    "df_test_pca = pca.transform(df_test_scaled)\n",
    "\n",
    "# Make predictions with the loaded model\n",
    "new_predictions_rando = loaded_model.predict(df_test_pca)\n",
    "\n",
    "# Print the predictions\n",
    "print(f'Predictions for df_test: {new_predictions_rando}')\n"
   ]
  },
  {
   "cell_type": "code",
   "execution_count": 62,
   "id": "8d66df0d",
   "metadata": {
    "execution": {
     "iopub.execute_input": "2025-02-13T18:07:20.430103Z",
     "iopub.status.busy": "2025-02-13T18:07:20.429899Z",
     "iopub.status.idle": "2025-02-13T18:07:20.451242Z",
     "shell.execute_reply": "2025-02-13T18:07:20.450586Z"
    },
    "papermill": {
     "duration": 0.047945,
     "end_time": "2025-02-13T18:07:20.452293",
     "exception": false,
     "start_time": "2025-02-13T18:07:20.404348",
     "status": "completed"
    },
    "tags": []
   },
   "outputs": [
    {
     "data": {
      "text/html": [
       "<div>\n",
       "<style scoped>\n",
       "    .dataframe tbody tr th:only-of-type {\n",
       "        vertical-align: middle;\n",
       "    }\n",
       "\n",
       "    .dataframe tbody tr th {\n",
       "        vertical-align: top;\n",
       "    }\n",
       "\n",
       "    .dataframe thead th {\n",
       "        text-align: right;\n",
       "    }\n",
       "</style>\n",
       "<table border=\"1\" class=\"dataframe\">\n",
       "  <thead>\n",
       "    <tr style=\"text-align: right;\">\n",
       "      <th></th>\n",
       "      <th>GrLivArea</th>\n",
       "      <th>GarageCars</th>\n",
       "      <th>GarageScore</th>\n",
       "      <th>TotalBath</th>\n",
       "      <th>GarageArea</th>\n",
       "      <th>TotalBsmtSF</th>\n",
       "      <th>HouseQuality</th>\n",
       "      <th>1stFlrSF</th>\n",
       "      <th>FullBath</th>\n",
       "      <th>TotRmsAbvGrd</th>\n",
       "      <th>...</th>\n",
       "      <th>Fireplaces</th>\n",
       "      <th>TotalPorchSF</th>\n",
       "      <th>MasVnrArea</th>\n",
       "      <th>WoodDeckSF</th>\n",
       "      <th>2ndFlrSF</th>\n",
       "      <th>TotalBsmtFinSF</th>\n",
       "      <th>LotRatio</th>\n",
       "      <th>BsmtUnfSF</th>\n",
       "      <th>BedroomAbvGr</th>\n",
       "      <th>Predicted_salePrice</th>\n",
       "    </tr>\n",
       "  </thead>\n",
       "  <tbody>\n",
       "    <tr>\n",
       "      <th>0</th>\n",
       "      <td>896</td>\n",
       "      <td>1.0</td>\n",
       "      <td>2190.0</td>\n",
       "      <td>1.0</td>\n",
       "      <td>730.0</td>\n",
       "      <td>882.0</td>\n",
       "      <td>30</td>\n",
       "      <td>896</td>\n",
       "      <td>1</td>\n",
       "      <td>5</td>\n",
       "      <td>...</td>\n",
       "      <td>0</td>\n",
       "      <td>120</td>\n",
       "      <td>0.0</td>\n",
       "      <td>140</td>\n",
       "      <td>0</td>\n",
       "      <td>612.0</td>\n",
       "      <td>0.006883</td>\n",
       "      <td>270.0</td>\n",
       "      <td>2</td>\n",
       "      <td>8.062919</td>\n",
       "    </tr>\n",
       "    <tr>\n",
       "      <th>1</th>\n",
       "      <td>1329</td>\n",
       "      <td>1.0</td>\n",
       "      <td>936.0</td>\n",
       "      <td>1.5</td>\n",
       "      <td>312.0</td>\n",
       "      <td>1329.0</td>\n",
       "      <td>36</td>\n",
       "      <td>1329</td>\n",
       "      <td>1</td>\n",
       "      <td>6</td>\n",
       "      <td>...</td>\n",
       "      <td>0</td>\n",
       "      <td>36</td>\n",
       "      <td>108.0</td>\n",
       "      <td>393</td>\n",
       "      <td>0</td>\n",
       "      <td>923.0</td>\n",
       "      <td>0.005677</td>\n",
       "      <td>406.0</td>\n",
       "      <td>3</td>\n",
       "      <td>8.062919</td>\n",
       "    </tr>\n",
       "    <tr>\n",
       "      <th>2</th>\n",
       "      <td>1629</td>\n",
       "      <td>2.0</td>\n",
       "      <td>2892.0</td>\n",
       "      <td>2.5</td>\n",
       "      <td>482.0</td>\n",
       "      <td>928.0</td>\n",
       "      <td>25</td>\n",
       "      <td>928</td>\n",
       "      <td>2</td>\n",
       "      <td>6</td>\n",
       "      <td>...</td>\n",
       "      <td>1</td>\n",
       "      <td>34</td>\n",
       "      <td>0.0</td>\n",
       "      <td>212</td>\n",
       "      <td>701</td>\n",
       "      <td>791.0</td>\n",
       "      <td>0.005351</td>\n",
       "      <td>137.0</td>\n",
       "      <td>3</td>\n",
       "      <td>8.060789</td>\n",
       "    </tr>\n",
       "    <tr>\n",
       "      <th>3</th>\n",
       "      <td>1604</td>\n",
       "      <td>2.0</td>\n",
       "      <td>2820.0</td>\n",
       "      <td>2.5</td>\n",
       "      <td>470.0</td>\n",
       "      <td>926.0</td>\n",
       "      <td>36</td>\n",
       "      <td>926</td>\n",
       "      <td>2</td>\n",
       "      <td>7</td>\n",
       "      <td>...</td>\n",
       "      <td>1</td>\n",
       "      <td>36</td>\n",
       "      <td>20.0</td>\n",
       "      <td>360</td>\n",
       "      <td>678</td>\n",
       "      <td>602.0</td>\n",
       "      <td>0.007817</td>\n",
       "      <td>324.0</td>\n",
       "      <td>3</td>\n",
       "      <td>8.060789</td>\n",
       "    </tr>\n",
       "    <tr>\n",
       "      <th>4</th>\n",
       "      <td>1280</td>\n",
       "      <td>2.0</td>\n",
       "      <td>3036.0</td>\n",
       "      <td>2.0</td>\n",
       "      <td>506.0</td>\n",
       "      <td>1280.0</td>\n",
       "      <td>40</td>\n",
       "      <td>1280</td>\n",
       "      <td>2</td>\n",
       "      <td>5</td>\n",
       "      <td>...</td>\n",
       "      <td>0</td>\n",
       "      <td>226</td>\n",
       "      <td>0.0</td>\n",
       "      <td>0</td>\n",
       "      <td>0</td>\n",
       "      <td>263.0</td>\n",
       "      <td>0.008591</td>\n",
       "      <td>1017.0</td>\n",
       "      <td>2</td>\n",
       "      <td>8.062919</td>\n",
       "    </tr>\n",
       "    <tr>\n",
       "      <th>5</th>\n",
       "      <td>1655</td>\n",
       "      <td>2.0</td>\n",
       "      <td>2640.0</td>\n",
       "      <td>2.5</td>\n",
       "      <td>440.0</td>\n",
       "      <td>763.0</td>\n",
       "      <td>30</td>\n",
       "      <td>763</td>\n",
       "      <td>2</td>\n",
       "      <td>7</td>\n",
       "      <td>...</td>\n",
       "      <td>1</td>\n",
       "      <td>84</td>\n",
       "      <td>0.0</td>\n",
       "      <td>157</td>\n",
       "      <td>892</td>\n",
       "      <td>0.0</td>\n",
       "      <td>0.007500</td>\n",
       "      <td>763.0</td>\n",
       "      <td>3</td>\n",
       "      <td>8.060789</td>\n",
       "    </tr>\n",
       "    <tr>\n",
       "      <th>6</th>\n",
       "      <td>1187</td>\n",
       "      <td>2.0</td>\n",
       "      <td>2520.0</td>\n",
       "      <td>3.0</td>\n",
       "      <td>420.0</td>\n",
       "      <td>1168.0</td>\n",
       "      <td>42</td>\n",
       "      <td>1187</td>\n",
       "      <td>2</td>\n",
       "      <td>6</td>\n",
       "      <td>...</td>\n",
       "      <td>0</td>\n",
       "      <td>21</td>\n",
       "      <td>0.0</td>\n",
       "      <td>483</td>\n",
       "      <td>0</td>\n",
       "      <td>935.0</td>\n",
       "      <td>0.007933</td>\n",
       "      <td>233.0</td>\n",
       "      <td>3</td>\n",
       "      <td>8.073126</td>\n",
       "    </tr>\n",
       "    <tr>\n",
       "      <th>7</th>\n",
       "      <td>1465</td>\n",
       "      <td>2.0</td>\n",
       "      <td>2358.0</td>\n",
       "      <td>2.5</td>\n",
       "      <td>393.0</td>\n",
       "      <td>789.0</td>\n",
       "      <td>30</td>\n",
       "      <td>789</td>\n",
       "      <td>2</td>\n",
       "      <td>7</td>\n",
       "      <td>...</td>\n",
       "      <td>1</td>\n",
       "      <td>75</td>\n",
       "      <td>0.0</td>\n",
       "      <td>0</td>\n",
       "      <td>676</td>\n",
       "      <td>0.0</td>\n",
       "      <td>0.007498</td>\n",
       "      <td>789.0</td>\n",
       "      <td>3</td>\n",
       "      <td>8.045049</td>\n",
       "    </tr>\n",
       "    <tr>\n",
       "      <th>8</th>\n",
       "      <td>1341</td>\n",
       "      <td>2.0</td>\n",
       "      <td>3036.0</td>\n",
       "      <td>2.5</td>\n",
       "      <td>506.0</td>\n",
       "      <td>1300.0</td>\n",
       "      <td>35</td>\n",
       "      <td>1341</td>\n",
       "      <td>1</td>\n",
       "      <td>5</td>\n",
       "      <td>...</td>\n",
       "      <td>1</td>\n",
       "      <td>0</td>\n",
       "      <td>0.0</td>\n",
       "      <td>192</td>\n",
       "      <td>0</td>\n",
       "      <td>637.0</td>\n",
       "      <td>0.008353</td>\n",
       "      <td>663.0</td>\n",
       "      <td>2</td>\n",
       "      <td>8.061379</td>\n",
       "    </tr>\n",
       "    <tr>\n",
       "      <th>9</th>\n",
       "      <td>882</td>\n",
       "      <td>2.0</td>\n",
       "      <td>3150.0</td>\n",
       "      <td>2.0</td>\n",
       "      <td>525.0</td>\n",
       "      <td>882.0</td>\n",
       "      <td>20</td>\n",
       "      <td>882</td>\n",
       "      <td>1</td>\n",
       "      <td>4</td>\n",
       "      <td>...</td>\n",
       "      <td>0</td>\n",
       "      <td>0</td>\n",
       "      <td>0.0</td>\n",
       "      <td>240</td>\n",
       "      <td>0</td>\n",
       "      <td>882.0</td>\n",
       "      <td>0.008333</td>\n",
       "      <td>0.0</td>\n",
       "      <td>2</td>\n",
       "      <td>8.064067</td>\n",
       "    </tr>\n",
       "  </tbody>\n",
       "</table>\n",
       "<p>10 rows × 21 columns</p>\n",
       "</div>"
      ],
      "text/plain": [
       "   GrLivArea  GarageCars  GarageScore  TotalBath  GarageArea  TotalBsmtSF  \\\n",
       "0        896         1.0       2190.0        1.0       730.0        882.0   \n",
       "1       1329         1.0        936.0        1.5       312.0       1329.0   \n",
       "2       1629         2.0       2892.0        2.5       482.0        928.0   \n",
       "3       1604         2.0       2820.0        2.5       470.0        926.0   \n",
       "4       1280         2.0       3036.0        2.0       506.0       1280.0   \n",
       "5       1655         2.0       2640.0        2.5       440.0        763.0   \n",
       "6       1187         2.0       2520.0        3.0       420.0       1168.0   \n",
       "7       1465         2.0       2358.0        2.5       393.0        789.0   \n",
       "8       1341         2.0       3036.0        2.5       506.0       1300.0   \n",
       "9        882         2.0       3150.0        2.0       525.0        882.0   \n",
       "\n",
       "   HouseQuality  1stFlrSF  FullBath  TotRmsAbvGrd  ...  Fireplaces  \\\n",
       "0            30       896         1             5  ...           0   \n",
       "1            36      1329         1             6  ...           0   \n",
       "2            25       928         2             6  ...           1   \n",
       "3            36       926         2             7  ...           1   \n",
       "4            40      1280         2             5  ...           0   \n",
       "5            30       763         2             7  ...           1   \n",
       "6            42      1187         2             6  ...           0   \n",
       "7            30       789         2             7  ...           1   \n",
       "8            35      1341         1             5  ...           1   \n",
       "9            20       882         1             4  ...           0   \n",
       "\n",
       "   TotalPorchSF  MasVnrArea  WoodDeckSF  2ndFlrSF  TotalBsmtFinSF  LotRatio  \\\n",
       "0           120         0.0         140         0           612.0  0.006883   \n",
       "1            36       108.0         393         0           923.0  0.005677   \n",
       "2            34         0.0         212       701           791.0  0.005351   \n",
       "3            36        20.0         360       678           602.0  0.007817   \n",
       "4           226         0.0           0         0           263.0  0.008591   \n",
       "5            84         0.0         157       892             0.0  0.007500   \n",
       "6            21         0.0         483         0           935.0  0.007933   \n",
       "7            75         0.0           0       676             0.0  0.007498   \n",
       "8             0         0.0         192         0           637.0  0.008353   \n",
       "9             0         0.0         240         0           882.0  0.008333   \n",
       "\n",
       "   BsmtUnfSF  BedroomAbvGr  Predicted_salePrice  \n",
       "0      270.0             2             8.062919  \n",
       "1      406.0             3             8.062919  \n",
       "2      137.0             3             8.060789  \n",
       "3      324.0             3             8.060789  \n",
       "4     1017.0             2             8.062919  \n",
       "5      763.0             3             8.060789  \n",
       "6      233.0             3             8.073126  \n",
       "7      789.0             3             8.045049  \n",
       "8      663.0             2             8.061379  \n",
       "9        0.0             2             8.064067  \n",
       "\n",
       "[10 rows x 21 columns]"
      ]
     },
     "execution_count": 62,
     "metadata": {},
     "output_type": "execute_result"
    }
   ],
   "source": [
    "df_test_rando=df_test.copy()\n",
    "# Add predictions to the new data using .loc\n",
    "df_test_rando.loc[:, 'Predicted_salePrice'] = new_predictions_rando\n",
    "df_test_rando.head(10)"
   ]
  },
  {
   "cell_type": "code",
   "execution_count": 63,
   "id": "97f4e93f",
   "metadata": {
    "execution": {
     "iopub.execute_input": "2025-02-13T18:07:20.505030Z",
     "iopub.status.busy": "2025-02-13T18:07:20.504817Z",
     "iopub.status.idle": "2025-02-13T18:07:21.239126Z",
     "shell.execute_reply": "2025-02-13T18:07:21.238268Z"
    },
    "papermill": {
     "duration": 0.762524,
     "end_time": "2025-02-13T18:07:21.240459",
     "exception": false,
     "start_time": "2025-02-13T18:07:20.477935",
     "status": "completed"
    },
    "tags": []
   },
   "outputs": [
    {
     "name": "stderr",
     "output_type": "stream",
     "text": [
      "/usr/local/lib/python3.10/dist-packages/xgboost/core.py:160: UserWarning: [18:07:21] WARNING: /workspace/src/common/error_msg.cc:58: Falling back to prediction using DMatrix due to mismatched devices. This might lead to higher memory usage and slower performance. XGBoost is running on: cuda:0, while the input data is on: cpu.\n",
      "Potential solutions:\n",
      "- Use a data structure that matches the device ordinal in the booster.\n",
      "- Set the device for booster before call to inplace_predict.\n",
      "\n",
      "This warning will only be shown once.\n",
      "\n",
      "  warnings.warn(smsg, UserWarning)\n"
     ]
    }
   ],
   "source": [
    "\n",
    "# Define the target variable and features\n",
    "y = df['SalePrice']\n",
    "X = df[optimal_features]\n",
    "\n",
    "#the data is already scaled above, so i dont scale, pca the data anymore.\n",
    "\n",
    "# Initialize the XGBoost model with GPU support\n",
    "xgb_model = xgb.XGBRegressor(tree_method = \"hist\", device = \"cuda\", random_state=42)\n",
    "\n",
    "# Train the XGBoost model\n",
    "xgb_model.fit(X_train_scaled, y_train)\n",
    "\n",
    "# Save the trained model and scaler\n",
    "dump(xgb_model, 'xgb_model.pkl')\n",
    "dump(scaler, 'scaler.pkl')\n",
    "\n",
    "# Load the trained model and scaler\n",
    "xgb_model = load('xgb_model.pkl')\n",
    "scaler = load('scaler.pkl')\n",
    "\n",
    "# Make predictions on the test set\n",
    "predictions = xgb_model.predict(X_test_scaled)\n",
    "\n",
    "# Evaluate the model\n",
    "r2 = r2_score(y_test, predictions)"
   ]
  },
  {
   "cell_type": "code",
   "execution_count": 64,
   "id": "0314995f",
   "metadata": {
    "execution": {
     "iopub.execute_input": "2025-02-13T18:07:21.294122Z",
     "iopub.status.busy": "2025-02-13T18:07:21.293865Z",
     "iopub.status.idle": "2025-02-13T18:07:21.297864Z",
     "shell.execute_reply": "2025-02-13T18:07:21.297042Z"
    },
    "papermill": {
     "duration": 0.031853,
     "end_time": "2025-02-13T18:07:21.299221",
     "exception": false,
     "start_time": "2025-02-13T18:07:21.267368",
     "status": "completed"
    },
    "tags": []
   },
   "outputs": [
    {
     "name": "stdout",
     "output_type": "stream",
     "text": [
      "R-squared: 0.8482206334691162\n"
     ]
    }
   ],
   "source": [
    "print(f'R-squared: {r2}')"
   ]
  },
  {
   "cell_type": "markdown",
   "id": "a1dbd9e1",
   "metadata": {
    "papermill": {
     "duration": 0.025187,
     "end_time": "2025-02-13T18:07:21.349989",
     "exception": false,
     "start_time": "2025-02-13T18:07:21.324802",
     "status": "completed"
    },
    "tags": []
   },
   "source": [
    "# Predicting"
   ]
  },
  {
   "cell_type": "markdown",
   "id": "3d154a0b",
   "metadata": {
    "papermill": {
     "duration": 0.025184,
     "end_time": "2025-02-13T18:07:21.400907",
     "exception": false,
     "start_time": "2025-02-13T18:07:21.375723",
     "status": "completed"
    },
    "tags": []
   },
   "source": [
    "lets try and use the test data"
   ]
  },
  {
   "cell_type": "code",
   "execution_count": 65,
   "id": "496a591f",
   "metadata": {
    "execution": {
     "iopub.execute_input": "2025-02-13T18:07:21.452251Z",
     "iopub.status.busy": "2025-02-13T18:07:21.452024Z",
     "iopub.status.idle": "2025-02-13T18:07:21.477796Z",
     "shell.execute_reply": "2025-02-13T18:07:21.477121Z"
    },
    "papermill": {
     "duration": 0.052832,
     "end_time": "2025-02-13T18:07:21.479020",
     "exception": false,
     "start_time": "2025-02-13T18:07:21.426188",
     "status": "completed"
    },
    "tags": []
   },
   "outputs": [
    {
     "data": {
      "text/html": [
       "<div>\n",
       "<style scoped>\n",
       "    .dataframe tbody tr th:only-of-type {\n",
       "        vertical-align: middle;\n",
       "    }\n",
       "\n",
       "    .dataframe tbody tr th {\n",
       "        vertical-align: top;\n",
       "    }\n",
       "\n",
       "    .dataframe thead th {\n",
       "        text-align: right;\n",
       "    }\n",
       "</style>\n",
       "<table border=\"1\" class=\"dataframe\">\n",
       "  <thead>\n",
       "    <tr style=\"text-align: right;\">\n",
       "      <th></th>\n",
       "      <th>GrLivArea</th>\n",
       "      <th>GarageCars</th>\n",
       "      <th>GarageScore</th>\n",
       "      <th>TotalBath</th>\n",
       "      <th>GarageArea</th>\n",
       "      <th>TotalBsmtSF</th>\n",
       "      <th>HouseQuality</th>\n",
       "      <th>1stFlrSF</th>\n",
       "      <th>FullBath</th>\n",
       "      <th>TotRmsAbvGrd</th>\n",
       "      <th>...</th>\n",
       "      <th>Fireplaces</th>\n",
       "      <th>TotalPorchSF</th>\n",
       "      <th>MasVnrArea</th>\n",
       "      <th>WoodDeckSF</th>\n",
       "      <th>2ndFlrSF</th>\n",
       "      <th>TotalBsmtFinSF</th>\n",
       "      <th>LotRatio</th>\n",
       "      <th>BsmtUnfSF</th>\n",
       "      <th>BedroomAbvGr</th>\n",
       "      <th>Predicted_salePrice</th>\n",
       "    </tr>\n",
       "  </thead>\n",
       "  <tbody>\n",
       "    <tr>\n",
       "      <th>0</th>\n",
       "      <td>896</td>\n",
       "      <td>1.0</td>\n",
       "      <td>2190.0</td>\n",
       "      <td>1.0</td>\n",
       "      <td>730.0</td>\n",
       "      <td>882.0</td>\n",
       "      <td>30</td>\n",
       "      <td>896</td>\n",
       "      <td>1</td>\n",
       "      <td>5</td>\n",
       "      <td>...</td>\n",
       "      <td>0</td>\n",
       "      <td>120</td>\n",
       "      <td>0.0</td>\n",
       "      <td>140</td>\n",
       "      <td>0</td>\n",
       "      <td>612.0</td>\n",
       "      <td>0.006883</td>\n",
       "      <td>270.0</td>\n",
       "      <td>2</td>\n",
       "      <td>7.854651</td>\n",
       "    </tr>\n",
       "    <tr>\n",
       "      <th>1</th>\n",
       "      <td>1329</td>\n",
       "      <td>1.0</td>\n",
       "      <td>936.0</td>\n",
       "      <td>1.5</td>\n",
       "      <td>312.0</td>\n",
       "      <td>1329.0</td>\n",
       "      <td>36</td>\n",
       "      <td>1329</td>\n",
       "      <td>1</td>\n",
       "      <td>6</td>\n",
       "      <td>...</td>\n",
       "      <td>0</td>\n",
       "      <td>36</td>\n",
       "      <td>108.0</td>\n",
       "      <td>393</td>\n",
       "      <td>0</td>\n",
       "      <td>923.0</td>\n",
       "      <td>0.005677</td>\n",
       "      <td>406.0</td>\n",
       "      <td>3</td>\n",
       "      <td>7.942725</td>\n",
       "    </tr>\n",
       "    <tr>\n",
       "      <th>2</th>\n",
       "      <td>1629</td>\n",
       "      <td>2.0</td>\n",
       "      <td>2892.0</td>\n",
       "      <td>2.5</td>\n",
       "      <td>482.0</td>\n",
       "      <td>928.0</td>\n",
       "      <td>25</td>\n",
       "      <td>928</td>\n",
       "      <td>2</td>\n",
       "      <td>6</td>\n",
       "      <td>...</td>\n",
       "      <td>1</td>\n",
       "      <td>34</td>\n",
       "      <td>0.0</td>\n",
       "      <td>212</td>\n",
       "      <td>701</td>\n",
       "      <td>791.0</td>\n",
       "      <td>0.005351</td>\n",
       "      <td>137.0</td>\n",
       "      <td>3</td>\n",
       "      <td>7.907053</td>\n",
       "    </tr>\n",
       "    <tr>\n",
       "      <th>3</th>\n",
       "      <td>1604</td>\n",
       "      <td>2.0</td>\n",
       "      <td>2820.0</td>\n",
       "      <td>2.5</td>\n",
       "      <td>470.0</td>\n",
       "      <td>926.0</td>\n",
       "      <td>36</td>\n",
       "      <td>926</td>\n",
       "      <td>2</td>\n",
       "      <td>7</td>\n",
       "      <td>...</td>\n",
       "      <td>1</td>\n",
       "      <td>36</td>\n",
       "      <td>20.0</td>\n",
       "      <td>360</td>\n",
       "      <td>678</td>\n",
       "      <td>602.0</td>\n",
       "      <td>0.007817</td>\n",
       "      <td>324.0</td>\n",
       "      <td>3</td>\n",
       "      <td>7.961101</td>\n",
       "    </tr>\n",
       "    <tr>\n",
       "      <th>4</th>\n",
       "      <td>1280</td>\n",
       "      <td>2.0</td>\n",
       "      <td>3036.0</td>\n",
       "      <td>2.0</td>\n",
       "      <td>506.0</td>\n",
       "      <td>1280.0</td>\n",
       "      <td>40</td>\n",
       "      <td>1280</td>\n",
       "      <td>2</td>\n",
       "      <td>5</td>\n",
       "      <td>...</td>\n",
       "      <td>0</td>\n",
       "      <td>226</td>\n",
       "      <td>0.0</td>\n",
       "      <td>0</td>\n",
       "      <td>0</td>\n",
       "      <td>263.0</td>\n",
       "      <td>0.008591</td>\n",
       "      <td>1017.0</td>\n",
       "      <td>2</td>\n",
       "      <td>8.031484</td>\n",
       "    </tr>\n",
       "  </tbody>\n",
       "</table>\n",
       "<p>5 rows × 21 columns</p>\n",
       "</div>"
      ],
      "text/plain": [
       "   GrLivArea  GarageCars  GarageScore  TotalBath  GarageArea  TotalBsmtSF  \\\n",
       "0        896         1.0       2190.0        1.0       730.0        882.0   \n",
       "1       1329         1.0        936.0        1.5       312.0       1329.0   \n",
       "2       1629         2.0       2892.0        2.5       482.0        928.0   \n",
       "3       1604         2.0       2820.0        2.5       470.0        926.0   \n",
       "4       1280         2.0       3036.0        2.0       506.0       1280.0   \n",
       "\n",
       "   HouseQuality  1stFlrSF  FullBath  TotRmsAbvGrd  ...  Fireplaces  \\\n",
       "0            30       896         1             5  ...           0   \n",
       "1            36      1329         1             6  ...           0   \n",
       "2            25       928         2             6  ...           1   \n",
       "3            36       926         2             7  ...           1   \n",
       "4            40      1280         2             5  ...           0   \n",
       "\n",
       "   TotalPorchSF  MasVnrArea  WoodDeckSF  2ndFlrSF  TotalBsmtFinSF  LotRatio  \\\n",
       "0           120         0.0         140         0           612.0  0.006883   \n",
       "1            36       108.0         393         0           923.0  0.005677   \n",
       "2            34         0.0         212       701           791.0  0.005351   \n",
       "3            36        20.0         360       678           602.0  0.007817   \n",
       "4           226         0.0           0         0           263.0  0.008591   \n",
       "\n",
       "   BsmtUnfSF  BedroomAbvGr  Predicted_salePrice  \n",
       "0      270.0             2             7.854651  \n",
       "1      406.0             3             7.942725  \n",
       "2      137.0             3             7.907053  \n",
       "3      324.0             3             7.961101  \n",
       "4     1017.0             2             8.031484  \n",
       "\n",
       "[5 rows x 21 columns]"
      ]
     },
     "execution_count": 65,
     "metadata": {},
     "output_type": "execute_result"
    }
   ],
   "source": [
    "df_test=df_test.copy()\n",
    "# Ensure the new data has the same features\n",
    "X_new = df_test[optimal_features]\n",
    "\n",
    "# Apply the same preprocessing steps\n",
    "X_new_scaled = scaler.transform(X_new)\n",
    "\n",
    "# Make predictions on the new data\n",
    "new_predictions = xgb_model.predict(X_new_scaled)\n",
    "\n",
    "# Add predictions to the new data using .loc\n",
    "df_test.loc[:, 'Predicted_salePrice'] = new_predictions\n",
    "# df_test.to_csv('predicted_new_dataset.csv', index=False)\n",
    "\n",
    "df_test.head()"
   ]
  },
  {
   "cell_type": "code",
   "execution_count": 66,
   "id": "0fbf1f70",
   "metadata": {
    "execution": {
     "iopub.execute_input": "2025-02-13T18:07:21.531450Z",
     "iopub.status.busy": "2025-02-13T18:07:21.531250Z",
     "iopub.status.idle": "2025-02-13T18:07:21.538109Z",
     "shell.execute_reply": "2025-02-13T18:07:21.537440Z"
    },
    "papermill": {
     "duration": 0.03424,
     "end_time": "2025-02-13T18:07:21.539209",
     "exception": false,
     "start_time": "2025-02-13T18:07:21.504969",
     "status": "completed"
    },
    "tags": []
   },
   "outputs": [
    {
     "name": "stdout",
     "output_type": "stream",
     "text": [
      "linear          11529.831055\n",
      "randomforest    11758.884184\n",
      "dtype: float64\n"
     ]
    }
   ],
   "source": [
    "# Define df_conclusion as an empty DataFrame with the desired columns\n",
    "df_conclusion = pd.DataFrame(columns=['linear', 'randomforest'])\n",
    "\n",
    "# Assign values to the columns\n",
    "df_conclusion['linear'] = df_test['Predicted_salePrice']\n",
    "df_conclusion['randomforest'] = df_test_rando['Predicted_salePrice']\n",
    "\n",
    "# Display the DataFrame\n",
    "print(df_conclusion.sum())\n"
   ]
  },
  {
   "cell_type": "code",
   "execution_count": 67,
   "id": "e93220b5",
   "metadata": {
    "execution": {
     "iopub.execute_input": "2025-02-13T18:07:21.591563Z",
     "iopub.status.busy": "2025-02-13T18:07:21.591338Z",
     "iopub.status.idle": "2025-02-13T18:07:21.607679Z",
     "shell.execute_reply": "2025-02-13T18:07:21.606887Z"
    },
    "papermill": {
     "duration": 0.044148,
     "end_time": "2025-02-13T18:07:21.608923",
     "exception": false,
     "start_time": "2025-02-13T18:07:21.564775",
     "status": "completed"
    },
    "tags": []
   },
   "outputs": [
    {
     "data": {
      "text/html": [
       "<div>\n",
       "<style scoped>\n",
       "    .dataframe tbody tr th:only-of-type {\n",
       "        vertical-align: middle;\n",
       "    }\n",
       "\n",
       "    .dataframe tbody tr th {\n",
       "        vertical-align: top;\n",
       "    }\n",
       "\n",
       "    .dataframe thead th {\n",
       "        text-align: right;\n",
       "    }\n",
       "</style>\n",
       "<table border=\"1\" class=\"dataframe\">\n",
       "  <thead>\n",
       "    <tr style=\"text-align: right;\">\n",
       "      <th></th>\n",
       "      <th>Id</th>\n",
       "      <th>SalePrice</th>\n",
       "    </tr>\n",
       "  </thead>\n",
       "  <tbody>\n",
       "    <tr>\n",
       "      <th>0</th>\n",
       "      <td>1461</td>\n",
       "      <td>7.854651</td>\n",
       "    </tr>\n",
       "    <tr>\n",
       "      <th>1</th>\n",
       "      <td>1462</td>\n",
       "      <td>7.942725</td>\n",
       "    </tr>\n",
       "    <tr>\n",
       "      <th>2</th>\n",
       "      <td>1463</td>\n",
       "      <td>7.907053</td>\n",
       "    </tr>\n",
       "    <tr>\n",
       "      <th>3</th>\n",
       "      <td>1464</td>\n",
       "      <td>7.961101</td>\n",
       "    </tr>\n",
       "    <tr>\n",
       "      <th>4</th>\n",
       "      <td>1465</td>\n",
       "      <td>8.031484</td>\n",
       "    </tr>\n",
       "  </tbody>\n",
       "</table>\n",
       "</div>"
      ],
      "text/plain": [
       "     Id  SalePrice\n",
       "0  1461   7.854651\n",
       "1  1462   7.942725\n",
       "2  1463   7.907053\n",
       "3  1464   7.961101\n",
       "4  1465   8.031484"
      ]
     },
     "execution_count": 67,
     "metadata": {},
     "output_type": "execute_result"
    }
   ],
   "source": [
    "submission=pd.DataFrame()\n",
    "submission['Id']=Id\n",
    "submission['Id'] = submission['Id'].astype(int)\n",
    "submission['SalePrice']=df_conclusion['linear']\n",
    "\n",
    "submission.to_csv('submission.csv', index=False)\n",
    "submission.head()\n"
   ]
  },
  {
   "cell_type": "markdown",
   "id": "0d4dd67e",
   "metadata": {
    "papermill": {
     "duration": 0.026018,
     "end_time": "2025-02-13T18:07:21.661173",
     "exception": false,
     "start_time": "2025-02-13T18:07:21.635155",
     "status": "completed"
    },
    "tags": []
   },
   "source": [
    "so in conclusion, this note book uses  mean imputation for numeric, mode imputation for categoric, feature engineering for data cleaning. as for the data understanding, i use skewness,correlation map, df.info, and describe. and i use Recursive Feature Elimination with Cross-Validation to select the optimal feature to be used. \n",
    "\n",
    "and from that i deemed that ill use liniear regression as it have a rather smaller rmse than the random forest in this dataset.\n",
    "\n",
    "after doing all that the accuracy that i get is 85% which is a good enough number for this price prediction but can be optimized further."
   ]
  }
 ],
 "metadata": {
  "kaggle": {
   "accelerator": "nvidiaTeslaT4",
   "dataSources": [
    {
     "databundleVersionId": 111096,
     "sourceId": 10211,
     "sourceType": "competition"
    }
   ],
   "dockerImageVersionId": 30886,
   "isGpuEnabled": true,
   "isInternetEnabled": true,
   "language": "python",
   "sourceType": "notebook"
  },
  "kernelspec": {
   "display_name": "Python 3",
   "language": "python",
   "name": "python3"
  },
  "language_info": {
   "codemirror_mode": {
    "name": "ipython",
    "version": 3
   },
   "file_extension": ".py",
   "mimetype": "text/x-python",
   "name": "python",
   "nbconvert_exporter": "python",
   "pygments_lexer": "ipython3",
   "version": "3.10.12"
  },
  "papermill": {
   "default_parameters": {},
   "duration": 88.536151,
   "end_time": "2025-02-13T18:07:22.306069",
   "environment_variables": {},
   "exception": null,
   "input_path": "__notebook__.ipynb",
   "output_path": "__notebook__.ipynb",
   "parameters": {},
   "start_time": "2025-02-13T18:05:53.769918",
   "version": "2.6.0"
  }
 },
 "nbformat": 4,
 "nbformat_minor": 5
}
